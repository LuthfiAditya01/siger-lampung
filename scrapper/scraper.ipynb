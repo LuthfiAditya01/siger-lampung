{
 "cells": [
  {
   "cell_type": "code",
   "execution_count": 1,
   "id": "c95ffc81",
   "metadata": {},
   "outputs": [],
   "source": [
    "import mysql.connector"
   ]
  },
  {
   "cell_type": "code",
   "execution_count": 2,
   "id": "831ff267",
   "metadata": {},
   "outputs": [],
   "source": [
    "import httpx\n",
    "import asyncio\n",
    "import datetime\n",
    "import pandas as pd\n",
    "import streamlit as st\n",
    "from selectolax.parser import HTMLParser\n",
    "from typing import List, Dict, Union\n",
    "import mysql.connector"
   ]
  },
  {
   "cell_type": "code",
   "execution_count": 4,
   "id": "88051347",
   "metadata": {},
   "outputs": [],
   "source": [
    "async def fetch_page(url: str, params: dict, headers: dict) -> Union[str, None]:\n",
    "    \"\"\"Fetch a webpage content with error handling.\"\"\"\n",
    "    async with httpx.AsyncClient() as client:\n",
    "        try:\n",
    "            response = await client.get(url, params=params, headers=headers, timeout=10.0)\n",
    "            return response.text\n",
    "        except httpx.TimeoutException:\n",
    "            st.error(f\"Timeout: unable to connect to {url}. Please try again.\")\n",
    "            return None\n",
    "        except httpx.HTTPStatusError as e:\n",
    "            st.error(f\"HTTP error: {str(e)}\")\n",
    "            return None"
   ]
  },
  {
   "cell_type": "code",
   "execution_count": 5,
   "id": "199c637d",
   "metadata": {},
   "outputs": [],
   "source": [
    "async def parse_content(url: str) -> str:\n",
    "    \"\"\"Extract content from a given URL.\"\"\"\n",
    "    html = await fetch_page(url, {}, {})\n",
    "    # if not html:\n",
    "    #     return \"Error fetching content.\"\n",
    "\n",
    "    parser = HTMLParser(html)\n",
    "    paragraphs = [p.text() for p in parser.css('div.detail__body-text > p')]\n",
    "    return \"\\n\".join(paragraphs) if paragraphs else \"No content available.\""
   ]
  },
  {
   "cell_type": "code",
   "execution_count": 28,
   "id": "7130cd78",
   "metadata": {},
   "outputs": [],
   "source": [
    "# url = \"https://lampung.tribunnews.com/search?q=&cx=partner-pub-016364a8b29784e5c&cof=FORID%3A10&ie=UTF-8&siteurl=www.tribunnews.com#gsc.tab=0\"\n",
    "# url = \"https://www.detik.com/search/searchall?\"\n",
    "url = \"https://lampung.tribunnews.com/search?q=dtsen&cx=partner-pub-016364a8b29784e5c&cof=FORID%3A10&ie=UTF-8&siteurl=www.tribunnews.com#gsc.tab=0&gsc.q=dtsen&gsc.page=1\"\n",
    "headers = {\n",
    "        \"User-Agent\": \"Mozilla/5.0 (Windows NT 10.0; Win64; x64) AppleWebKit/537.36 (KHTML, like Gecko) Chrome/244.178.44.111 Safari/537.36\",\n",
    "    }\n"
   ]
  },
  {
   "cell_type": "code",
   "execution_count": 29,
   "id": "cd2ec972",
   "metadata": {},
   "outputs": [
    {
     "data": {
      "text/plain": [
       "'<!DOCTYPE html>\\n<html lang=\"id-ID\" itemscope=\"itemscope\" itemtype=\"https://schema.org/WebPage\">\\n<head>\\n<title>Hasil pencarian untuk  - Tribunlampung.co.id</title>\\n<link href=\"//securepubads.g.doubleclick.net\" rel=\"dns-prefetch\">\\n<link href=\"//asset-1.tribunnews.com\" rel=\"dns-prefetch\">\\n<link href=\"//asset-2.tribunnews.com\" rel=\"dns-prefetch\">\\n<link href=\"//asset-3.tribunnews.com\" rel=\"dns-prefetch\">\\n<link href=\"//tpc.googlesyndication.com\" rel=\"dns-prefetch\">\\n<link href=\"//cm.g.doubleclick.net\" rel=\"dns-prefetch\">\\n<link href=\"//lampung.tribunnews.com\" rel=\"dns-prefetch\">\\n<link rel=\"dns-prefetch\" href=\"https://www.facebook.com\">\\n<link rel=\"preconnect\" href=\"https://www.googletagmanager.com\">\\n<link rel=\"preconnect\" href=\"https://www.google-analytics.com\">\\n<link rel=\"preload\" href=\"https://asset-1.tribunnews.com/css/theme25/network/web-daerah-250721.min.css\" as=\"style\">\\n<link rel=\"preload\" href=\"//maxcdn.bootstrapcdn.com/font-awesome/4.5.0/css/font-awesome.min.css\" as=\"style\">\\n<link rel=\"preload\" href=\"https://asset-1.tribunnews.com/js/jquery/jquery-3.6.3.min.js\" as=\"script\">\\n<link rel=\"preload\" href=\"https://securepubads.g.doubleclick.net/tag/js/gpt.js\" as=\"script\">\\n<link rel=\"preconnect\" href=\"https://fonts.googleapis.com\">\\n<link rel=\"preconnect\" href=\"https://fonts.gstatic.com\" crossorigin>\\n<link rel=\"preconnect\" href=\"https://scripts.jixie.media\" />\\n\\n<meta http-equiv=\"Content-Type\" content=\"text/html; charset=UTF-8\" />\\n<meta name=\"viewport\" content=\"width=device-width, initial-scale=1\">\\n<meta name=\"description\" content=\"Hasil pencarian untuk  Tribunlampung.co.id : \" />\\n<meta name=\"google-site-verification\" content=\"m1rJaolRgi4KZ_yfD1gNchBXhcW0dpgVP97v4gT55P4\" />\\n<meta name=\"dailymotion-domain-verification\" content=\"dm7g3g9ekdp4yfz80\" />\\n<meta name=\"robots\" content=\"index, follow,max-image-preview:large\"/>\\n<meta name=\"googlebot-news\" content=\"index,follow\"/>\\n<meta name=\"googlebot\" content=\"index,follow\"/>\\n\\t<link rel=\"canonical\" href=\"https://lampung.tribunnews.com/search\"/>\\n\\n\\n<meta property=\"fb:pages\" content=\"915218181823270\" />\\n\\n<meta property=\"fb:app_id\" content=\"114488588566911\" />\\n<meta property=\"og:site_name\" content=\"Tribunlampung.co.id\"/>\\n<meta name=\"yandex-verification\" content=\"de8037c553927932\" />\\n\\n\\n<link rel=\"shortcut icon\" href=\"https://asset-1.tribunnews.com/img/icon/favicon/favicon.ico\" />\\n<link rel=\"icon\" type=\"image/vnd.microsoft.icon\" href=\"https://asset-1.tribunnews.com/img/icon/favicon/favicon.ico\"/>\\n<link rel=\"apple-touch-icon-precomposed\" href=\"https://asset-1.tribunnews.com/img/icon/tribun-icon_128.png\"/>\\n<link href=\"https://plus.google.com/+tribunnews/\" rel=\"Publisher\" />\\n<link rel=\"alternate\" type=\"application/rss+xml\" title=\"Tribunlampung.co.id\" href=\"https://lampung.tribunnews.com/rss\" />\\n<link rel=\"preload\" href=\"https://fonts.googleapis.com/css2?family=Crimson+Text&family=Karla:wght@400;700&display=swap\" as=\"font\" type=\"font/woff2\" crossorigin=\"anonymous\">\\n<link href=\"https://fonts.googleapis.com/css2?family=Crimson+Text&family=Karla:wght@400;700&display=swap\" rel=\"stylesheet\">\\n<link rel=\"stylesheet\" href=\"https://asset-1.tribunnews.com/css/theme25/network/web-daerah-250721.min.css\" id=\"stylesheet\"  type=\"text/css\" />\\n<link rel=\"stylesheet\" href=\"//maxcdn.bootstrapcdn.com/font-awesome/4.3.0/css/font-awesome.min.css\">\\n\\n<script type=\"text/javascript\" src=\"https://asset-1.tribunnews.com/js/jquery/jquery-3.6.3.min.js\"></script>\\n<script type=\"text/javascript\" src=\"https://asset-1.tribunnews.com/js/tribun/tribun_desktop_082023.min.js\" defer></script>\\n<script type=\"text/javascript\" src=\"https://asset-1.tribunnews.com/js/bxslider/jquery_3_bxslider_2023.min.js\" defer></script>\\n\\n\\n\\n<!-- livestreaming page -->\\n<!-- livestreaming page -->\\n<!-- Google Tag Manager -->\\n<script>(function(w,d,s,l,i){w[l]=w[l]||[];w[l].push({\\'gtm.start\\':\\nnew Date().getTime(),event:\\'gtm.js\\'});var f=d.getElementsByTagName(s)[0],\\nj=d.createElement(s),dl=l!=\\'dataLayer\\'?\\'&l=\\'+l:\\'\\';j.async=true;j.src=\\n\\'https://www.googletagmanager.com/gtm.js?id=\\'+i+dl;f.parentNode.insertBefore(j,f);\\n})(window,document,\\'script\\',\\'dataLayer\\',\\'GTM-NNJ5M3B\\');</script>\\n<!-- End Google Tag Manager -->\\n\\n<!-- schema -->\\n<script type=\"application/ld+json\">\\n\\t[\\n\\t  {\\n\\t\\t\"@context\": \"https://schema.org\",\\n\\t\\t\"@type\": \"NewsMediaOrganization\",\\n\\t\\t\"name\": \"Tribunlampung.co.id\",\\n\\t\\t\"url\": \"https://lampung.tribunnews.com/\",\\n\\t\\t\"description\": \"Hasil pencarian untuk  Tribunlampung.co.id : \",\\n\\t\\t\"logo\": {\\n\\t\\t  \"@type\": \"ImageObject\",\\n\\t\\t  \"url\": \"https://asset-1.tribunnews.com/img/logo/daerah/png3/tribunlampung.png\",\\n\\t\\t  \"width\": 200,\\n\\t\\t  \"height\": 40\\n\\t\\t},\\n\\t\\t\"sameAs\": [\\n\\t\\t\\t\"https://www.facebook.com/tribunnews.lampung\",\\n\\t\\t\\t\"https://twitter.com/tribunlampung_\",\\n\\t\\t\\t\"https://instagram.com/tribunlampung/\",\\n\\t\\t\\t\"https://www.youtube.com/c/TRIBUNLAMPUNGNEWSVIDEO?sub_confirmation=1\",\\n\\t\\t\\t\"https://www.tiktok.com/@tribunlampung\"\\n\\t\\t]\\n\\t  },\\n\\t  {\\n\\t\\t\"@context\": \"https://schema.org\",\\n\\t\\t\"@type\": \"WebSite\",\\n\\t\\t\"name\": \"Tribunlampung.co.id\",\\n\\t\\t\"url\": \"https://lampung.tribunnews.com/\",\\n\\t\\t\"potentialAction\": {\\n\\t\\t  \"@type\": \"SearchAction\",\\n\\t\\t  \"target\": \"https://lampung.tribunnews.com/search?q={search_term_string}\",\\n\\t\\t  \"query-input\": \"required name=search_term_string\"\\n\\t\\t}\\n\\t  }\\n\\t]\\n</script>\\n<!-- schema -->\\n\\n\\n<!-- <script async src=\"https://securepubads.g.doubleclick.net/tag/js/gpt.js\"></script> -->\\n<script>\\n(function() {\\n  const botUserAgents = [\\n    /bot/i,\\n    /crawler/i,\\n    /spider/i,\\n    /crawling/i,\\n    /facebookexternalhit/i,\\n    /WhatsApp/i,\\n    /Slackbot/i,\\n    /TelegramBot/i,\\n    /BingPreview/i,\\n    /Google-Structured-Data-Testing-Tool/i,\\n    /HeadlessChrome/i,\\n    /python-requests/i,\\n    /wget/i,\\n    /curl/i\\n  ];\\n\\n  const userAgent = navigator.userAgent || \"\";\\n  const isBot = botUserAgents.some(pattern => pattern.test(userAgent));\\n\\n  const criticalEndpoints = [\\n    \\'https://www.googletagservices.com/tag/js/gpt.js\\',\\n    \\'https://securepubads.g.doubleclick.net/tag/js/gpt.js\\',\\n    \\'https://pagead2.googlesyndication.com/pagead/js/adsbygoogle.js\\',\\n    \\'https://tpc.googlesyndication.com/pagead/js/adsbygoogle.js\\'\\n  ];\\n\\n  function checkEndpoints(endpoints, callback) {\\n    let checks = 0;\\n    let passed = 0;\\n\\n    endpoints.forEach(url => {\\n      fetch(url, { method: \\'HEAD\\', mode: \\'no-cors\\', cache: \\'no-store\\' })\\n        .then(() => {\\n          passed++;\\n          checks++;\\n          if (checks === endpoints.length) callback(passed === endpoints.length);\\n        })\\n        .catch(() => {\\n          checks++;\\n          if (checks === endpoints.length) callback(false);\\n        });\\n    });\\n  }\\n\\n  if (!isBot) {\\n    document.addEventListener(\\'DOMContentLoaded\\', function () {\\n      checkEndpoints(criticalEndpoints, function (allAvailable) {\\n        if (allAvailable) {\\n          const gads = document.createElement(\\'script\\');\\n          gads.async = true;\\n          gads.type = \\'text/javascript\\';\\n          gads.src = \\'https://securepubads.g.doubleclick.net/tag/js/gpt.js\\';\\n          const node = document.getElementsByTagName(\\'script\\')[0];\\n          node.parentNode.insertBefore(gads, node);\\n\\n          console.log(\"GPT Loaded for human user with clean connection\");\\n        } else {\\n          console.log(\"Google Ads endpoints blocked, GPT not loaded.\");\\n        }\\n      });\\n    });\\n  } else {\\n    console.log(\"Ad Manager blocked for suspected bot:\", userAgent);\\n  }\\n})();\\n</script>\\n<!-- keyword targeting GAM -->\\n<!-- keyword targeting GAM -->\\n\\n<!-- Start Ad Blocking Recovery Message -->\\n<script async src=\"https://fundingchoicesmessages.google.com/i/pub-9012468469771973?ers=1\" nonce=\"jV9A0Qp8FYlkipTSA06yhQ\"></script><script nonce=\"jV9A0Qp8FYlkipTSA06yhQ\">(function() {function signalGooglefcPresent() {if (!window.frames[\\'googlefcPresent\\']) {if (document.body) {const iframe = document.createElement(\\'iframe\\'); iframe.style = \\'width: 0; height: 0; border: none; z-index: -1000; left: -1000px; top: -1000px;\\'; iframe.style.display = \\'none\\'; iframe.name = \\'googlefcPresent\\'; document.body.appendChild(iframe);} else {setTimeout(signalGooglefcPresent, 0);}}}signalGooglefcPresent();})();</script>\\n<!-- Endof Ad Blocking Recovery Message -->\\n\\n<!--Prebid GPT NON NEWS-->\\n<!-- Prebid R2B2 -->\\n<script type=\"text/javascript\">\\nwindow.AdTrack=window.AdTrack||{},window.pbjs=window.pbjs||{},pbjs.que=pbjs.que||[],function(e){var t;e.AdTrack.PrebidAdapter||(e.AdTrack.PrebidAdapter={callBids:function(){var e=Array.prototype.slice.call(arguments,0);t.push({method:\"callBids\",args:e,time:(new Date).getTime()})},event:function(e,n){n=Array.prototype.slice.call(n,0);e=\"ev\"+e;\"function\"==typeof AdTrack.PrebidAdapter[e]?AdTrack.PrebidAdapter[e].apply(AdTrack.PrebidAdapter,n):t.push({method:e,args:n,time:(new Date).getTime()})},cmdQueue:t=[]})}(window),pbjs.que.push(function(){pbjs.registerBidAdapter(function(){return AdTrack.PrebidAdapter},\"r2b2\"),pbjs.onEvent(\"bidRequested\",function(){AdTrack.PrebidAdapter.event(\"BidRequested\",arguments)}),pbjs.onEvent(\"bidResponse\",function(){AdTrack.PrebidAdapter.event(\"BidResponse\",arguments)}),pbjs.onEvent(\"auctionEnd\",function(){AdTrack.PrebidAdapter.event(\"AuctionEnd\",arguments)}),pbjs.onEvent(\"bidWon\",function(){AdTrack.PrebidAdapter.event(\"BidWon\",arguments)}),pbjs.onEvent(\"auctionInit\",function(){AdTrack.PrebidAdapter.event(\"AuctionInit\",arguments)}),pbjs.onEvent(\"bidTimeout\",function(){AdTrack.PrebidAdapter.event(\"BidTimeout\",arguments)})});\\n</script>\\n<!-- Prebid R2B2 -->\\n<!-- Start jixie prebid tracker -->\\n<script type=\"text/javascript\">\\nwindow.pbjs=window.pbjs||{},pbjs.que=pbjs.que||[],pbjs.que.push(function(){window._jxbidsq=window._jxbidsq||[],pbjs.onEvent(\"auctionInit\",function(n){_jxbidsq.push([\"auctionInit\",n])}),pbjs.onEvent(\"auctionEnd\",function(n){_jxbidsq.push([\"auctionEnd\",n])}),pbjs.onEvent(\"bidWon\",function(n){_jxbidsq.push([\"bidWon\",n])}),pbjs.onEvent(\"bidTimeout\",function(n){_jxbidsq.push([\"bidTimeout\",n])}),pbjs.onEvent(\"bidRequested\",function(n){_jxbidsq.push([\"bidRequested\",n])}),pbjs.onEvent(\"setTargeting\",function(n){_jxbidsq.push([\"setTargeting\",n])}),pbjs.onEvent(\"bidResponse\",function(n){_jxbidsq.push([\"bidResponse\",n])})}),window.googletag=window.googletag||{cmd:[]},googletag.cmd.push(function(){googletag.pubads().addEventListener(\"slotRenderEnded\",function(n){_jxbidsq.push([\"slotRenderEnded\",n])}),googletag.pubads().addEventListener(\"impressionViewable\",function(n){_jxbidsq.push([\"impressionViewable\",n])})});\\n</script>\\n<!-- End jixie prebid tracker -->\\n<!-- Start UUID -->\\n<script>function getCookieUid(cname){var name=cname+\"=\";var decodedCookie=decodeURIComponent(document.cookie);var ca=decodedCookie.split(\";\");for(var i=0;i<ca.length;i++){var c=ca[i];while(c.charAt(0)==\" \"){c=c.substring(1);}if(c.indexOf(name)==0){return c.substring(name.length,c.length);}}return\"\";}var uuid__=getCookieUid(\"_jxtdid\");window.getUid2AdvertisingToken=async ()=>{var id; if (typeof window.jxGetUid2==\\'function\\'){id=await window.jxGetUid2();}else{id=getCookieUid(\\'__uid2_advertising_token\\', null);}return id;}</script>\\n<!-- Endof UUID -->\\n<!-- prebid Vignette -->\\n   \\n<!-- Start Prebid JS --> <script src=\"https://asset-3.tribunnews.com/ads/prebid/prebid10.1.0.js\" async></script>  <!-- End Prebid JS -->\\n<!-- Start R2B2 JS --> <script async type=\"text/javascript\" src=\"//delivery.r2b2.io/hb/kompasGramedia/tribunnews.com_desktop\"></script> <!-- End R2B2 JS -->\\n   \\n<script>var PREBID_TIMEOUT=2000,FAILSAFE_TIMEOUT=3e3,adUnits=[{code:\"div-Top-Leaderboard\",ortb2Imp:{ext:{gpid:\"1000008-MQBDAFGV7W\",data:{pbadslot:\"1000008-MQBDAFGV7W\"}}},mediaTypes:{banner:{sizes:[[728,90],[970,90],[970,250]]}},bids:[{bidder:\"openx\",params:{unit:\"540782279\",delDomain:\"kompascybermedia-d.openx.net\"}},{bidder:\"ix\",params:{siteId:450352,size:[728,90]}},{bidder:\"ix\",params:{siteId:450352,size:[970,90]}},{bidder:\"ix\",params:{siteId:450352,size:[970,250]}},{bidder:\"triplelift\",params:{inventoryCode:\"kg_TribunNews_desktop_article_top\"}},{bidder:\"smartadserver\",params:{networkId:\"3727\",siteId:\"363582\",pageId:\"1293732\",formatId:\"96602\",domain:\"https://prg8.smartadserver.com\"}},{bidder:\"jixie\",params:{unit:\"1000008-MQBDAFGV7W\"}},{bidder:\"teads\",params:{placementId:165940,pageId:151701}},{bidder:\"r2b2\",params:{d:\"tribunnews.com\",g:\"hb\",p:\"970x250_1\",m:0}},{bidder:\"rubicon\",params:{accountId:11834,siteId:434108,zoneId:2484472}},{bidder:\"gumgum\",params:{zone:\"aoxjexrk\",slot:986408}},{bidder:\"gumgum\",params:{zone:\"aoxjexrk\",slot:986409}},{bidder:\"pstudio\",params:{pubid:\"9e680c92-bdf1-41b0-a7f7-281d394574df\",adtagid:\"36d4dce4-93b9-4a3c-98d3-f8673b082e5b\"}},{bidder:\"kargo\",params:{placementId:\"_edjBo72VQI\"}}]},{code:\"div-Left-WideSkyscraper\",ortb2Imp:{ext:{gpid:\"1000008-eB8ICmLAGS\",data:{pbadslot:\"1000008-eB8ICmLAGS\"}}},mediaTypes:{banner:{sizes:[[120,600],[160,600]]}},bids:[{bidder:\"openx\",params:{unit:\"540782279\",delDomain:\"kompascybermedia-d.openx.net\"}},{bidder:\"triplelift\",params:{inventoryCode:\"kg_TribunNews_desktop_StandardDisplay\"}},{bidder:\"ix\",params:{siteId:450352,size:[160,600]}},{bidder:\"smartadserver\",params:{networkId:\"3727\",siteId:\"363582\",pageId:\"1293732\",formatId:\"93801\",domain:\"https://prg8.smartadserver.com\"}},{bidder:\"jixie\",params:{unit:\"1000008-eB8ICmLAGS\"}},{bidder:\"teads\",params:{placementId:165940,pageId:151701}},{bidder:\"r2b2\",params:{d:\"tribunnews.com\",g:\"hb\",p:\"160x600\",m:0}},{bidder:\"gumgum\",params:{zone:\"aoxjexrk\",slot:986410}},{bidder:\"pstudio\",params:{pubid:\"9e680c92-bdf1-41b0-a7f7-281d394574df\",adtagid:\"f781e2f0-5215-4066-8ee7-f50698282b56\"}}]},{code:\"div-Right-MediumRectangle-1\",ortb2Imp:{ext:{gpid:\"1000008-P1sl19Yfsy\",data:{pbadslot:\"1000008-P1sl19Yfsy\"}}},mediaTypes:{banner:{sizes:[[300,600],[300,250]]},video:{context:\"outstream\",playerSize:[300,250],api:[1,2],protocols:[2,3,5,6],minduration:5,maxduration:30,mimes:[\"video/mp4\",\"application/javascript\"],placement:2,linearity:1,delivery:[1,2],plcmt:4}},bids:[{bidder:\"openx\",params:{unit:\"540782279\",delDomain:\"kompascybermedia-d.openx.net\"}},{bidder:\"ix\",params:{siteId:450352,size:[300,600]}},{bidder:\"ix\",params:{siteId:450352,size:[300,250]}},{bidder:\"triplelift\",params:{inventoryCode:\"kg_TribunNews_desktop_article_rhs_1\"}},{bidder:\"smartadserver\",params:{networkId:\"3727\",siteId:\"363582\",pageId:\"1293732\",formatId:\"96604\",domain:\"https://prg8.smartadserver.com\"}},{bidder:\"jixie\",params:{unit:\"1000008-P1sl19Yfsy\"}},{bidder:\"teads\",params:{placementId:165940,pageId:151701}},{bidder:\"r2b2\",params:{d:\"tribunnews.com\",g:\"hb\",p:\"300x600_1\",m:0}},{bidder:\"r2b2\",params:{d:\"tribunnews.com\",g:\"hb\",p:\"300x250\",m:0}},{bidder:\"rubicon\",params:{accountId:11834,siteId:434108,zoneId:2484476}},{bidder:\"gumgum\",params:{zone:\"aoxjexrk\",slot:986411}},{bidder:\"gumgum\",params:{zone:\"aoxjexrk\",slot:986412}},{bidder:\"pstudio\",params:{pubid:\"9e680c92-bdf1-41b0-a7f7-281d394574df\",adtagid:\"3bacf8b8-b05c-408b-8e15-23db52c6a394\"}},{bidder:\"kargo\",params:{placementId:\"_f61bjpPYO4\"}}]},{code:\"div-Right-MediumRectangle-2\",ortb2Imp:{ext:{gpid:\"1000008-wRF7WflMRD\",data:{pbadslot:\"1000008-wRF7WflMRD\"}}},mediaTypes:{banner:{sizes:[[300,250],[300,600]]},video:{context:\"outstream\",playerSize:[300,250],api:[1,2],protocols:[2,3,5,6],minduration:5,maxduration:30,mimes:[\"video/mp4\",\"application/javascript\"],placement:2,linearity:1,delivery:[1,2],plcmt:4}},bids:[{bidder:\"openx\",params:{unit:\"540782279\",delDomain:\"kompascybermedia-d.openx.net\"}},{bidder:\"openx\",params:{unit:\"560842543\",delDomain:\"kompascybermedia-d.openx.net\"}},{bidder:\"ix\",params:{siteId:450352,size:[300,250]}},{bidder:\"ix\",params:{siteId:450352,size:[300,250],video:{api:[1,2],protocols:[2,3,5,6],minduration:5,maxduration:30,mimes:[\"video/mp4\",\"application/javascript\"],placement:4,linearity:1,delivery:[1,2],playerSize:[640,480],pos:1,plcmt:4}}},{bidder:\"triplelift\",params:{inventoryCode:\"kg_TribunNews_desktop_article_rhs_2\"}},{bidder:\"smartadserver\",params:{networkId:\"3727\",siteId:\"363582\",pageId:\"1293732\",formatId:\"93800\",domain:\"https://prg8.smartadserver.com\"}},{bidder:\"jixie\",params:{unit:\"1000008-wRF7WflMRD\"}},{bidder:\"teads\",params:{placementId:165940,pageId:151701}},{bidder:\"rubicon\",params:{accountId:11834,siteId:434108,zoneId:2484478}},{bidder:\"gumgum\",params:{zone:\"aoxjexrk\",slot:986413}},{bidder:\"rubicon\",params:{accountId:11834,siteId:434108,zoneId:2484478}},{bidder:\"pstudio\",params:{pubid:\"9e680c92-bdf1-41b0-a7f7-281d394574df\",adtagid:\"9f28a43d-d58a-4218-91b2-a607a1dc65af\"}},{bidder:\"kargo\",params:{placementId:\"_f61bjpPYO4\"}}]},{code:\"div-Right-MediumRectangle-3\",ortb2Imp:{ext:{gpid:\"1000008-sOguZkCyBp\",data:{pbadslot:\"1000008-sOguZkCyBp\"}}},mediaTypes:{banner:{sizes:[[300,600],[300,250]]},video:{context:\"outstream\",playerSize:[300,250],api:[1,2],protocols:[2,3,5,6],minduration:5,maxduration:30,mimes:[\"video/mp4\",\"application/javascript\"],placement:2,linearity:1,delivery:[1,2],plcmt:4}},bids:[{bidder:\"openx\",params:{unit:\"540782279\",delDomain:\"kompascybermedia-d.openx.net\"}},{bidder:\"ix\",params:{siteId:450352,size:[300,600]}},{bidder:\"ix\",params:{siteId:450352,size:[300,250]}},{bidder:\"triplelift\",params:{inventoryCode:\"kg_TribunNews_desktop_article_rhs_3\"}},{bidder:\"smartadserver\",params:{networkId:\"3727\",siteId:\"363582\",pageId:\"1293732\",formatId:\"96606\",domain:\"https://prg8.smartadserver.com\"}},{bidder:\"jixie\",params:{unit:\"1000008-sOguZkCyBp\"}},{bidder:\"teads\",params:{placementId:165940,pageId:151701}},{bidder:\"r2b2\",params:{d:\"tribunnews.com\",g:\"hb\",p:\"300x600_2\",m:0}},{bidder:\"rubicon\",params:{accountId:11834,siteId:434108,zoneId:2484480}},{bidder:\"gumgum\",params:{zone:\"aoxjexrk\",slot:986414}},{bidder:\"gumgum\",params:{zone:\"aoxjexrk\",slot:986415}},{bidder:\"pstudio\",params:{pubid:\"9e680c92-bdf1-41b0-a7f7-281d394574df\",adtagid:\"7a767a44-5ab5-4f21-b1b3-88b863a884eb\"}},{bidder:\"kargo\",params:{placementId:\"_f61bjpPYO4\"}}]},{code:\"div-Inside-MediumRectangle\",ortb2Imp:{ext:{gpid:\"1000008-Qlh3hcZ7PY\",data:{pbadslot:\"1000008-Qlh3hcZ7PY\"}}},mediaTypes:{banner:{sizes:[[300,250],[300,100],[336,280],[1,1]]},video:{context:\"outstream\",playerSize:[300,250],api:[1,2],protocols:[2,3,5,6],minduration:5,maxduration:30,mimes:[\"video/mp4\",\"application/javascript\"],placement:2,linearity:1,delivery:[1,2],plcmt:4}},bids:[{bidder:\"openx\",params:{unit:\"540782279\",delDomain:\"kompascybermedia-d.openx.net\"}},{bidder:\"ix\",params:{siteId:450352,size:[300,250]}},{bidder:\"ix\",params:{siteId:450352,size:[1,1]}},{bidder:\"triplelift\",params:{inventoryCode:\"kg_TribunNews_desktop_article_300x250_mid\"}},{bidder:\"smartadserver\",params:{networkId:\"3727\",siteId:\"363582\",pageId:\"1293732\",formatId:\"96605\",domain:\"https://prg8.smartadserver.com\"}},{bidder:\"jixie\",params:{unit:\"1000008-Qlh3hcZ7PY\"}},{bidder:\"teads\",params:{placementId:165941,pageId:151702}},{bidder:\"rubicon\",params:{accountId:11834,siteId:434108,zoneId:2484482}},{bidder:\"gumgum\",params:{zone:\"aoxjexrk\",slot:986416}},{bidder:\"gumgum\",params:{zone:\"aoxjexrk\",slot:986417}},{bidder:\"pstudio\",params:{pubid:\"9e680c92-bdf1-41b0-a7f7-281d394574df\",adtagid:\"3eda86aa-d0d7-40c6-a16f-9ceada5df5bc\"}},{bidder:\"kargo\",params:{placementId:\"_f61bjpPYO4\"}}]},{code:\"div-Middle-MediumRectangle\",ortb2Imp:{ext:{gpid:\"1000008-Qlh3hcZ7PY\",data:{pbadslot:\"1000008-Qlh3hcZ7PY\"}}},mediaTypes:{banner:{sizes:[[300,250],[300,100],[336,280],[1,1]]},video:{context:\"outstream\",playerSize:[300,250],api:[1,2],protocols:[2,3,5,6],minduration:5,maxduration:30,mimes:[\"video/mp4\",\"application/javascript\"],placement:2,linearity:1,delivery:[1,2],plcmt:4}},bids:[{bidder:\"openx\",params:{unit:\"561728548\",delDomain:\"kompascybermedia-d.openx.net\"}},{bidder:\"ix\",params:{siteId:450352,size:[300,250]}},{bidder:\"ix\",params:{siteId:450352,size:[1,1]}},{bidder:\"triplelift\",params:{inventoryCode:\"kg_TribunNews_desktop_article_300x250_mid\"}},{bidder:\"smartadserver\",params:{networkId:\"3727\",siteId:\"363582\",pageId:\"1293732\",formatId:\"96605\",domain:\"https://prg8.smartadserver.com\"}},{bidder:\"jixie\",params:{unit:\"1000008-yHD8SCB96C\"}},{bidder:\"teads\",params:{placementId:165941,pageId:151702}},{bidder:\"rubicon\",params:{accountId:11834,siteId:434108,zoneId:2484482}},{bidder:\"gumgum\",params:{zone:\"f90eebhy\",slot:986456}},{bidder:\"pstudio\",params:{pubid:\"9e680c92-bdf1-41b0-a7f7-281d394574df\",adtagid:\"3eda86aa-d0d7-40c6-a16f-9ceada5df5bc\"}},{bidder:\"kargo\",params:{placementId:\"_f61bjpPYO4\"}}]},{code:\"div-BelowArticles\",ortb2Imp:{ext:{gpid:\"1000008-u0CeNDwt2v\",data:{pbadslot:\"1000008-u0CeNDwt2v\"}}},mediaTypes:{banner:{sizes:[[320,100],[320,50],[1,1]]}},bids:[{bidder:\"openx\",params:{unit:\"540782279\",delDomain:\"kompascybermedia-d.openx.net\"}},{bidder:\"ix\",params:{siteId:450352,size:[320,100]}},{bidder:\"ix\",params:{siteId:450352,size:[320,50]}},{bidder:\"ix\",params:{siteId:450352,size:[1,1]}},{bidder:\"teads\",params:{placementId:165940,pageId:151701}},{bidder:\"jixie\",params:{unit:\"1000008-u0CeNDwt2v\"}},{bidder:\"rubicon\",params:{accountId:11834,siteId:478096,zoneId:2838726}},{bidder:\"gumgum\",params:{zone:\"aoxjexrk\",slot:986418}},{bidder:\"gumgum\",params:{zone:\"aoxjexrk\",slot:986419}},{bidder:\"pstudio\",params:{pubid:\"9e680c92-bdf1-41b0-a7f7-281d394574df\",adtagid:\"5f7f208d-c131-4888-9dce-18b4117b10ec\"}}]},{code:\"div-BelowImages\",ortb2Imp:{ext:{gpid:\"1000008-ybUwysXTdV\",data:{pbadslot:\"1000008-ybUwysXTdV\"}}},mediaTypes:{banner:{sizes:[[640,100],[468,60],[320,100],[1,1]]}},bids:[{bidder:\"openx\",params:{unit:\"540782279\",delDomain:\"kompascybermedia-d.openx.net\"}},{bidder:\"ix\",params:{siteId:450352,size:[320,100]}},{bidder:\"ix\",params:{siteId:450352,size:[1,1]}},{bidder:\"teads\",params:{placementId:165940,pageId:151701}},{bidder:\"jixie\",params:{unit:\"1000008-ybUwysXTdV\"}},{bidder:\"rubicon\",params:{accountId:11834,siteId:478098,zoneId:2838728}},{bidder:\"gumgum\",params:{zone:\"aoxjexrk\",slot:986420}},{bidder:\"gumgum\",params:{zone:\"aoxjexrk\",slot:986421}},{bidder:\"pstudio\",params:{pubid:\"9e680c92-bdf1-41b0-a7f7-281d394574df\",adtagid:\"eaa3ebfc-5508-485c-8d72-4f0a0fcce2ad\"}},{bidder:\"kargo\",params:{placementId:\"_n7nodrAGNP\"}}]},{code:\"div-Bottom-Scroll\",ortb2Imp:{ext:{gpid:\"div-Bottom-Scroll\",data:{pbadslot:\"1000013-aSXrzyVYeH\"}}},mediaTypes:{banner:{sizes:[[1,1],[468,60],[1008,60],[1100,50]]}},bids:[{bidder:\"jixie\",params:{unit:\"1000013-aSXrzyVYeH\"}},{bidder:\"openx\",params:{unit:\"540782279\",delDomain:\"kompascybermedia-d.openx.net\"}},{bidder:\"teads\",params:{placementId:165940,pageId:151701}}]},{code:\"div-gpt-ad-Zone_OSM\",ortb2Imp:{ext:{gpid:\"div-gpt-ad-Zone_OSM\",data:{pbadslot:\"1000013-k7uTsI6MdE\"}}},mediaTypes:{banner:{sizes:[[300,250],[300,600],[1,1]]},video:{context:\"outstream\",playerSize:[300,250],api:[1,2],protocols:[2,3,5,6],minduration:5,maxduration:30,mimes:[\"video/mp4\",\"application/javascript\"],placement:2,linearity:1,delivery:[1,2],plcmt:4}},bids:[{bidder:\"teads\",params:{placementId:165941,pageId:151702}},{bidder:\"openx\",params:{unit:\"561354419\",delDomain:\"kompascybermedia-d.openx.net\"}},{bidder:\"ix\",params:{siteId:1145037,size:[300,600]}},{bidder:\"ix\",params:{siteId:1145037,size:[300,250]}},{bidder:\"ix\",params:{siteId:1145037,size:[1,1]}},{bidder:\"triplelift\",params:{inventoryCode:\"kg_TribunNews_desktop_article_rhs_3\"}},{bidder:\"smartadserver\",params:{networkId:\"3727\",siteId:\"363582\",pageId:\"1293732\",formatId:\"135324\",domain:\"https://prg8.smartadserver.com\"}},{bidder:\"jixie\",params:{unit:\"1000013-k7uTsI6MdE\"}},{bidder:\"teads\",params:{placementId:165940,pageId:151701}},{bidder:\"r2b2\",params:{d:\"tribunnews.com\",g:\"hb\",p:\"336x480\",m:0}},{bidder:\"rubicon\",params:{accountId:11834,siteId:434108,zoneId:2484480}},{bidder:\"rubicon\",params:{accountId:11834,siteId:564586,zoneId:3570184}},{bidder:\"rubicon\",params:{accountId:11834,siteId:215078,zoneId:3632176}},{bidder:\"gumgum\",params:{zone:\"aoxjexrk\",slot:986414}},{bidder:\"gumgum\",params:{zone:\"aoxjexrk\",slot:986415}},{bidder:\"kargo\",params:{placementId:\"_p958KCsGxE\"}}]},{code:\"gpt_unit_/31800665/TribunLampung/Section/vignette_0\",ortb2Imp:{instl:1,ext:{gpid:\"1000013-EuE9hzcS7b\",data:{pbadslot:\"1000013-EuE9hzcS7b\"}}},mediaTypes:{banner:{sizes:[[300,250],[320,480],[336,280]]},video:{context:\"outstream\",playerSize:[[300,250],[320,480],[336,280]],api:[1,2],protocols:[2,3,5,6],minduration:5,maxduration:30,mimes:[\"video/mp4\",\"application/javascript\"],placement:2,linearity:1,delivery:[1,2],plcmt:4}},ortb2Imp:{instl:1},bids:[{bidder:\"openx\",params:{unit:\"561354422\",delDomain:\"kompascybermedia-d.openx.net\"}},{bidder:\"ix\",params:{siteId:1145038,size:[320,480]}},{bidder:\"ix\",params:{siteId:1145038,size:[300,250]}},{bidder:\"ix\",params:{siteId:1145038,size:[336,280]}},{bidder:\"triplelift\",params:{inventoryCode:\"kg_TribunNews_desktop_article_rhs_1\"}},{bidder:\"smartadserver\",params:{networkId:\"3727\",siteId:\"363582\",pageId:\"1293732\",formatId:\"135325\",domain:\"https://prg8.smartadserver.com\"}},{bidder:\"jixie\",params:{unit:\"1000013-EuE9hzcS7b\"}},{bidder:\"teads\",params:{placementId:165940,pageId:151701}},{bidder:\"r2b2\",params:{d:\"tribunnews.com\",g:\"hb\",p:\"300x600\",m:0}},{bidder:\"r2b2\",params:{d:\"tribunnews.com\",g:\"hb\",p:\"300x250\",m:0}},{bidder:\"rubicon\",params:{accountId:11834,siteId:434108,zoneId:2484476}},{bidder:\"rubicon\",params:{accountId:11834,siteId:564586,zoneId:3570184}},{bidder:\"rubicon\",params:{accountId:11834,siteId:215078,zoneId:3632178}},{bidder:\"gumgum\",params:{zone:\"aoxjexrk\",slot:986411}},{bidder:\"gumgum\",params:{zone:\"aoxjexrk\",slot:986412}}]}];</script>\\n\\n<script>var gptadslots=[],googletag=googletag||{};googletag.cmd=googletag.cmd||[],googletag.cmd.push((function(){googletag.pubads().disableInitialLoad()}));var pbjs=pbjs||{};function gamrefresh(maxRetries=10,retryDelay=300){function tryRefreshAdsWithRetry(){let retryCount=0;function tryRefresh(){if(window.googletag&&googletag.apiReady&&googletag.pubadsReady){googletag.cmd.push(()=>{googletag.pubads().refresh();console.log(\"Ads refreshed\")})}else if(retryCount<maxRetries){retryCount++;setTimeout(tryRefresh,retryDelay)}else{console.warn(\"GPT not ready after retries\")}}tryRefresh()}if(document.readyState===\"loading\"){document.addEventListener(\"DOMContentLoaded\",tryRefreshAdsWithRetry)}else{tryRefreshAdsWithRetry()}}function initAdserver(){pbjs.initAdserverSet||(pbjs.initAdserverSet=!0,googletag.cmd.push((function(){pbjs.que.push((function(){pbjs.setTargetingForGPTAsync(),gamrefresh()}))})))}pbjs.que=pbjs.que||[],pbjs.que.push((function(){pbjs.mergeConfig({jixie:{genids:[{id:\"esha\",ck:\"usermail\"},{id:\"psha\",ck:\"kmps_uphn\"},{id:\"_jxtoko\"},{id:\"_jxifo\"}]}}),pbjs.setConfig({enableSendAllBids:!0,enableTIDs:!0,priceGranularity:\"high\",userSync:{userIds:[{name:\"uid2\"},{name:\"unifiedId\",value:{tdid:uuid__}}],filterSettings:{iframe:{bidders:\\'*\\',filter:\\'include\\'},image:{bidders:\\'*\\',filter:\\'include\\'}},},currency:{adServerCurrency:\"USD\"},syncsPerBidder:0,}),pbjs.bidderSettings={standard:{storageAllowed:!0}},pbjs.addAdUnits(adUnits),pbjs.requestBids({bidsBackHandler:initAdserver,timeout:PREBID_TIMEOUT})})),setTimeout((function(){initAdserver()}),FAILSAFE_TIMEOUT);</script>\\n<!--End Prebid GPT NON NEWS-->\\n\\n\\n\\n\\n<script type=\\'text/javascript\\'>\\ngoogletag.cmd.push(function() {\\n\\n\\tvar dtl = googletag.defineSlot(\\'/31800665/TribunLampung/Section\\', [[728, 90], [970, 90]], \\'div-Top-Leaderboard\\');\\n\\tdtl.setTargeting(\\'pos\\',[\\'TopLeaderboard\\']);\\n\\tdtl.setTargeting(\\'page\\',[\\'section\\']);\\n\\tdtl.setTargeting(\\'kg_pos\\',[\\'top_1\\']);\\n\\tdtl.addService(googletag.pubads());\\n\\n\\t\\t\\n\\tgoogletag.pubads().disableInitialLoad();\\n\\t\\tCriteo.events.push(function() { \\n\\t    Criteo.RequestBidsOnGoogleTagSlots(4363, function() {\\n\\t        \\tCriteo.SetDFPKeyValueTargeting(); \\n\\t        \\tgoogletag.pubads().refresh(); \\n\\t    \\t}, 2000); \\n\\t\\t});\\n\\n\\tvar rl_adx_val = \\'\\';\\n\\tvar rl_adx_sec = new Date().getSeconds();\\n\\tif(rl_adx_sec==1||rl_adx_sec==2){rl_adx_val=\\'300\\';}\\n\\tif(rl_adx_sec==3||rl_adx_sec==4){rl_adx_val=\\'600\\';}\\n\\tif(rl_adx_sec==5||rl_adx_sec==6){rl_adx_val=\\'900\\';}\\n\\tif(rl_adx_sec==7||rl_adx_sec==8){rl_adx_val=\\'1200\\';}\\n\\tif(rl_adx_sec==9||rl_adx_sec==10){rl_adx_val=\\'1500\\';}\\n\\tconsole.log(\\'rl_adx_val = \\'+rl_adx_val);\\n\\tif(rl_adx_val!=\\'\\'){\\n\\tgoogletag.pubads().setTargeting(\\'rl_adx\\',rl_adx_val);\\n\\t}\\n\\tgoogletag.pubads().setTargeting(\\'kg_inv_type\\',\\'desktop\\');\\n\\tgoogletag.pubads().setTargeting(\\'kg_group_sites\\',\\'tribunnews\\');\\n\\tgoogletag.pubads().enableSingleRequest();\\n\\tgoogletag.pubads().collapseEmptyDivs();\\n\\t\\n\\tgoogletag.enableServices();\\n});\\n</script><script type = \\'text/javascript\\'>\\n\\n    googletag.cmd.push(function() {\\n        const slotId_slotRequested = [];\\n        googletag.pubads().addEventListener(\"slotRequested\", (event) => {\\n            const slotId = event.slot.getSlotElementId();\\n           // console.log(\"Slot has been requested.\", slotId);\\n            slotId_slotRequested.push(slotId);\\n        });\\n        //console.log(slotId_);\\n        const slotId_slotRenderEnded = [];\\n        googletag.pubads().addEventListener(\"slotRenderEnded\", (event) => {\\n            const slotId = event.slot.getSlotElementId();\\n            //console.log(\"Is empty? \", event.isEmpty, slotId);\\n            slotId_slotRenderEnded.push(slotId);\\n        });\\n\\n        function checknumberslots() {\\n            if (slotId_slotRequested.length > slotId_slotRenderEnded.length) {\\n                console.log(\\'unfilled detected\\');\\n                // set cookie ads unfilled\\n                let unfilled = 1;\\n                let date = new Date();\\n                date.setDate(date.getDate() + 2);\\n                let expired = date.toUTCString();\\n                let domain = \\'.tribunnews.com\\';\\n\\n                slotId_slotRequested.forEach(myFunctioncheckslot);\\n\\n                function myFunctioncheckslot(value, index, array) {\\n                    if (!slotId_slotRenderEnded.includes(value)) {\\n                        console.log(\"Unfilled slot \", value);\\n                        // var cachebuster = Math.random() * 10000000000000000; // Random cachebuster\\n                        var trackingImageUrl = \\'https://tracker.oval.id/3086ffb0-03df-4865-85de-1243d58ae052/v1/ads-tracker?cid=\\' + value + \\'&cpid=803&action=impression&type=display&page_url=\\' + encodeURIComponent(window.location.href);\\n\\n                        var trackingImage = document.createElement(\\'img\\');\\n                        trackingImage.src = trackingImageUrl;\\n                        trackingImage.width = 1;\\n                        trackingImage.height = 1;\\n\\n                        document.getElementsByTagName(\\'body\\')[0].appendChild(trackingImage);\\n                    }\\n                }\\n                document.cookie = \"unfilled=\" + unfilled + \"; expires=\" + expired + \"; domain=\" + domain + \"; path=/\"; // set cookie\\n            } else {\\n                console.log(\"no unfilled\");\\n            }\\n        }\\n\\n        setTimeout(checknumberslots, 10000);\\n\\n    });\\n\\n</script>\\n\\n\\n\\n\\n\\n<!-- glightbox -->\\n<link rel=\"stylesheet\" href=\"https://asset-1.tribunnews.com/css/glightbox/glightbox.min.css\">\\n<script src=\"https://asset-1.tribunnews.com/css/glightbox/glightbox.min.js\"></script>\\n<!-- end glightbox -->\\n\\n<script defer src=\"https://kgdata-cdn.s3.ap-southeast-1.amazonaws.com/tracker/p/tribunnewsreco/oval_web_analytics_latest.js\"></script>\\n</head>\\n<body \\n\\t\\t>\\n<script>\\n    !(function () {\\n        var time = new Date().getTime();\\n        $(document.body).bind(\\'mousemove keypress\\', function(e) {\\n            time = new Date().getTime();\\n        });\\n        function refresh() {\\n            if (new Date().getTime() - time >= 900000) {\\n                window.location.reload(true);\\n            } else {\\n                setTimeout(refresh, 10000);\\n            }\\n        }\\n        setTimeout(refresh, 10000);\\n    })();\\n</script>\\n<noscript><iframe src=\"https://www.googletagmanager.com/ns.html?id=GTM-NNJ5M3B\"\\nheight=\"0\" width=\"0\" style=\"display:none;visibility:hidden\"></iframe></noscript>\\n\\n <!-- DFP Vignette -->\\n<script>\\n    if(document.cookie.indexOf(\\'vignette_cookies_tribun=\\') == -1){\\n        var getVignette = function() {\\n               googletag.cmd.push(function() {\\n                    din = googletag.defineOutOfPageSlot(\\'/31800665/TribunLampung/Section/vignette\\', googletag.enums.OutOfPageFormat.INTERSTITIAL);\\n                    if(din !== null) {\\n                        din.setTargeting(\\'pos\\',[\\'vignette\\']);\\n                        din.setTargeting(\\'page\\',[\\'section\\']);\\n                        din.setTargeting(\\'kg_pos\\',[\\'vignette\\']);\\n                        din.addService(googletag.pubads());\\n                    }\\n                    googletag.pubads().setTargeting(\\'kg_inv_type\\',\\'desktop\\');\\n                    googletag.pubads().setTargeting(\\'kg_group_sites\\',\\'tribunnews\\');\\n                    googletag.pubads().enableSingleRequest();\\n                    googletag.enableServices();\\n                    googletag.pubads().refresh([din]);\\n                });\\n        };  \\n        getVignette();\\n        var d = new Date()\\n        d.setTime(d.getTime() + 1800 * 1000)\\n        document.cookie = \"vignette_cookies_tribun=1;expires=\" + d.toUTCString() + \";domain=.tribunnews.com;path=/\";\\n    }\\n</script>  \\n<!-- End DFP Vignette -->\\n<div class=\"pos_rel\" id=\"adsoutofpage-premiumTopframe\" style=\"display: none;\">\\n\\t<div id=\\'div-Premium-Topframe\\' >\\n\\t\\t<script type=\\'text/javascript\\'>\\n\\t\\t\\t\\tgoogletag.cmd.push(function() { googletag.display(\\'div-Premium-Topframe\\'); });\\n\\t\\t</script>\\n\\t</div>\\n</div>\\n\\n\\n\\t<div id=\"fb-root\"></div>\\n\\t<script async defer crossorigin=\"anonymous\" src=\"https://connect.facebook.net/id_ID/sdk.js#xfbml=1&version=v6.0&appId=114488588566911&autoLogAppEvents=1\"></script>\\n\\n\\n\\t<div class=\"thead\">\\n\\t\\n\\t<div class=\"theader\">\\n\\t\\t<div class=\"tlogo\">\\n\\t\\t\\t<a href=\"https://lampung.tribunnews.com/\" class=\"show\" title=\"Tribunlampung.co.id\">\\n\\t\\t\\t\\t\\t\\t\\t\\t\\t      \\t\\t   \\t\\t<img src=\"https://asset-1.tribunnews.com/img/logo/daerah/svg3/tribunlampung.svg\" alt=\"Tribunlampung.co.id\" height=\"40\" style=\"height:40px;width:auto\" />\\n\\t\\t\\t\\t\\t\\t\\t\\t\\t\\t\\t\\t</a>\\n\\t\\t\\t\\t\\t</div>\\n\\t\\t<ul>\\n\\t\\t\\t<li class=\"fbo2 grey ar\" title=\"2025-08-09T10:33:45+07:00\">Sabtu, 9 Agustus 2025</li>\\n\\t\\t\\t<!-- live streaming -->\\n\\t\\t\\t<li class=\"havc tn blue\">\\n\\t\\t      <style>\\n\\t\\t        .live-btn-container{position: relative;}.live-btn-container a{display: flex;gap: 5px;align-items: center;font-size: 14px;font-weight: 600;color: #016fba;border: 1px solid #016fba;padding: 2px 10px;border-radius: 8px;}.live-btn-container a:hover{color: #016fba;border: 1px solid #016fba;text-decoration: none;}.menubar{position: relative;}.header-right{display: flex;gap:10px;}\\n\\t\\t      </style>\\n\\t\\t      <div class=\"live-btn-container\">\\n\\t\\t        <a href=\"https://lampung.tribunnews.com/live-streaming?utm_medium=tribun-header\">\\n\\t\\t          <svg xmlns=\"http://www.w3.org/2000/svg\" width=\"16\" height=\"16\" fill=\"currentColor\" class=\"bi bi-tv\" viewBox=\"0 0 16 16\">\\n\\t\\t            <path d=\"M2.5 13.5A.5.5 0 0 1 3 13h10a.5.5 0 0 1 0 1H3a.5.5 0 0 1-.5-.5M13.991 3l.024.001a1.5 1.5 0 0 1 .538.143.76.76 0 0 1 .302.254c.067.1.145.277.145.602v5.991l-.001.024a1.5 1.5 0 0 1-.143.538.76.76 0 0 1-.254.302c-.1.067-.277.145-.602.145H2.009l-.024-.001a1.5 1.5 0 0 1-.538-.143.76.76 0 0 1-.302-.254C1.078 10.502 1 10.325 1 10V4.009l.001-.024a1.5 1.5 0 0 1 .143-.538.76.76 0 0 1 .254-.302C1.498 3.078 1.675 3 2 3zM14 2H2C0 2 0 4 0 4v6c0 2 2 2 2 2h12c2 0 2-2 2-2V4c0-2-2-2-2-2\"/>\\n\\t\\t          </svg>\\n\\t\\t          <span>LIVE</span>\\n\\t\\t        </a>\\n\\t\\t      </div>\\n\\t\\t\\t</li>\\n\\t\\t\\t<!-- live streaming -->\\n\\t\\t\\t<li class=\"havc search blue\">\\n\\t\\t\\t\\t<script async src=\"https://cse.google.com/cse.js?cx=016364a8b29784e5c\"></script>\\n\\t\\t\\t\\t<i class=\"fa fa-search fa-lg mr10\"></i><span class=\"fbo2\">Cari</span>\\n\\t\\t\\t\\t<div class=\"submenu\">\\n\\t\\t\\t\\t\\t<div>\\n\\t\\t\\t\\t\\t\\t\\t\\t\\t\\t\\t\\t<form action=\"https://lampung.tribunnews.com/search\" id=\"cse-search-box\">\\n\\t\\t\\t\\t\\t\\t\\t<input name=\"q\" type=\"text\" class=\"inputsearch\" placeholder=\"Cari Berita\" lang=\"id\"/>\\n\\t\\t\\t\\t\\t\\t    <input type=\"hidden\" name=\"cx\" value=\"partner-pub-016364a8b29784e5c\" />\\n\\t\\t\\t\\t\\t\\t    <input type=\"hidden\" name=\"cof\" value=\"FORID:10\" />\\n\\t\\t\\t\\t\\t\\t    <input type=\"hidden\" name=\"ie\" value=\"UTF-8\" />\\n\\t\\t\\t\\t\\t\\t\\t<input type=\"hidden\" name=\"siteurl\" value=\"www.tribunnews.com\" />\\n\\t\\t\\t\\t\\t\\t\\t<button type=\"submit\" class=\"buttonsearch\">\\n\\t\\t           \\t\\t\\t     <i class=\"fa fa-search\"></i>\\n\\t\\t           \\t\\t\\t </button>\\n\\t\\t\\t\\t\\t\\t\\t<div class=\"cl\"></div>\\n\\t\\t\\t\\t\\t\\t</form>\\n\\t\\t\\t\\t\\t</div>\\n\\t\\t\\t\\t</div>\\n\\t\\t\\t</li>\\n\\t\\t\\t<li class=\"havc tn\">\\n\\t\\t\\t\\t<a href=\"https://www.tribunnews.com\" target=\"_blank\"><img src=\"https://asset-1.tribunnews.com/img/logo/tribun/svg/Logo_T_blue.svg\" alt=\"Tribun\" width=\"21\" height=\"21\" class=\"fl mr10\"/><div class=\"fl fbo2 blue\">Network</div></a>\\n\\t\\t\\t\\t<div class=\"submenu\">\\t\\t\\t\\t\\n\\t\\t\\t\\t\\t<div class=\"network-container\">\\n\\t\\t\\t\\t\\t\\t<div class=\"f18 fbo tup ac show white\">Tribun Network</div>\\n\\t\\t\\t\\t\\t\\t<div class=\"map\">\\n\\t\\t\\t\\t\\t\\t\\t<ul class=\"map-markers\">\\n\\t\\t\\t\\t\\t\\t\\t\\t<li class=\"map-marker map-marker-aceh\">\\n\\t\\t\\t\\t\\t\\t\\t\\t<div class=\"dots\">DI Aceh</div>\\n\\t\\t\\t\\t\\t\\t\\t\\t<div class=\"map-marker-info\">\\n\\t\\t\\t\\t\\t\\t\\t\\t\\t<div class=\"map-marker-info-inner animate-bounce-in\">\\n\\t\\t\\t\\t\\t\\t\\t\\t\\t\\t<div class=\"items\">\\n\\t\\t\\t\\t\\t\\t\\t\\t\\t\\t\\t<div class=\"units\"><a href=\"https://aceh.tribunnews.com?utm_source=lampung&utm_medium=header\" title=\"Serambi News\" target=\"_blank\">SerambiNews.com</a></div>\\n\\t\\t\\t\\t\\t\\t\\t\\t\\t\\t\\t<div class=\"units\"><a href=\"https://prohaba.tribunnews.com?utm_source=lampung&utm_medium=header\" title=\"Prohaba\" target=\"_blank\">Prohaba.co</a></div>\\n\\t\\t\\t\\t\\t\\t\\t\\t\\t\\t\\t<div class=\"units\"><a href=\"https://gayo.tribunnews.com?utm_source=lampung&utm_medium=header\" title=\"Tribun Gayo\" target=\"_blank\">TribunGayo.com</a></div>\\n\\t\\t\\t\\t\\t\\t\\t\\t\\t\\t</div>\\n\\t\\t\\t\\t\\t\\t\\t\\t\\t</div>\\n\\t\\t\\t\\t\\t\\t\\t\\t</div>\\n\\t\\t\\t\\t\\t\\t\\t\\t</li>\\n\\t\\t\\t\\t\\t\\t\\t\\t<li class=\"map-marker map-marker-sumut\">\\n\\t\\t\\t\\t\\t\\t\\t\\t<div class=\"dots\">Sumatera Utara</div>\\n\\t\\t\\t\\t\\t\\t\\t\\t<div class=\"map-marker-info\">\\n\\t\\t\\t\\t\\t\\t\\t\\t\\t<div class=\"map-marker-info-inner animate-bounce-in\">\\n\\t\\t\\t\\t\\t\\t\\t\\t\\t\\t<div class=\"items\">\\n\\t\\t\\t\\t\\t\\t\\t\\t\\t\\t\\t<div class=\"units\"><a href=\"https://medan.tribunnews.com?utm_source=lampung&utm_medium=header\" title=\"Tribun Medan\" target=\"_blank\">Tribun-Medan.com</a></div>\\n\\t\\t\\t\\t\\t\\t\\t\\t\\t\\t</div>\\n\\t\\t\\t\\t\\t\\t\\t\\t\\t</div>\\n\\t\\t\\t\\t\\t\\t\\t\\t</div>\\n\\t\\t\\t\\t\\t\\t\\t\\t</li>\\n\\t\\t\\t\\t\\t\\t\\t\\t<li class=\"map-marker map-marker-sumbar\">\\n\\t\\t\\t\\t\\t\\t\\t\\t<div class=\"dots\">Sumatera Barat</div>\\n\\t\\t\\t\\t\\t\\t\\t\\t<div class=\"map-marker-info\">\\n\\t\\t\\t\\t\\t\\t\\t\\t\\t<div class=\"map-marker-info-inner animate-bounce-in\">\\n\\t\\t\\t\\t\\t\\t\\t\\t\\t\\t<div class=\"items\">\\n\\t\\t\\t\\t\\t\\t\\t\\t\\t\\t\\t<div class=\"units\"><a href=\"https://padang.tribunnews.com?utm_source=lampung&utm_medium=header\" title=\"Tribun Padang\" target=\"_blank\">TribunPadang.com</a></div>\\n\\t\\t\\t\\t\\t\\t\\t\\t\\t\\t</div>\\n\\t\\t\\t\\t\\t\\t\\t\\t\\t</div>\\n\\t\\t\\t\\t\\t\\t\\t\\t</div>\\n\\t\\t\\t\\t\\t\\t\\t\\t</li>\\n\\t\\t\\t\\t\\t\\t\\t\\t<li class=\"map-marker map-marker-riau\">\\n\\t\\t\\t\\t\\t\\t\\t\\t<div class=\"dots\">Riau</div>\\n\\t\\t\\t\\t\\t\\t\\t\\t<div class=\"map-marker-info\">\\n\\t\\t\\t\\t\\t\\t\\t\\t\\t<div class=\"map-marker-info-inner animate-bounce-in\">\\n\\t\\t\\t\\t\\t\\t\\t\\t\\t\\t<div class=\"items\">\\n\\t\\t\\t\\t\\t\\t\\t\\t\\t\\t\\t<div class=\"units\"><a href=\"https://pekanbaru.tribunnews.com?utm_source=lampung&utm_medium=header\" title=\"Tribun Pekanbaru\" target=\"_blank\">TribunPekanbaru.com</a></div>\\n\\t\\t\\t\\t\\t\\t\\t\\t\\t\\t</div>\\n\\t\\t\\t\\t\\t\\t\\t\\t\\t</div>\\n\\t\\t\\t\\t\\t\\t\\t\\t</div>\\n\\t\\t\\t\\t\\t\\t\\t\\t</li>\\n\\t\\t\\t\\t\\t\\t\\t\\t<li class=\"map-marker map-marker-kepri\">\\n\\t\\t\\t\\t\\t\\t\\t\\t<div class=\"dots\">Kepulauan Riau</div>\\n\\t\\t\\t\\t\\t\\t\\t\\t<div class=\"map-marker-info\">\\n\\t\\t\\t\\t\\t\\t\\t\\t\\t<div class=\"map-marker-info-inner animate-bounce-in\">\\n\\t\\t\\t\\t\\t\\t\\t\\t\\t\\t<div class=\"items\">\\n\\t\\t\\t\\t\\t\\t\\t\\t\\t\\t\\t<div class=\"units\"><a href=\"https://batam.tribunnews.com?utm_source=lampung&utm_medium=header\" title=\"Tribun Batam\" target=\"_blank\">TribunBatam.id</a></div>\\n\\t\\t\\t\\t\\t\\t\\t\\t\\t\\t</div>\\n\\t\\t\\t\\t\\t\\t\\t\\t\\t</div>\\n\\t\\t\\t\\t\\t\\t\\t\\t</div>\\n\\t\\t\\t\\t\\t\\t\\t\\t</li>\\n\\t\\t\\t\\t\\t\\t\\t\\t<li class=\"map-marker map-marker-jambi\">\\n\\t\\t\\t\\t\\t\\t\\t\\t<div class=\"dots\">Jambi</div>\\n\\t\\t\\t\\t\\t\\t\\t\\t<div class=\"map-marker-info\">\\n\\t\\t\\t\\t\\t\\t\\t\\t\\t<div class=\"map-marker-info-inner animate-bounce-in\">\\n\\t\\t\\t\\t\\t\\t\\t\\t\\t\\t<div class=\"items\">\\n\\t\\t\\t\\t\\t\\t\\t\\t\\t\\t\\t<div class=\"units\"><a href=\"https://jambi.tribunnews.com?utm_source=lampung&utm_medium=header\" title=\"Tribun Jambi\" target=\"_blank\">TribunJambi.com</a></div>\\n\\t\\t\\t\\t\\t\\t\\t\\t\\t\\t</div>\\n\\t\\t\\t\\t\\t\\t\\t\\t\\t</div>\\n\\t\\t\\t\\t\\t\\t\\t\\t</div>\\n\\t\\t\\t\\t\\t\\t\\t\\t</li>\\n\\t\\t\\t\\t\\t\\t\\t\\t<li class=\"map-marker map-marker-sumsel\">\\n\\t\\t\\t\\t\\t\\t\\t\\t<div class=\"dots\">Sumatera Selatan</div>\\n\\t\\t\\t\\t\\t\\t\\t\\t<div class=\"map-marker-info\">\\n\\t\\t\\t\\t\\t\\t\\t\\t\\t<div class=\"map-marker-info-inner animate-bounce-in\">\\n\\t\\t\\t\\t\\t\\t\\t\\t\\t\\t<div class=\"items\">\\n\\t\\t\\t\\t\\t\\t\\t\\t\\t\\t\\t<div class=\"units\"><a href=\"https://sumsel.tribunnews.com?utm_source=lampung&utm_medium=header\" title=\"Tribun Sumsel\" target=\"_blank\">TribunSumsel.com</a></div>\\n\\t\\t\\t\\t\\t\\t\\t\\t\\t\\t\\t<div class=\"units\"><a href=\"https://palembang.tribunnews.com?utm_source=lampung&utm_medium=header\" title=\"Sripoku\" target=\"_blank\">Sripoku.com</a></div>\\n\\t\\t\\t\\t\\t\\t\\t\\t\\t\\t</div>\\n\\t\\t\\t\\t\\t\\t\\t\\t\\t</div>\\n\\t\\t\\t\\t\\t\\t\\t\\t</div>\\n\\t\\t\\t\\t\\t\\t\\t\\t</li>\\n\\t\\t\\t\\t\\t\\t\\t\\t<li class=\"map-marker map-marker-babel\">\\n\\t\\t\\t\\t\\t\\t\\t\\t<div class=\"dots\">Bangka Belitung</div>\\n\\t\\t\\t\\t\\t\\t\\t\\t<div class=\"map-marker-info\">\\n\\t\\t\\t\\t\\t\\t\\t\\t\\t<div class=\"map-marker-info-inner animate-bounce-in\">\\n\\t\\t\\t\\t\\t\\t\\t\\t\\t\\t<div class=\"items\">\\n\\t\\t\\t\\t\\t\\t\\t\\t\\t\\t\\t<div class=\"units\"><a href=\"https://bangka.tribunnews.com?utm_source=lampung&utm_medium=header\" title=\"Bangka Pos\" target=\"_blank\">BangkaPos.com</a></div>\\n\\t\\t\\t\\t\\t\\t\\t\\t\\t\\t\\t<div class=\"units\"><a href=\"https://belitung.tribunnews.com?utm_source=lampung&utm_medium=header\" title=\"Pos Belitung\" target=\"_blank\">PosBelitung.co</a></div>\\n\\t\\t\\t\\t\\t\\t\\t\\t\\t\\t\\t<div class=\"units\"><a href=\"https://babel.tribunnews.com?utm_source=lampung&utm_medium=header\" title=\"BabelNews\" target=\"_blank\">BabelNews.id</a></div>\\n\\t\\t\\t\\t\\t\\t\\t\\t\\t\\t</div>\\n\\t\\t\\t\\t\\t\\t\\t\\t\\t</div>\\n\\t\\t\\t\\t\\t\\t\\t\\t</div>\\n\\t\\t\\t\\t\\t\\t\\t\\t</li>\\n\\t\\t\\t\\t\\t\\t\\t\\t<li class=\"map-marker map-marker-bengkulu\">\\n\\t\\t\\t\\t\\t\\t\\t\\t<div class=\"dots\">Bengkulu</div>\\n\\t\\t\\t\\t\\t\\t\\t\\t<div class=\"map-marker-info\">\\n\\t\\t\\t\\t\\t\\t\\t\\t\\t<div class=\"map-marker-info-inner animate-bounce-in\">\\n\\t\\t\\t\\t\\t\\t\\t\\t\\t\\t<div class=\"items\">\\n\\t\\t\\t\\t\\t\\t\\t\\t\\t\\t\\t<div class=\"units\"><a href=\"https://bengkulu.tribunnews.com?utm_source=lampung&utm_medium=header\" title=\"Tribun Bengkulu\" target=\"_blank\">TribunBengkulu.com</a></div>\\n\\t\\t\\t\\t\\t\\t\\t\\t\\t\\t</div>\\n\\t\\t\\t\\t\\t\\t\\t\\t\\t</div>\\n\\t\\t\\t\\t\\t\\t\\t\\t</div>\\n\\t\\t\\t\\t\\t\\t\\t\\t</li>\\n\\t\\t\\t\\t\\t\\t\\t\\t<li class=\"map-marker map-marker-lampung\">\\n\\t\\t\\t\\t\\t\\t\\t\\t<div class=\"dots\">Lampung</div>\\n\\t\\t\\t\\t\\t\\t\\t\\t<div class=\"map-marker-info\">\\n\\t\\t\\t\\t\\t\\t\\t\\t\\t<div class=\"map-marker-info-inner animate-bounce-in\">\\n\\t\\t\\t\\t\\t\\t\\t\\t\\t\\t<div class=\"items\">\\n\\t\\t\\t\\t\\t\\t\\t\\t\\t\\t\\t<div class=\"units\"><a href=\"https://lampung.tribunnews.com?utm_source=lampung&utm_medium=header\" title=\"Tribun Lampung\" target=\"_blank\">TribunLampung.co.id</a></div>\\n\\t\\t\\t\\t\\t\\t\\t\\t\\t\\t</div>\\n\\t\\t\\t\\t\\t\\t\\t\\t\\t</div>\\n\\t\\t\\t\\t\\t\\t\\t\\t</div>\\n\\t\\t\\t\\t\\t\\t\\t\\t</li>\\n\\t\\t\\t\\t\\t\\t\\t\\t<li class=\"map-marker map-marker-jakarta\">\\n\\t\\t\\t\\t\\t\\t\\t\\t<div class=\"dots\">Jakarta</div>\\n\\t\\t\\t\\t\\t\\t\\t\\t<div class=\"map-marker-info\">\\n\\t\\t\\t\\t\\t\\t\\t\\t\\t<div class=\"map-marker-info-inner animate-bounce-in\">\\n\\t\\t\\t\\t\\t\\t\\t\\t\\t\\t<div class=\"items\">\\n\\t\\t\\t\\t\\t\\t\\t\\t\\t\\t\\t<div class=\"units\"><a href=\"https://jakarta.tribunnews.com?utm_source=lampung&utm_medium=header\" title=\"Tribun Jakarta\" target=\"_blank\">TribunJakarta.com</a></div>\\n\\t\\t\\t\\t\\t\\t\\t\\t\\t\\t\\t<div class=\"units\"><a href=\"https://wartakota.tribunnews.com?utm_source=lampung&utm_medium=header\" title=\"Wartakota Live\" target=\"_blank\">WartaKotalive.com</a></div>\\n\\t\\t\\t\\t\\t\\t\\t\\t\\t\\t</div>\\n\\t\\t\\t\\t\\t\\t\\t\\t\\t</div>\\n\\t\\t\\t\\t\\t\\t\\t\\t</div>\\n\\t\\t\\t\\t\\t\\t\\t\\t</li>\\n\\t\\t\\t\\t\\t\\t\\t\\t<li class=\"map-marker map-marker-banten\">\\n\\t\\t\\t\\t\\t\\t\\t\\t\\t<div class=\"dots\">Banten</div>\\n\\t\\t\\t\\t\\t\\t\\t\\t\\t<div class=\"map-marker-info\">\\n\\t\\t\\t\\t\\t\\t\\t\\t\\t\\t<div class=\"map-marker-info-inner animate-bounce-in\">\\n\\t\\t\\t\\t\\t\\t\\t\\t\\t\\t\\t<div class=\"items\">\\n\\t\\t\\t\\t\\t\\t\\t\\t\\t\\t\\t<div class=\"units\"><a href=\"https://banten.tribunnews.com?utm_source=lampung&utm_medium=header\" title=\"Tribun Banten\" target=\"_blank\">TribunBanten.com</a></div>\\n\\t\\t\\t\\t\\t\\t\\t\\t\\t\\t\\t<div class=\"units\"><a href=\"https://tangerang.tribunnews.com?utm_source=lampung&utm_medium=header\" title=\"Tribun Tangerang\" target=\"_blank\">TribunTangerang.com</a></div>\\n\\t\\t\\t\\t\\t\\t\\t\\t\\t\\t\\t</div>\\n\\t\\t\\t\\t\\t\\t\\t\\t\\t\\t</div>\\n\\t\\t\\t\\t\\t\\t\\t\\t\\t</div>\\n\\t\\t\\t\\t\\t\\t\\t\\t\\t</li>\\t\\t\\t\\n\\t\\t\\t\\t\\t\\t\\t\\t<li class=\"map-marker map-marker-jabar\">\\n\\t\\t\\t\\t\\t\\t\\t\\t<div class=\"dots\">Jawa Barat</div>\\n\\t\\t\\t\\t\\t\\t\\t\\t<div class=\"map-marker-info\">\\n\\t\\t\\t\\t\\t\\t\\t\\t\\t<div class=\"map-marker-info-inner animate-bounce-in\">\\n\\t\\t\\t\\t\\t\\t\\t\\t\\t\\t<div class=\"items\">\\n\\t\\t\\t\\t\\t\\t\\t\\t\\t\\t\\t<div class=\"units\"><a href=\"https://jabar.tribunnews.com?utm_source=lampung&utm_medium=header\" title=\"Tribun Jabar\" target=\"_blank\">TribunJabar.id</a></div>\\n\\t\\t\\t\\t\\t\\t\\t\\t\\t\\t\\t<div class=\"units\"><a href=\"https://depok.tribunnews.com?utm_source=lampung&utm_medium=header\" title=\"Tribun Depok\" target=\"_blank\">TribunnewsDepok.com</a></div>\\n\\t\\t\\t\\t\\t\\t\\t\\t\\t\\t\\t<div class=\"units\"><a href=\"https://bekasi.tribunnews.com?utm_source=lampung&utm_medium=header\" title=\"Tribun Bekasi\" target=\"_blank\">TribunBekasi.com</a></div>\\n\\t\\t\\t\\t\\t\\t\\t\\t\\t\\t\\t<div class=\"units\"><a href=\"https://bogor.tribunnews.com?utm_source=lampung&utm_medium=header\" title=\"Tribunnews Bogor\" target=\"_blank\">TribunnewsBogor.com</a></div>\\n\\t\\t\\t\\t\\t\\t\\t\\t\\t\\t\\t<div class=\"units\"><a href=\"https://priangan.tribunnews.com?utm_source=lampung&utm_medium=header\" title=\"Tribun Priangan\" target=\"_blank\">TribunPriangan.com</a></div>\\n\\t\\t\\t\\t\\t\\t\\t\\t\\t\\t\\t<div class=\"units\"><a href=\"https://cirebon.tribunnews.com?utm_source=lampung&utm_medium=header\" title=\"Tribun Cirebon\" target=\"_blank\">TribunCirebon.com</a></div>\\n\\n\\t\\t\\t\\t\\t\\t\\t\\t\\t\\t</div>\\n\\t\\t\\t\\t\\t\\t\\t\\t\\t</div>\\n\\t\\t\\t\\t\\t\\t\\t\\t</div>\\n\\t\\t\\t\\t\\t\\t\\t\\t</li>\\n\\t\\t\\t\\t\\t\\t\\t\\t<li class=\"map-marker map-marker-jateng\">\\n\\t\\t\\t\\t\\t\\t\\t\\t<div class=\"dots\">Jawa Tengah</div>\\n\\t\\t\\t\\t\\t\\t\\t\\t<div class=\"map-marker-info\">\\n\\t\\t\\t\\t\\t\\t\\t\\t\\t<div class=\"map-marker-info-inner animate-bounce-in\">\\n\\t\\t\\t\\t\\t\\t\\t\\t\\t\\t<div class=\"items\">\\n\\t\\t\\t\\t\\t\\t\\t\\t\\t\\t\\t<div class=\"units\"><a href=\"https://jateng.tribunnews.com?utm_source=lampung&utm_medium=header\" title=\"Tribun Jateng\" target=\"_blank\">TribunJateng.com</a></div>\\n\\t\\t\\t\\t\\t\\t\\t\\t\\t\\t\\t<div class=\"units\"><a href=\"https://solo.tribunnews.com?utm_source=lampung&utm_medium=header\" title=\"Tribun Solo\" target=\"_blank\">TribunSolo.com</a></div>\\n\\t\\t\\t\\t\\t\\t\\t\\t\\t\\t\\t<div class=\"units\"><a href=\"https://banyumas.tribunnews.com?utm_source=lampung&utm_medium=header\" title=\"Tribun Banyumas\" target=\"_blank\">TribunBanyumas.com</a></div>\\n\\t\\t\\t\\t\\t\\t\\t\\t\\t\\t\\t<div class=\"units\"><a href=\"https://muria.tribunnews.com?utm_source=lampung&utm_medium=header\" title=\"Tribun Muria\" target=\"_blank\">TribunMuria.com</a></div>\\n\\t\\t\\t\\t\\t\\t\\t\\t\\t\\t\\t<div class=\"units\"><a href=\"https://pantura.tribunnews.com?utm_source=lampung&utm_medium=header\" title=\"Tribun Pantura\" target=\"_blank\">Tribun-Pantura.com</a></div>\\n\\t\\t\\t\\t\\t\\t\\t\\t\\t\\t\\t<div class=\"units\"><a href=\"https://mataraman.tribunnews.com?utm_source=lampung&utm_medium=header\" title=\"Tribun Mataraman\" target=\"_blank\">TribunMataraman.com</a></div>\\n\\n\\t\\t\\t\\t\\t\\t\\t\\t\\t\\t</div>\\n\\t\\t\\t\\t\\t\\t\\t\\t\\t</div>\\n\\t\\t\\t\\t\\t\\t\\t\\t</div>\\n\\t\\t\\t\\t\\t\\t\\t\\t</li>\\n\\t\\t\\t\\t\\t\\t\\t\\t<li class=\"map-marker map-marker-jatim\">\\n\\t\\t\\t\\t\\t\\t\\t\\t<div class=\"dots\">Jawa Timur</div>\\n\\t\\t\\t\\t\\t\\t\\t\\t<div class=\"map-marker-info\">\\n\\t\\t\\t\\t\\t\\t\\t\\t\\t<div class=\"map-marker-info-inner animate-bounce-in\">\\n\\t\\t\\t\\t\\t\\t\\t\\t\\t\\t<div class=\"items\">\\n\\t\\t\\t\\t\\t\\t\\t\\t\\t\\t\\t<div class=\"units\"><a href=\"https://jatim.tribunnews.com?utm_source=lampung&utm_medium=header\" title=\"Tribun Jatim\" target=\"_blank\">TribunJatim.com</a></div>\\n\\t\\t\\t\\t\\t\\t\\t\\t\\t\\t\\t<div class=\"units\"><a href=\"https://surabaya.tribunnews.com?utm_source=lampung&utm_medium=header\" title=\"Tribun Surabaya\" target=\"_blank\">Surya.co.id</a></div>\\n\\t\\t\\t\\t\\t\\t\\t\\t\\t\\t\\t<div class=\"units\"><a href=\"https://suryamalang.tribunnews.com?utm_source=lampung&utm_medium=header\" title=\"Surya Malang\" target=\"_blank\">SuryaMalang.com</a></div>\\n\\t\\t\\t\\t\\t\\t\\t\\t\\t\\t\\t<div class=\"units\"><a href=\"https://madura.tribunnews.com?utm_source=lampung&utm_medium=header\" title=\"Tribun Madura\" target=\"_blank\">TribunMadura.com</a></div>\\n\\t\\t\\t\\t\\t\\t\\t\\t\\t\\t\\t<div class=\"units\"><a href=\"https://jatim-timur.tribunnews.com/?utm_source=lampung&utm_medium=header\" title=\"Tribun Jatim Timur\" target=\"_blank\">TribunJatim-Timur.com</a></div>\\n\\t\\t\\t\\t\\t\\t\\t\\t\\t\\t</div>\\n\\t\\t\\t\\t\\t\\t\\t\\t\\t</div>\\n\\t\\t\\t\\t\\t\\t\\t\\t</div>\\n\\t\\t\\t\\t\\t\\t\\t\\t</li>\\n\\t\\t\\t\\t\\t\\t\\t\\t<li class=\"map-marker map-marker-jogja\">\\n\\t\\t\\t\\t\\t\\t\\t\\t<div class=\"dots\">Jogja</div>\\n\\t\\t\\t\\t\\t\\t\\t\\t<div class=\"map-marker-info\">\\n\\t\\t\\t\\t\\t\\t\\t\\t\\t<div class=\"map-marker-info-inner animate-bounce-in\">\\n\\t\\t\\t\\t\\t\\t\\t\\t\\t\\t<div class=\"items\">\\n\\t\\t\\t\\t\\t\\t\\t\\t\\t\\t\\t<div class=\"units\"><a href=\"https://jogja.tribunnews.com?utm_source=lampung&utm_medium=header\" title=\"Tribun Jogja\" target=\"_blank\">TribunJogja.com</a></div>\\n\\t\\t\\t\\t\\t\\t\\t\\t\\t\\t</div>\\n\\t\\t\\t\\t\\t\\t\\t\\t\\t</div>\\n\\t\\t\\t\\t\\t\\t\\t\\t</div>\\n\\t\\t\\t\\t\\t\\t\\t\\t</li>\\n\\t\\t\\t\\t\\t\\t\\t\\t<li class=\"map-marker map-marker-bali\">\\n\\t\\t\\t\\t\\t\\t\\t\\t<div class=\"dots\">Bali</div>\\n\\t\\t\\t\\t\\t\\t\\t\\t<div class=\"map-marker-info\">\\n\\t\\t\\t\\t\\t\\t\\t\\t\\t<div class=\"map-marker-info-inner animate-bounce-in\">\\n\\t\\t\\t\\t\\t\\t\\t\\t\\t\\t<div class=\"items\">\\n\\t\\t\\t\\t\\t\\t\\t\\t\\t\\t\\t<div class=\"units\"><a href=\"https://bali.tribunnews.com?utm_source=lampung&utm_medium=header\" title=\"Tribun Bali\" target=\"_blank\">Tribun-Bali.com</a></div>\\n\\t\\t\\t\\t\\t\\t\\t\\t\\t\\t</div>\\n\\t\\t\\t\\t\\t\\t\\t\\t\\t</div>\\n\\t\\t\\t\\t\\t\\t\\t\\t</div>\\n\\t\\t\\t\\t\\t\\t\\t\\t</li>\\n\\t\\t\\t\\t\\t\\t\\t\\t<li class=\"map-marker map-marker-kalbar\">\\n\\t\\t\\t\\t\\t\\t\\t\\t<div class=\"dots\">Kalimantan Barat</div>\\n\\t\\t\\t\\t\\t\\t\\t\\t<div class=\"map-marker-info\">\\n\\t\\t\\t\\t\\t\\t\\t\\t\\t<div class=\"map-marker-info-inner animate-bounce-in\">\\n\\t\\t\\t\\t\\t\\t\\t\\t\\t\\t<div class=\"items\">\\n\\t\\t\\t\\t\\t\\t\\t\\t\\t\\t\\t<div class=\"units\"><a href=\"https://pontianak.tribunnews.com?utm_source=lampung&utm_medium=header\" title=\"Tribun Pontianak\" target=\"_blank\">TribunPontianak.co.id</a></div>\\n\\t\\t\\t\\t\\t\\t\\t\\t\\t\\t</div>\\n\\t\\t\\t\\t\\t\\t\\t\\t\\t</div>\\n\\t\\t\\t\\t\\t\\t\\t\\t</div>\\n\\t\\t\\t\\t\\t\\t\\t\\t</li>\\n\\t\\t\\t\\t\\t\\t\\t\\t<li class=\"map-marker map-marker-kalteng\">\\n\\t\\t\\t\\t\\t\\t\\t\\t<div class=\"dots\">Kalimantan Tengah</div>\\n\\t\\t\\t\\t\\t\\t\\t\\t<div class=\"map-marker-info\">\\n\\t\\t\\t\\t\\t\\t\\t\\t\\t<div class=\"map-marker-info-inner animate-bounce-in\">\\n\\t\\t\\t\\t\\t\\t\\t\\t\\t\\t<div class=\"items\">\\n\\t\\t\\t\\t\\t\\t\\t\\t\\t\\t\\t<div class=\"units\"><a href=\"https://kalteng.tribunnews.com?utm_source=lampung&utm_medium=header\" title=\"Tribun Kalteng\" target=\"_blank\">TribunKalteng.com</a></div>\\n\\t\\t\\t\\t\\t\\t\\t\\t\\t\\t</div>\\n\\t\\t\\t\\t\\t\\t\\t\\t\\t</div>\\n\\t\\t\\t\\t\\t\\t\\t\\t</div>\\n\\t\\t\\t\\t\\t\\t\\t\\t</li>\\n\\t\\t\\t\\t\\t\\t\\t\\t<li class=\"map-marker map-marker-kaltim\">\\n\\t\\t\\t\\t\\t\\t\\t\\t<div class=\"dots\">Kalimantan Timur</div>\\n\\t\\t\\t\\t\\t\\t\\t\\t<div class=\"map-marker-info\">\\n\\t\\t\\t\\t\\t\\t\\t\\t\\t<div class=\"map-marker-info-inner animate-bounce-in\">\\n\\t\\t\\t\\t\\t\\t\\t\\t\\t\\t<div class=\"items\">\\n\\t\\t\\t\\t\\t\\t\\t\\t\\t\\t\\t<div class=\"units\"><a href=\"https://kaltim.tribunnews.com?utm_source=lampung&utm_medium=header\" title=\"Tribun Kaltim\" target=\"_blank\">TribunKaltim.co</a></div>\\n\\t\\t\\t\\t\\t\\t\\t\\t\\t\\t</div>\\n\\t\\t\\t\\t\\t\\t\\t\\t\\t</div>\\n\\t\\t\\t\\t\\t\\t\\t\\t</div>\\n\\t\\t\\t\\t\\t\\t\\t\\t</li>\\n\\t\\t\\t\\t\\t\\t\\t\\t<li class=\"map-marker map-marker-kaltara\">\\n\\t\\t\\t\\t\\t\\t\\t\\t<div class=\"dots\">Kalimantan Utara</div>\\n\\t\\t\\t\\t\\t\\t\\t\\t<div class=\"map-marker-info\">\\n\\t\\t\\t\\t\\t\\t\\t\\t\\t<div class=\"map-marker-info-inner animate-bounce-in\">\\n\\t\\t\\t\\t\\t\\t\\t\\t\\t\\t<div class=\"items\">\\n\\t\\t\\t\\t\\t\\t\\t\\t\\t\\t\\t<div class=\"units\"><a href=\"https://kaltara.tribunnews.com?utm_source=lampung&utm_medium=header\" title=\"Tribun Kaltara\" target=\"_blank\">TribunKaltara.com</a></div>\\n\\t\\t\\t\\t\\t\\t\\t\\t\\t\\t</div>\\n\\t\\t\\t\\t\\t\\t\\t\\t\\t</div>\\n\\t\\t\\t\\t\\t\\t\\t\\t</div>\\n\\t\\t\\t\\t\\t\\t\\t\\t</li>\\n\\t\\t\\t\\t\\t\\t\\t\\t<li class=\"map-marker map-marker-kalsel\">\\n\\t\\t\\t\\t\\t\\t\\t\\t<div class=\"dots\">Kalimantan Selatan</div>\\n\\t\\t\\t\\t\\t\\t\\t\\t<div class=\"map-marker-info\">\\n\\t\\t\\t\\t\\t\\t\\t\\t\\t<div class=\"map-marker-info-inner animate-bounce-in\">\\n\\t\\t\\t\\t\\t\\t\\t\\t\\t\\t<div class=\"items\">\\n\\t\\t\\t\\t\\t\\t\\t\\t\\t\\t\\t<div class=\"units\"><a href=\"https://banjarmasin.tribunnews.com?utm_source=lampung&utm_medium=header\" title=\"Banjarmasin Post\" target=\"_blank\">BanjarmasinPost.co.id</a></div>\\n\\t\\t\\t\\t\\t\\t\\t\\t\\t\\t</div>\\n\\t\\t\\t\\t\\t\\t\\t\\t\\t</div>\\n\\t\\t\\t\\t\\t\\t\\t\\t</div>\\n\\t\\t\\t\\t\\t\\t\\t\\t</li>\\n\\t\\t\\t\\t\\t\\t\\t\\t<li class=\"map-marker map-marker-sulbar\">\\n\\t\\t\\t\\t\\t\\t\\t\\t<div class=\"dots\">Sulawesi Barat</div>\\n\\t\\t\\t\\t\\t\\t\\t\\t<div class=\"map-marker-info\">\\n\\t\\t\\t\\t\\t\\t\\t\\t\\t<div class=\"map-marker-info-inner animate-bounce-in\">\\n\\t\\t\\t\\t\\t\\t\\t\\t\\t\\t<div class=\"items\">\\n\\t\\t\\t\\t\\t\\t\\t\\t\\t\\t\\t<div class=\"units\"><a href=\"https://sulbar.tribunnews.com?utm_source=lampung&utm_medium=header\" title=\"Tribun Sulbar\" target=\"_blank\">Tribun-Sulbar.com</a></div>\\n\\t\\t\\t\\t\\t\\t\\t\\t\\t\\t</div>\\n\\t\\t\\t\\t\\t\\t\\t\\t\\t</div>\\n\\t\\t\\t\\t\\t\\t\\t\\t</div>\\n\\t\\t\\t\\t\\t\\t\\t\\t</li>\\n\\t\\t\\t\\t\\t\\t\\t\\t<li class=\"map-marker map-marker-sulsel\">\\n\\t\\t\\t\\t\\t\\t\\t\\t<div class=\"dots\">Sulawesi Selatan</div>\\n\\t\\t\\t\\t\\t\\t\\t\\t<div class=\"map-marker-info\">\\n\\t\\t\\t\\t\\t\\t\\t\\t\\t<div class=\"map-marker-info-inner animate-bounce-in\">\\n\\t\\t\\t\\t\\t\\t\\t\\t\\t\\t<div class=\"items\">\\n\\t\\t\\t\\t\\t\\t\\t\\t\\t\\t\\t<div class=\"units\"><a href=\"https://makassar.tribunnews.com?utm_source=lampung&utm_medium=header\" title=\"Tribun Makassar\" target=\"_blank\">Tribun-Timur.com</a></div>\\n\\t\\t\\t\\t\\t\\t\\t\\t\\t\\t\\t<div class=\"units\"><a href=\"https://toraja.tribunnews.com?utm_source=lampung&utm_medium=header\" title=\"Tribun Toraja\" target=\"_blank\">TribunToraja.com</a></div>\\n\\t\\t\\t\\t\\t\\t\\t\\t\\t\\t</div>\\n\\t\\t\\t\\t\\t\\t\\t\\t\\t</div>\\n\\t\\t\\t\\t\\t\\t\\t\\t</div>\\n\\t\\t\\t\\t\\t\\t\\t\\t</li>\\n\\t\\t\\t\\t\\t\\t\\t\\t<li class=\"map-marker map-marker-sultra\">\\n\\t\\t\\t\\t\\t\\t\\t\\t<div class=\"dots\">Sulawesi Tenggara</div>\\n\\t\\t\\t\\t\\t\\t\\t\\t<div class=\"map-marker-info\">\\n\\t\\t\\t\\t\\t\\t\\t\\t\\t<div class=\"map-marker-info-inner animate-bounce-in\">\\n\\t\\t\\t\\t\\t\\t\\t\\t\\t\\t<div class=\"items\">\\n\\t\\t\\t\\t\\t\\t\\t\\t\\t\\t\\t<div class=\"units\"><a href=\"https://sultra.tribunnews.com?utm_source=lampung&utm_medium=header\" title=\"Tribun Sultra\" target=\"_blank\">TribunnewsSultra.com</a></div>\\n\\t\\t\\t\\t\\t\\t\\t\\t\\t\\t</div>\\n\\t\\t\\t\\t\\t\\t\\t\\t\\t</div>\\n\\t\\t\\t\\t\\t\\t\\t\\t</div>\\n\\t\\t\\t\\t\\t\\t\\t\\t</li>\\n\\t\\t\\t\\t\\t\\t\\t\\t<li class=\"map-marker map-marker-sulteng\">\\n\\t\\t\\t\\t\\t\\t\\t\\t<div class=\"dots\">Sulawesi Tengah</div>\\n\\t\\t\\t\\t\\t\\t\\t\\t<div class=\"map-marker-info\">\\n\\t\\t\\t\\t\\t\\t\\t\\t\\t<div class=\"map-marker-info-inner animate-bounce-in\">\\n\\t\\t\\t\\t\\t\\t\\t\\t\\t\\t<div class=\"items\">\\n\\t\\t\\t\\t\\t\\t\\t\\t\\t\\t\\t<div class=\"units\"><a href=\"https://palu.tribunnews.com?utm_source=lampung&utm_medium=header\" title=\"Tribun Palu\" target=\"_blank\">TribunPalu.com</a></div>\\n\\t\\t\\t\\t\\t\\t\\t\\t\\t\\t</div>\\n\\t\\t\\t\\t\\t\\t\\t\\t\\t</div>\\n\\t\\t\\t\\t\\t\\t\\t\\t</div>\\n\\t\\t\\t\\t\\t\\t\\t\\t</li>\\n\\t\\t\\t\\t\\t\\t\\t\\t<li class=\"map-marker map-marker-sulut\">\\n\\t\\t\\t\\t\\t\\t\\t\\t<div class=\"dots\">Sulawesi Utara</div>\\n\\t\\t\\t\\t\\t\\t\\t\\t<div class=\"map-marker-info\">\\n\\t\\t\\t\\t\\t\\t\\t\\t\\t<div class=\"map-marker-info-inner animate-bounce-in\">\\n\\t\\t\\t\\t\\t\\t\\t\\t\\t\\t<div class=\"items\">\\n\\t\\t\\t\\t\\t\\t\\t\\t\\t\\t\\t<div class=\"units\"><a href=\"https://manado.tribunnews.com?utm_source=lampung&utm_medium=header\" title=\"Tribun Manado\" target=\"_blank\">TribunManado.co.id</a></div>\\n\\t\\t\\t\\t\\t\\t\\t\\t\\t\\t</div>\\n\\t\\t\\t\\t\\t\\t\\t\\t\\t</div>\\n\\t\\t\\t\\t\\t\\t\\t\\t</div>\\n\\t\\t\\t\\t\\t\\t\\t\\t</li>\\n\\t\\t\\t\\t\\t\\t\\t\\t<li class=\"map-marker map-marker-gorontalo\">\\n\\t\\t\\t\\t\\t\\t\\t\\t<div class=\"dots\">Gorontalo</div>\\n\\t\\t\\t\\t\\t\\t\\t\\t<div class=\"map-marker-info\">\\n\\t\\t\\t\\t\\t\\t\\t\\t\\t<div class=\"map-marker-info-inner animate-bounce-in\">\\n\\t\\t\\t\\t\\t\\t\\t\\t\\t\\t<div class=\"items\">\\n\\t\\t\\t\\t\\t\\t\\t\\t\\t\\t\\t<div class=\"units\"><a href=\"https://gorontalo.tribunnews.com?utm_source=lampung&utm_medium=header\" title=\"Tribun Gorontalo\" target=\"_blank\">TribunGorontalo.com</a></div>\\n\\t\\t\\t\\t\\t\\t\\t\\t\\t\\t</div>\\n\\t\\t\\t\\t\\t\\t\\t\\t\\t</div>\\n\\t\\t\\t\\t\\t\\t\\t\\t</div>\\n\\t\\t\\t\\t\\t\\t\\t\\t</li>\\n\\t\\t\\t\\t\\t\\t\\t\\t<li class=\"map-marker map-marker-ntb\">\\n\\t\\t\\t\\t\\t\\t\\t\\t<div class=\"dots\">Nusa Tenggara Barat</div>\\n\\t\\t\\t\\t\\t\\t\\t\\t<div class=\"map-marker-info\">\\n\\t\\t\\t\\t\\t\\t\\t\\t\\t<div class=\"map-marker-info-inner animate-bounce-in\">\\n\\t\\t\\t\\t\\t\\t\\t\\t\\t\\t<div class=\"items\">\\n\\t\\t\\t\\t\\t\\t\\t\\t\\t\\t\\t<div class=\"units\"><a href=\"https://lombok.tribunnews.com?utm_source=lampung&utm_medium=header\" title=\"Tribun Lombok\" target=\"_blank\">TribunLombok.com</a></div>\\n\\t\\t\\t\\t\\t\\t\\t\\t\\t\\t\\t<div class=\"units\"><a href=\"https://mataram.tribunnews.com?utm_source=lampung&utm_medium=header\" title=\"Tribun Mataram\" target=\"_blank\" >TribunMataram.com</a></div>\\n\\t\\t\\t\\t\\t\\t\\t\\t\\t\\t</div>\\n\\t\\t\\t\\t\\t\\t\\t\\t\\t</div>\\n\\t\\t\\t\\t\\t\\t\\t\\t</div>\\n\\t\\t\\t\\t\\t\\t\\t\\t</li>\\n\\t\\t\\t\\t\\t\\t\\t\\t<li class=\"map-marker map-marker-ntt\">\\n\\t\\t\\t\\t\\t\\t\\t\\t<div class=\"dots\">Nusa Tenggara Timur</div>\\n\\t\\t\\t\\t\\t\\t\\t\\t<div class=\"map-marker-info\">\\n\\t\\t\\t\\t\\t\\t\\t\\t\\t<div class=\"map-marker-info-inner animate-bounce-in\">\\n\\t\\t\\t\\t\\t\\t\\t\\t\\t\\t<div class=\"items\">\\n\\t\\t\\t\\t\\t\\t\\t\\t\\t\\t\\t<div class=\"units\"><a href=\"https://flores.tribunnews.com?utm_source=lampung&utm_medium=header\" title=\"Tribun Flores\" target=\"_blank\">TribunFlores.com</a></div>\\n\\t\\t\\t\\t\\t\\t\\t\\t\\t\\t\\t<div class=\"units\"><a href=\"https://kupang.tribunnews.com?utm_source=lampung&utm_medium=header\" title=\"Pos Kupang\" target=\"_blank\">Pos-Kupang.com</a></div>\\n\\t\\t\\t\\t\\t\\t\\t\\t\\t\\t</div>\\n\\t\\t\\t\\t\\t\\t\\t\\t\\t</div>\\n\\t\\t\\t\\t\\t\\t\\t\\t</div>\\n\\t\\t\\t\\t\\t\\t\\t\\t</li>\\n\\t\\t\\t\\t\\t\\t\\t\\t<li class=\"map-marker map-marker-malut\">\\n\\t\\t\\t\\t\\t\\t\\t\\t<div class=\"dots\">Maluku Utara</div>\\n\\t\\t\\t\\t\\t\\t\\t\\t<div class=\"map-marker-info\">\\n\\t\\t\\t\\t\\t\\t\\t\\t\\t<div class=\"map-marker-info-inner animate-bounce-in\">\\n\\t\\t\\t\\t\\t\\t\\t\\t\\t\\t<div class=\"items\">\\n\\t\\t\\t\\t\\t\\t\\t\\t\\t\\t\\t<div class=\"units\"><a href=\"https://ternate.tribunnews.com?utm_source=lampung&utm_medium=header\" title=\"Tribun Ternate\" target=\"_blank\">TribunTernate.com</a></div>\\n\\t\\t\\t\\t\\t\\t\\t\\t\\t\\t</div>\\n\\t\\t\\t\\t\\t\\t\\t\\t\\t</div>\\n\\t\\t\\t\\t\\t\\t\\t\\t</div>\\n\\t\\t\\t\\t\\t\\t\\t\\t</li>\\n\\t\\t\\t\\t\\t\\t\\t\\t<li class=\"map-marker map-marker-maluku\">\\n\\t\\t\\t\\t\\t\\t\\t\\t<div class=\"dots\">Maluku</div>\\n\\t\\t\\t\\t\\t\\t\\t\\t<div class=\"map-marker-info\">\\n\\t\\t\\t\\t\\t\\t\\t\\t\\t<div class=\"map-marker-info-inner animate-bounce-in\">\\n\\t\\t\\t\\t\\t\\t\\t\\t\\t\\t<div class=\"items\">\\n\\t\\t\\t\\t\\t\\t\\t\\t\\t\\t\\t<div class=\"units\"><a href=\"https://ambon.tribunnews.com?utm_source=lampung&utm_medium=header\" title=\"Tribun Ambon\" target=\"_blank\">TribunAmbon.com</a></div>\\n\\t\\t\\t\\t\\t\\t\\t\\t\\t\\t</div>\\n\\t\\t\\t\\t\\t\\t\\t\\t\\t</div>\\n\\t\\t\\t\\t\\t\\t\\t\\t</div>\\n\\t\\t\\t\\t\\t\\t\\t\\t</li>\\n\\t\\t\\t\\t\\t\\t\\t\\t<li class=\"map-marker map-marker-papua\">\\n\\t\\t\\t\\t\\t\\t\\t\\t<div class=\"dots\">Papua</div>\\n\\t\\t\\t\\t\\t\\t\\t\\t<div class=\"map-marker-info\">\\n\\t\\t\\t\\t\\t\\t\\t\\t\\t<div class=\"map-marker-info-inner animate-bounce-in\">\\n\\t\\t\\t\\t\\t\\t\\t\\t\\t\\t<div class=\"items\">\\n\\t\\t\\t\\t\\t\\t\\t\\t\\t\\t\\t<div class=\"units\"><a href=\"https://papua.tribunnews.com?utm_source=lampung&utm_medium=header\" title=\"Tribun Papua\" target=\"_blank\">Tribun-Papua.com</a></div>\\n\\t\\t\\t\\t\\t\\t\\t\\t\\t\\t</div>\\n\\t\\t\\t\\t\\t\\t\\t\\t\\t</div>\\n\\t\\t\\t\\t\\t\\t\\t\\t</div>\\n\\t\\t\\t\\t\\t\\t\\t\\t</li>\\t\\t\\t\\n\\t\\t\\t\\t\\t\\t\\t\\t<li class=\"map-marker map-marker-papuabarat\">\\n\\t\\t\\t\\t\\t\\t\\t\\t<div class=\"dots\">Papua Barat</div>\\n\\t\\t\\t\\t\\t\\t\\t\\t<div class=\"map-marker-info\">\\n\\t\\t\\t\\t\\t\\t\\t\\t\\t<div class=\"map-marker-info-inner animate-bounce-in\">\\n\\t\\t\\t\\t\\t\\t\\t\\t\\t\\t<div class=\"items\">\\n\\t\\t\\t\\t\\t\\t\\t\\t\\t\\t\\t<div class=\"units\"><a href=\"https://papuabarat.tribunnews.com?utm_source=lampung&utm_medium=header\" title=\"Tribun Papua Barat\" target=\"_blank\">TribunPapuaBarat.com</a></div>\\n\\t\\t\\t\\t\\t\\t\\t\\t\\t\\t</div>\\n\\t\\t\\t\\t\\t\\t\\t\\t\\t</div>\\n\\t\\t\\t\\t\\t\\t\\t\\t</div>\\n\\t\\t\\t\\t\\t\\t\\t\\t</li>\\n\\t\\t\\t\\t\\t\\t\\t\\t<li class=\"map-marker map-marker-sorong\">\\n\\t\\t\\t\\t\\t\\t\\t\\t<div class=\"dots\">Sorong</div>\\n\\t\\t\\t\\t\\t\\t\\t\\t<div class=\"map-marker-info\">\\n\\t\\t\\t\\t\\t\\t\\t\\t\\t<div class=\"map-marker-info-inner animate-bounce-in\">\\n\\t\\t\\t\\t\\t\\t\\t\\t\\t\\t<div class=\"items\">\\n\\t\\t\\t\\t\\t\\t\\t\\t\\t\\t\\t<div class=\"units\"><a href=\"https://sorong.tribunnews.com?utm_source=lampung&utm_medium=header\" title=\"Tribun Sorong\" target=\"_blank\">TribunSorong.com</a></div>\\n\\t\\t\\t\\t\\t\\t\\t\\t\\t\\t</div>\\n\\t\\t\\t\\t\\t\\t\\t\\t\\t</div>\\n\\t\\t\\t\\t\\t\\t\\t\\t</div>\\n\\t\\t\\t\\t\\t\\t\\t\\t</li>\\n\\t\\t\\t\\t\\t\\t\\t\\t<li class=\"map-marker map-marker-papuatengah\">\\n\\t\\t\\t\\t\\t\\t\\t\\t<div class=\"dots\">Tribun Papua Tengah</div>\\n\\t\\t\\t\\t\\t\\t\\t\\t<div class=\"map-marker-info\">\\n\\t\\t\\t\\t\\t\\t\\t\\t\\t<div class=\"map-marker-info-inner animate-bounce-in\">\\n\\t\\t\\t\\t\\t\\t\\t\\t\\t\\t<div class=\"items\">\\n\\t\\t\\t\\t\\t\\t\\t\\t\\t\\t\\t<div class=\"units\"><a href=\"https://papuatengah.tribunnews.com?utm_source=lampung&utm_medium=header\" title=\"Tribun Papua Tengah\" target=\"_blank\">TribunPapuaTengah.com</a></div>\\n\\t\\t\\t\\t\\t\\t\\t\\t\\t\\t</div>\\n\\t\\t\\t\\t\\t\\t\\t\\t\\t</div>\\n\\t\\t\\t\\t\\t\\t\\t\\t</div>\\n\\t\\t\\t\\t\\t\\t\\t\\t</li>\\n\\t\\t\\t\\t\\t\\t\\t</ul>\\n\\t\\t\\t\\t\\t\\t\\t<object name=\"indonesia map\" width=\"1026\" height=\"370\" type=\"image/svg+xml\" data=\"https://asset-1.tribunnews.com/img/tnetwork_maps.svg\"></object>\\n\\t\\t\\t\\t\\t\\t</div>\\n\\t\\t\\t\\t\\t\\t<div class=\"ac show white mb15\">\\n\\t\\t\\t\\t\\t\\t\\t<a class=\"dip mr10 mb15\" href=\"https://www.tribunnews.com/?utm_source=lampung&utm_medium=header\" title=\"Tribunnews.com\">Tribunnews.com</a>\\n\\t\\t\\t\\t\\t\\t\\t<a class=\"dip mr10 mb15\" href=\"https://www.tribunnewswiki.com/?utm_source=lampung&utm_medium=header\" title=\"TribunnewsWiki.com\" target=\"_blank\">TribunnewsWiki.com</a>\\n\\t\\t\\t\\t\\t\\t\\t<a class=\"dip mr10 mb15\" href=\"https://style.tribunnews.com/?utm_source=lampung&utm_medium=header\" title=\"TribunStyle.com\" target=\"_blank\">TribunStyle.com</a>\\n\\t\\t\\t\\t\\t\\t\\t<a class=\"dip mr10 mb15\" href=\"https://travel.tribunnews.com/?utm_source=lampung&utm_medium=header\" title=\"TribunTravel.com\" target=\"_blank\">TribunTravel.com</a>\\n\\t\\t\\t\\t\\t\\t\\t<a class=\"dip mr10 mb15\" href=\"https://wow.tribunnews.com/?utm_source=lampung&utm_medium=header\" title=\"TribunWow.com\" target=\"_blank\">TribunWow.com</a>\\n\\t\\t\\t\\t\\t\\t\\t<a class=\"dip mr10 mb15\" href=\"https://newsmaker.tribunnews.com/?utm_source=lampung&utm_medium=header\" title=\"TribunNewsmaker.com\" target=\"_blank\">TribunNewsmaker.com</a>\\n\\t\\t\\t\\t\\t\\t\\t<a class=\"dip mr10 mb15\" href=\"https://trends.tribunnews.com/?utm_source=lampung&utm_medium=header\" title=\"TribunTrends.com\" target=\"_blank\">TribunTrends.com</a>\\n\\t\\t\\t\\t\\t\\t\\t<a class=\"dip mr10 mb15\" href=\"https://health.tribunnews.com/?utm_source=lampung&utm_medium=header\" title=\"TribunHealth.com\" target=\"_blank\">TribunHealth.com</a>\\n\\t\\t\\t\\t\\t\\t\\t<a class=\"dip mr10 mb15\" href=\"https://shopping.tribunnews.com/?utm_source=lampung&utm_medium=header\" title=\"TribunShopping.com\" target=\"_blank\">TribunShopping.com</a>\\n\\t\\t\\t\\t\\t\\t\\t<a class=\"dip mr10 mb15\" href=\"https://video.tribunnews.com/?utm_source=lampung&utm_medium=header\" title=\"Tribun-Video.com\" target=\"_blank\">Tribun-Video.com</a>\\n\\t\\t\\t\\t\\t\\t\\t<a class=\"dip mr10 mb15\" href=\"https://www.tribunjualbeli.com/?utm_source=lampung&utm_medium=header\" title=\"TribunJualBeli.com\" target=\"_blank\">TribunJualBeli.com</a>\\n\\t\\t\\t\\t\\t\\t\\t<a class=\"dip mr10 mb15\" href=\"https://booking.tribunnews.com/?utm_source=lampung&utm_medium=header\" title=\"TribunBooking.com\" target=\"_blank\">TribunBooking.com</a>\\n\\t\\t\\t\\t\\t\\t\\t<a class=\"dip mr10 mb15\" href=\"https://cenderaloka.com/?utm_source=lampung&utm_medium=header\" title=\"Cenderaloka\" target=\"_blank\">Cenderaloka.com</a>\\n\\t\\t\\t\\t\\t\\t</div>\\n\\t\\t\\t\\t\\t\\t<div class=\"ac show white tup\">\\n\\t\\t\\t\\t\\t\\t\\t<a class=\"dip mr10 mb15\" href=\"https://career.tribunnetwork.com/?utm_source=lampung&utm_medium=header\" title=\"Karir\" target=\"_blank\">Karir</a>\\n\\t\\t\\t\\t\\t\\t\\t<a class=\"dip mr10 mb15\" href=\"https://www.tribunnews.com/epaper?utm_source=lampung&utm_medium=header\" title=\"Epaper\" target=\"_blank\">Tribun Epaper</a>\\n\\t\\t\\t\\t\\t\\t\\t<a class=\"dip mr10 mb15\" href=\"https://www.gramedia.com?utm_source=lampung&utm_medium=header\" title=\"Gramedia.com\" target=\"_blank\">Gramedia.com</a>\\n\\t\\t\\t\\t\\t\\t\\t<a class=\"dip mr10 mb15\" href=\"https://ebooks.gramedia.com?utm_source=lampung&utm_medium=header\" title=\"Gramedia Digital\" target=\"_blank\">Gramedia Digital</a>\\n\\t\\t\\t\\t\\t\\t</div>\\n\\t\\t\\t\\t\\t</div>\\n\\t\\t\\t\\t</div>\\n\\t\\t\\t</li>\\n\\t\\t\\t<li class=\"sn havc blue\" id=\"sosmedmn\">\\n\\t\\t\\t\\t<span class=\"blue\">Ikuti Kami</span>\\n\\t\\t\\t\\t<div class=\"submenu\">\\n\\t\\t\\t\\t\\t<div class=\"sn_content\">\\n\\t\\t\\t\\t\\t\\t<div class=\"block-socmed\">\\n\\t\\t\\t\\t\\t\\t\\t<div class=\"col-soc\" style=\"background: #ff0000\">\\n\\t\\t\\t\\t\\t\\t\\t\\t<a \\t\\t\\t\\t\\t\\t\\t\\t\\thref=\\'https://www.youtube.com/c/TRIBUNLAMPUNGNEWSVIDEO?sub_confirmation=1\\'\\t\\t\\t\\t\\t\\t\\t\\t\\t\\t\\t\\t\\t\\t\\t\\t\\ttarget=\"_blank\" title=\"Youtube\">\\n\\t\\t\\t\\t\\t\\t\\t\\t\\t<span class=\"pr10\"><i class=\"fa fa-youtube-play fa-lg mr10\"></i>Youtube</span>\\n\\t\\t\\t\\t\\t\\t\\t\\t</a>\\n\\t\\t\\t\\t\\t\\t\\t</div>\\n\\t\\t\\t\\t\\t\\t\\t<div class=\"col-soc\" style=\"background: #4267b2\">\\n\\t\\t\\t\\t\\t\\t\\t\\t<a \\t\\t\\t\\t\\t\\t\\t\\t\\thref=\\'https://www.facebook.com/tribunnews.lampung\\'\\t\\t\\t\\t\\t\\t\\t\\t\\t\\t\\t\\t\\t\\t\\t\\t\\ttarget=\"_blank\" title=\"Facebook\">\\n\\t\\t\\t\\t\\t\\t\\t\\t\\t<span class=\"pr10\"><i class=\"fa fa-facebook fa-lg mr10\"></i>Facebook</span>\\n\\t\\t\\t\\t\\t\\t\\t\\t</a>\\n\\t\\t\\t\\t\\t\\t\\t</div>\\n\\t\\t\\t\\t\\t\\t\\t<div class=\"col-soc\" style=\"background: linear-gradient(to right, #fd5949 45%, #d6249f 60%, #285aeb 90%)\"><a href=\"https://instagram.com/tribunlampung/\" target=\"_blank\"><i class=\"fa fa-instagram fa-lg mr10\"></i>Instagram</a></div>\\n\\t\\t\\t\\t\\t\\t\\t<!-- x tiwtter -->\\n\\t\\t\\t\\t\\t\\t\\t<div class=\"col-soc\" style=\"background: #1e3050\">\\n\\t\\t\\t\\t\\t\\t\\t\\t<a href=\"https://twitter.com/tribunlampung_\" target=\"_blank\">\\n\\t\\t\\t\\t\\t\\t\\t\\t\\t<span class=\"pr10\">\\n\\t\\t\\t\\t\\t\\t\\t\\t\\t\\t<svg class=\"fa-lg mr10\" xmlns=\"http://www.w3.org/2000/svg\" width=\"14\" height=\"16\" viewBox=\"0 0 512 512\"><path fill=\"#fff\" d=\"M389.2 48h70.6L305.6 224.2 487 464H345L233.7 318.6 106.5 464H35.8L200.7 275.5 26.8 48H172.4L272.9 180.9 389.2 48zM364.4 421.8h39.1L151.1 88h-42L364.4 421.8z\"/></svg>\\n\\t\\t\\t\\t\\t\\t\\t\\t\\t</span> Twitter\\n\\t\\t\\t\\t\\t\\t\\t\\t</a>\\n\\t\\t\\t\\t\\t\\t\\t</div>\\n\\t\\t\\t\\t\\t\\t\\t<!-- x twitter -->\\n\\t\\t\\t\\t\\t\\t\\t<div class=\"col-soc\" style=\"background: #de5246\">\\n\\t\\t\\t\\t\\t\\t\\t\\t<a \\t\\t\\t\\t\\t\\t\\t\\t\\thref=\\'https://news.google.com/publications/CAAqBwgKMMSVjgswqeOgAw?hl=id&gl=ID&ceid=ID%3Aid\\'\\t\\t\\t\\t\\t\\t\\t\\t\\t\\t\\t\\t\\t\\t\\t\\t\\ttarget=\"_blank\" title=\"Google News\">\\n\\t\\t\\t\\t\\t\\t\\t\\t<span class=\"pr10\"><i class=\"fa fa-google fa-lg mr10\"></i>Google News</span>\\n\\t\\t\\t\\t\\t\\t\\t\\t</a>\\n\\t\\t\\t\\t\\t\\t\\t</div>\\n\\t\\t\\t\\t\\t\\t\\t<div class=\"col-soc\" style=\"background: #000\">\\n\\t\\t\\t\\t\\t\\t\\t\\t<a href=\"https://www.tiktok.com/@tribunlampung\"\\n\\t\\t\\t\\t\\t\\t\\t\\ttarget=\"_blank\" title=\"Tiktok\">\\n\\t\\t\\t\\t\\t\\t\\t\\t<span class=\"pr10\"><svg xmlns=\"http://www.w3.org/2000/svg\" width=\"13\" height=\"15\" fill=\"#ffffff\" viewBox=\"0 0 2859 3333\" shape-rendering=\"geometricPrecision\" text-rendering=\"geometricPrecision\" image-rendering=\"optimizeQuality\" fill-rule=\"evenodd\" clip-rule=\"evenodd\"><path d=\"M2081 0c55 473 319 755 778 785v532c-266 26-499-61-770-225v995c0 1264-1378 1659-1932 753-356-583-138-1606 1004-1647v561c-87 14-180 36-265 65-254 86-398 247-358 531 77 544 1075 705 992-358V1h551z\"/></svg></span>Tiktok</a>\\n\\t\\t\\t\\t\\t\\t\\t</div>\\n\\t\\t\\t\\t\\t\\t</div>\\n\\t\\t\\t\\t\\t</div>\\n\\t\\t\\t\\t</div>\\n\\t\\t\\t</li>\\n\\t\\t\\t\\t\\t\\t\\t\\t\\t<input type=\"hidden\" value=\"aHR0cHM6Ly9sYW1wdW5nLnRyaWJ1bm5ld3MuY29tL3NlYXJjaA==\" id=\"referral\">\\n\\t\\t\\t\\t\\t\\t\\t<li class=\"havc user\" id=\"islogin\" style=\"display:none;\">\\n\\t\\t\\t\\t\\t<a href=\"#\" title=\"Akun\">Hi, <span id=\"fullname\"></span></a>\\n\\t\\t\\t\\t\\t<div class=\"submenu submenu-login\">\\n\\t\\t\\t\\t\\t\\t<div class=\"submenuc-login\">\\n\\t\\t\\t\\t\\t\\t\\t<a href=\"https://account.tribunnews.com/home?navsource=aHR0cHM6Ly9sYW1wdW5nLnRyaWJ1bm5ld3MuY29tL3NlYXJjaA==\" title=\"Profile\" target=\"_blank\" rel=\"noreferrer\">Profile</a><br>\\n\\t\\t\\t\\t\\t\\t\\t<a href=\"#\" title=\"Kirim Images\" id=\"menuuser\" style=\"display:none;\">Kirim Images</a><br id=\"breakmenuuser\" style=\"display:none;\">\\n\\t\\t\\t\\t\\t\\t\\t<a href=\"#\" title=\"Logout\" id=\"ssologout\">Logout</a>\\n\\t\\t\\t\\t\\t\\t</div>\\n\\t\\t\\t\\t\\t</div>\\n\\t\\t\\t\\t</li>\\n\\t\\t\\t\\t<li class=\"havc user\" id=\"login\">\\n\\t\\t\\t\\t\\t<a href=\\'https://account.tribunnews.com/login/dHJpYnVubmV3cw==/aHR0cHM6Ly9sYW1wdW5nLnRyaWJ1bm5ld3MuY29tL3NlYXJjaA==\\' rel=\\'nofollow\\' class=\\'blue\\' title=\"Login\">Login</a>\\n\\t\\t\\t\\t\\t<div class=\\'submenu submenu-login\\'>\\n\\t\\t\\t\\t\\t<div class=\\'submenuc-login fbo2\\'>\\n\\t\\t\\t\\t\\t\\t<span class=\"fbo2 grey\">Belum punya akun?</span>\\n\\t\\t\\t\\t\\t\\t<a href=\\'https://account.tribunnews.com/register/dHJpYnVubmV3cw==/aHR0cHM6Ly9sYW1wdW5nLnRyaWJ1bm5ld3MuY29tL3NlYXJjaA==\\' class=\"f16\" rel=\\'nofollow\\' title=\"Register\">Mendaftar</a>\\n\\t\\t\\t\\t\\t</div>\\n\\t\\t\\t\\t</div>\\n\\t\\t\\t\\t</li>\\n\\t\\t\\t\\t\\t\\t\\t\\t</ul>\\n\\t</div>\\n</div>\\n\\t\\t\\t<div class=\"header pos_rel\" style=\"width:970px;margin-top:70px;margin-bottom:20px;margin-left:auto; margin-right: auto;z-index:1\">\\n\\t\\t<div class=\"reserved_box_ads reserved_box_1_1\">\\n<div id=\\'div-Top-Leaderboard\\' class=\\'ovh\\' style=\\'display:none;width:auto;text-align:center;height:auto;min-height:90px\\'>\\n<script type=\\'text/javascript\\'>\\n\\tgoogletag.cmd.push(function() { googletag.display(\\'div-Top-Leaderboard\\'); });\\n</script>\\n</div>\\n</div>\\n\\t\\t<div class=\"cl2\"></div>\\n\\t</div>\\n\\t\\t<div class=\"main\" style=\"padding-top:0px;z-index:1\">\\n\\t\\t<style>\\n.ico_ramadhan_3{position:relative!important}.ico_ramadhan_3{background:#0ca542}.ico_ramadhan_3:before{content:\"\";display:block;background-image:url(\\'https://asset-1.tribunnews.com/img/ramadan/mosque-icon.png\\');position:absolute;width:80px;height:22px;background-size:95px 30px;background-repeat:no-repeat;left:0;top:-22px;z-index:0}.ico_ramadhan_3:after{content:\"\";display:block;background-image:url(\\'https://asset-1.tribunnews.com/img/ramadan/ketupat-icon.png\\');position:absolute;width:40px;height:45px;background-size:40px 45px;background-repeat:no-repeat;left:50px;top:0}.ico_ramadhan_3 a{z-index:1;color:#fff;text-shadow:1px 1px #565656;position:relative}\\n.tjb-item-menu{display: block;margin-left: 30px;margin-bottom: 10px;margin-top: 5px;}.tjb-item-menu:last-child{margin-bottom: 15px;}.tjb-item-menu a:before {content:\"\";float:left;position:absolute;top:0;left:-11px;width:0;height:2px;border-color:transparent #0089e0 transparent transparent;border-style:solid;border-width:11px 11px 11px 0;}.tjb-item-menu a:after {content:\"\";position:absolute;top:10px;left:0;float:left;width:4px;height:4px;-moz-border-radius:2px;-webkit-border-radius:2px;border-radius:2px;background:#fff;-moz-box-shadow:-1px -1px 2px #004977;-webkit-box-shadow:-1px -1px 2px #004977;box-shadow:-1px -1px 2px #004977;}.tjb-item-menu a{font-size: 14px;background-color: #eee;padding: .25em .5em!important;color: #fff!important;position: relative!important;width: fit-content!important;display: inline!important;}.tjb-item-menu a:hover{box-shadow: 2px 5px 15px rgba(.5,.5,.5,.2);transition: .3s all ease;}.tjb-item-menu a:hover {background-color:transparent;color:#fff;text-decoration: none;}.tjb-item-menu:nth-child(8n+1) a{background: linear-gradient(to right, #EE2A1F 0%, #F89835 100%);}.tjb-item-menu:nth-child(8n+1) a:before{border-color:transparent #EE2A1F transparent transparent;}.tjb-item-menu:nth-child(8n+2) a{background: linear-gradient(to right, #F89835 0%, #FFCB0F 100%);}.tjb-item-menu:nth-child(8n+2) a:before{border-color:transparent #F89835 transparent transparent;}.tjb-item-menu:nth-child(8n+3) a{background: linear-gradient(to right, #FFCB0F 0%, #80C65F 100%);}.tjb-item-menu:nth-child(8n+3) a:before{border-color:transparent #FFCB0F transparent transparent;}.tjb-item-menu:nth-child(8n+4) a{background: linear-gradient(to right, #80C65F 0%, #43A3DA 100%);}.tjb-item-menu:nth-child(8n+4) a:before{border-color:transparent #80C65F transparent transparent;}.tjb-item-menu:nth-child(8n+5) a{background: linear-gradient(to right, #43A3DA 0%, #8563AC 100%);}.tjb-item-menu:nth-child(8n+5) a:before{border-color:transparent #43A3DA transparent transparent;}.tjb-item-menu:nth-child(8n+6) a{background: linear-gradient(to right, #8563AC 0%, #A268AD 100%);}.tjb-item-menu:nth-child(8n+6) a:before{border-color:transparent #8563AC transparent transparent;}.tjb-item-menu:nth-child(8n+7) a{background: linear-gradient(to right, #A268AD 0%, #707171 100%);}.tjb-item-menu:nth-child(8n+7) a:before{border-color:transparent #A268AD transparent transparent;}.tjb-item-menu:nth-child(8n+8) a{background: linear-gradient(to right, #707171 0%, #908E8E 100%);}.tjb-item-menu:nth-child(8n+8) a:before{border-color:transparent #707171 transparent transparent;}\\n/*.pon-xx{background:linear-gradient(to right,#bf272b ,#601416);position:relative!important}.pon-xx a{padding:12px 9px 10px 30px!important}.pon-xx a:after{content:\\'\\';position:absolute;width:50px;height:39px;background-image:url(https://asset-2.tribunnews.com/img/ponxxpapua/ponxx-small.svg);top:5px;left:0;display:block;background-size:cover}.pon-xx.selected a:after{background-image:url(https://asset-2.tribunnews.com/img/ponxxpapua/ponxx-small-sel.svg)}*/\\n.mgpa{background:linear-gradient(to right,#000,#b60b0b);position:relative!important}.mgpa a{padding-left:35px!important}.mgpa a:after{content:\\'\\';position:absolute;width:35px;height:24px;background-image:url(\\'https://asset-1.tribunnews.com/img/motogp/assets/mgpa.svg\\');top:10px;left:0;display:block;background-size:cover}li.election {width:215px!important;background:#0066B3!important;}li.election a, li.election a:hover{filter:drop-shadow(2px 2px 3px rgb(0 0 0 / 30%));background-image:url(\\'https://asset-1.tribunnews.com/img/matlok_memilih.png\\')!important;background-position:right center!important;background-repeat:no-repeat!important;background-size:50px!important;padding-right:50px!important;}li.election ul{padding: 10px 0 15px!important;}li.election li a,li.election li a:hover{background-image:none!important;}\\n.cari-kerja > a {padding:0 !important;height:42px !important;}.cari-kerja img{max-height:46px;object-fit: cover;}\\n#menu__slider > li.gsp,.main-menu>div>ul>li.gsp{background:#fff}#menu__slider > li.gsp a,.main-menu>div>ul>li.gsp a{padding:0 10px;height:45px}#menu__slider > li.gsp img,.main-menu>div>ul>li.gsp img{width:auto!important;height:35px!important;margin:5px auto}#menu__slider > li.gsp ul,.main-menu>div>ul>li.gsp ul{width:155px!important;font-size:12px;background:#96122e;border-radius:10px}#menu__slider > li.gsp li,.main-menu>div>ul>li.gsp li{position:relative;padding:5px 0 5px 15px!important}#menu__slider > li.gsp li:before,.main-menu>div>ul>li.gsp li:before{content:\"\";position:absolute;left:-5px;top:5px;background:url(\\'https://asset-1.tribunnews.com/img/chbrand/gsp/gsp-ico-white.png\\') 0 0/cover no-repeat;width:15px;height:15px}#menu__slider > li.gsp li a, .main-menu>div>ul>li.gsp li a{display:block;height:auto}\\n</style>\\n<script type=\"text/javascript\">\\nfunction moveScroller_menu() {\\n    var movemenu = function() {\\n        var st = $(window).scrollTop();\\n        var ot = $(\"#fixposmenu\").offset().top - 30;\\n        var s = $(\"#main-menu\");\\n        if(st > ot) {\\n\\t\\t\\tif(window.innerHeight < 700) {\\n\\t\\t\\t\\tvar heo = 0;\\n\\t\\t\\t}else {\\n\\t\\t\\t\\tvar heo = 1;\\n\\t\\t\\t}\\n            s.css({\\n                \"position\": \"fixed\",\\n                \"top\": \"50px\",\\n\\t\\t\\t\\t\"left\": \"0\",\\n\\t\\t\\t\\t\"margin-top\": \"0\",\\n\\t\\t\\t\\t\"z-index\":\"9\",\\n\\t\\t\\t\\t\"opacity\":heo,\\n\\t\\t\\t\\t\"width\":\"100%\",\\n\\t\\t\\t\\t\"background\":\"rgba(1,111,186,.95)\"\\n            });\\n\\t\\t\\t$(\".main-menu > div > ul > li:first-child\").css(\"border-left\",\"1px solid rgba(0,0,0,.1)\");\\n\\t\\t\\t$(\".main-menu > div > ul > li:last-child\").css(\"border-right\",\"1px solid rgba(0,0,0,.1)\");\\n\\t\\t\\t$(\".theader\").hover(function(){\\n\\t\\t\\t\\ts.css({\\n\\t\\t\\t\\t\\t\"opacity\":\"1\",\\n\\t\\t\\t\\t});\\n\\t\\t\\t\\tif($( \"#share\" ).css( \"top\" ) == \\'60px\\') {\\n\\t\\t\\t\\t\\t$(\"#share\").css({\\n\\t\\t\\t\\t\\t\\t\"top\":\"95px\",\\n\\t\\t\\t\\t\\t});\\n\\t\\t\\t\\t}\\n\\t\\t\\t});\\n\\t\\t\\t$(\"#fixposmenu\").html(\"&nbsp\");\\n        } else {\\n            if(st <= ot) {\\n                s.css({\\n                    \"position\": \"relative\",\\n                    \"top\": \"\",\\n\\t\\t\\t\\t\\t\"opacity\":\"1\",\\n\\t\\t\\t\\t\\t\"margin-top\": \"0px\",\\n\\t\\t\\t\\t\\t\"background\":\"rgba(1,111,186,1)\"\\n                });\\n\\t\\t\\t\\t$(\".main-menu > div > ul > li:first-child\").css(\"border-left\",\"none\");\\n\\t\\t\\t\\t$(\".main-menu > div > ul > li:last-child\").css(\"border-right\",\"none\");\\n\\t\\t\\t\\t$(\"#fixposmenu\").html(\"\");\\n       \\t     }\\n        }\\n    };\\n    $(window).scroll(movemenu);\\n    movemenu();\\n}\\n$(document).ready(function(){\\n\\tmoveScroller_menu();\\n});\\n</script>\\n<div id=\"fixposmenu\"></div>\\n<div class=\"main-menu\" id=\"main-menu\" style=\"z-index:9;margin-top:0px\">\\n\\t<div>\\n\\t\\t<style>\\n\\t\\t#menu__slider > li {text-align: center;display: table-cell;list-style: none;vertical-align: middle;border-left: 0 solid rgba(266,255,255,.08);border-right: 1px solid rgba(0,0,0,.1);white-space: nowrap;position: initial;}.li-microsite {width: auto!important;}#menu__slider > li > a {display: block;padding: 12px 9px 10px;border-bottom: 4px solid transparent;overflow: hidden;height: 20px }#menu__slider > li:hover > a, #menu__slider > li > a:hover {transition: linear .5s;background: rgba(0,0,0,.15);border-bottom: 4px solid rgba(0,0,0,.1);overflow: hidden }#menu__slider > li > ul {min-width: 200px;max-width: 400px;display: block;visibility: hidden;margin-top: 0;position: absolute;color: #fff;-webkit-transform: translate(0,0);border-top: 1px solid rgba(0,0,0,.2);background-color: #016fba;list-style: none;margin-left: 0;z-index: 9999;padding: 10px;}#menu__slider > li > ul > li {padding: 5px 10px;text-align: left;}#menu__slider > li:hover > ul {display: block;visibility: visible;margin-top: 0 }.bx-wrapper {margin: 0 !important;}.bx-viewport {}#main-menu .bx-wrapper .bx-has-controls-direction a {background-color:unset;opacity: .5;font-size: inherit;}#main-menu .bx-wrapper:hover .bx-controls-direction a {opacity: 1 }#main-menu .bx-wrapper .bx-controls-direction a.bx-next {right: -57px;}#main-menu .bx-wrapper .bx-controls-direction a.bx-prev {left: unset;right: -32px;}li.election {width:215px!important;background:#0066B3!important;}li.election a, li.election a:hover{filter:drop-shadow(2px 2px 3px rgb(0 0 0 / 30%));background-image:url(\\'https://asset-1.tribunnews.com/img/matlok_memilih.png\\')!important;background-position:right center!important;background-repeat:no-repeat!important;background-size:50px!important;padding-right:30px!important;}li.election ul{padding: 10px 0 15px!important;}\\n\\t\\t/*submenu*/\\n\\t\\t.menu-slider .bx-viewport{height:auto !important}.menu-slider .bx-wrapper{height:auto;margin-left:63px !important;margin-right:-63px !important}.menu-slider .menu-slider-home{height:46px;position:absolute;left:0}.menu-slider .bx-controls{position:absolute;top:23px;right:0}#menu__slider>li>ul{position:relative !important;display:none}#menu__slider>li:hover ul{display:block;visibility:visible}\\n\\t\\t#menu__slider > li.gsp,.main-menu>div>ul>li.gsp{background:#fff}#menu__slider > li.gsp a,.main-menu>div>ul>li.gsp a{padding:0 10px;height:45px}#menu__slider > li.gsp img,.main-menu>div>ul>li.gsp img{width:auto!important;height:35px!important;margin:5px auto}#menu__slider > li.gsp ul,.main-menu>div>ul>li.gsp ul{width:155px!important;font-size:12px;background:#96122e;border-radius:10px}#menu__slider > li.gsp li,.main-menu>div>ul>li.gsp li{position:relative;padding:5px 0 5px 15px!important}#menu__slider > li.gsp li:before,.main-menu>div>ul>li.gsp li:before{content:\"\";position:absolute;left:-5px;top:5px;background:url(\\'https://asset-1.tribunnews.com/img/chbrand/gsp/gsp-ico-white.png\\') 0 0/cover no-repeat;width:15px;height:15px}#menu__slider > li.gsp li a, .main-menu>div>ul>li.gsp li a{display:block;height:auto}\\n\\t\\t\\n\\t\\t</style>\\n\\t\\t<ul class=\"menu-slider\" style=\"border-right: 1px solid rgba(0, 0, 0, 0.1);\">\\n\\t\\t\\t<li class=\"menu-slider-home\"><a href=\"https://lampung.tribunnews.com/\" title=\"News\">Home</a></li>\\n\\t\\t\\t<div id=\"menu__slider\">\\n\\t\\t\\t\\t\\t\\t\\t\\t\\t\\t\\t\\t\\t\\t\\t\\t\\t\\t\\t\\t\\t\\t\\t\\t\\t\\t\\t\\t\\t\\t\\t\\t<li class=\"nw\">\\n\\t\\t\\t\\t\\t\\t\\t\\t\\t\\t<a href=\"https://lampung.tribunnews.com/news\" title=\"News\">\\n\\t\\t\\t\\t\\t\\t\\t\\t\\t\\t\\tNews\\t\\n\\t\\t\\t\\t\\t\\t\\t\\t\\t\\t</a>\\n\\t\\t\\t\\t\\t\\t\\t\\t\\t</li>\\n\\t\\t\\t\\t\\t\\t\\t\\t\\t\\t\\t\\t\\t\\t\\t\\t\\t\\t\\t\\t\\t\\t\\t\\t\\t\\t\\t\\t\\t\\t\\t\\t\\t\\t<li class=\"gsp\"><a href=\"https://lampung.tribunnews.com/gebrakan-sang-pemimpin?utm_source=tribunnews;utm_medium=menu\" title=\"Gebrakan Sang Pemimpin\"><img src=\"https://asset-1.tribunnews.com/img/chbrand/gsp/gsp-wm-fin.png\" width=\"115\" height=\"30\" fetchpriority=\"high\" alt=\"Gebrakan Sang Pemimpin\"></a>\\n\\t\\t\\t\\t\\t\\t\\t\\t\\t<ul>\\n\\t\\t\\t\\t\\t\\t\\t\\t\\t\\t<li><a href=\"https://lampung.tribunnews.com/gebrakan-sang-pemimpin/kabinet-merah-putih?utm_source=tribunnews;utm_medium=menu\" title=\"Kabinet Merah Putih\">Kabinet Merah Putih</a></li>\\n\\t\\t\\t\\t\\t\\t\\t\\t\\t\\t<li><a href=\"https://lampung.tribunnews.com/gebrakan-sang-pemimpin/lembaga-negara?utm_source=tribunnews;utm_medium=menu\" title=\"Lembaga Negara\">Lembaga Negara</a></li>\\n\\t\\t\\t\\t\\t\\t\\t\\t\\t\\t<li><a href=\"https://lampung.tribunnews.com/gebrakan-sang-pemimpin/provinsi?utm_source=tribunnews;utm_medium=menu\" title=\"Provinsi\">Provinsi</a></li>\\n\\t\\t\\t\\t\\t\\t\\t\\t\\t\\t<li><a href=\"https://lampung.tribunnews.com/gebrakan-sang-pemimpin/kabupaten-kota?utm_source=tribunnews;utm_medium=menu\" title=\"Kabupaten/Kota\">Kabupaten/Kota</a></li>\\n\\t\\t\\t\\t\\t\\t\\t\\t\\t</ul>\\n\\t\\t\\t\\t\\t\\t\\t\\t</li>\\n\\t\\t\\t\\t\\t\\t\\t\\t\\t\\t\\t\\t\\t\\t\\t\\t\\t\\t\\t\\t\\t\\t\\t\\t<li class=\"nw\">\\n\\t\\t\\t\\t\\t\\t\\t\\t\\t\\t<a href=\"https://lampung.tribunnews.com/lampung\" title=\"Lampung\">\\n\\t\\t\\t\\t\\t\\t\\t\\t\\t\\t\\tLampung\\t\\n\\t\\t\\t\\t\\t\\t\\t\\t\\t\\t</a>\\n\\t\\t\\t\\t\\t\\t\\t\\t\\t</li>\\n\\t\\t\\t\\t\\t\\t\\t\\t\\t\\t\\t\\t\\t\\t\\t\\t\\t\\t\\t\\t\\t\\t\\t\\t\\t\\t\\t\\t\\t\\t\\t\\t\\t\\t\\t\\t\\t\\t\\t\\t\\t\\t\\t<li class=\"nw\">\\n\\t\\t\\t\\t\\t\\t\\t\\t\\t\\t<a href=\"https://lampung.tribunnews.com/bandar-lampung-city\" title=\"Bandar Lampung City\">\\n\\t\\t\\t\\t\\t\\t\\t\\t\\t\\t\\tBandar Lampung City\\t\\n\\t\\t\\t\\t\\t\\t\\t\\t\\t\\t</a>\\n\\t\\t\\t\\t\\t\\t\\t\\t\\t</li>\\n\\t\\t\\t\\t\\t\\t\\t\\t\\t\\t\\t\\t\\t\\t\\t\\t\\t\\t\\t\\t\\t\\t\\t\\t\\t\\t\\t\\t\\t\\t\\t\\t\\t\\t\\t\\t\\t\\t\\t\\t\\t\\t\\t<li class=\"nw\">\\n\\t\\t\\t\\t\\t\\t\\t\\t\\t\\t<a href=\"https://lampung.tribunnews.com/polda-lampung\" title=\"Polda Lampung\">\\n\\t\\t\\t\\t\\t\\t\\t\\t\\t\\t\\tPolda Lampung\\t\\n\\t\\t\\t\\t\\t\\t\\t\\t\\t\\t</a>\\n\\t\\t\\t\\t\\t\\t\\t\\t\\t</li>\\n\\t\\t\\t\\t\\t\\t\\t\\t\\t\\t\\t\\t\\t\\t\\t\\t\\t\\t\\t\\t\\t\\t\\t\\t\\t\\t\\t\\t\\t\\t\\t\\t\\t\\t\\t\\t\\t\\t\\t\\t\\t\\t\\t<li class=\"nw\">\\n\\t\\t\\t\\t\\t\\t\\t\\t\\t\\t<a href=\"https://lampung.tribunnews.com/kltd-group\" title=\"<img src=\\'https://asset-1.tribunnews.com/img/logo/daerah/lampung/kalianda.png\\'/ alt=\\'KLTD Group\\' width=\\'115\\' height=\\'30\\' style=\\'max-width:95px;margin:-3px auto;text-align:center;\\'/>\">\\n\\t\\t\\t\\t\\t\\t\\t\\t\\t\\t\\t<img src=\\'https://asset-1.tribunnews.com/img/logo/daerah/lampung/kalianda.png\\'/ alt=\\'KLTD Group\\' width=\\'115\\' height=\\'30\\' style=\\'max-width:95px;margin:-3px auto;text-align:center;\\'/>\\t\\n\\t\\t\\t\\t\\t\\t\\t\\t\\t\\t</a>\\n\\t\\t\\t\\t\\t\\t\\t\\t\\t</li>\\n\\t\\t\\t\\t\\t\\t\\t\\t\\t\\t\\t\\t\\t\\t\\t\\t\\t\\t\\t\\t\\t\\t\\t\\t\\t\\t\\t\\t\\t\\t\\t\\t\\t\\t\\t\\t\\t\\t\\t\\t\\t\\t\\t<li class=\"nw\">\\n\\t\\t\\t\\t\\t\\t\\t\\t\\t\\t<a href=\"https://lampung.tribunnews.com/seleb\" title=\"Seleb\">\\n\\t\\t\\t\\t\\t\\t\\t\\t\\t\\t\\tSeleb\\t\\n\\t\\t\\t\\t\\t\\t\\t\\t\\t\\t</a>\\n\\t\\t\\t\\t\\t\\t\\t\\t\\t</li>\\n\\t\\t\\t\\t\\t\\t\\t\\t\\t\\t\\t\\t\\t\\t\\t\\t\\t\\t\\t\\t\\t\\t\\t\\t\\t\\t\\t\\t\\t\\t\\t\\t\\t\\t\\t\\t\\t\\t\\t\\t\\t\\t\\t<li class=\"nw\">\\n\\t\\t\\t\\t\\t\\t\\t\\t\\t\\t<a href=\"https://lampung.tribunnews.com/pendidikan\" title=\"Pendidikan\">\\n\\t\\t\\t\\t\\t\\t\\t\\t\\t\\t\\tPendidikan\\t\\n\\t\\t\\t\\t\\t\\t\\t\\t\\t\\t</a>\\n\\t\\t\\t\\t\\t\\t\\t\\t\\t</li>\\n\\t\\t\\t\\t\\t\\t\\t\\t\\t\\t\\t\\t\\t\\t\\t\\t\\t\\t\\t\\t\\t\\t\\t\\t\\t\\t\\t\\t\\t\\t\\t\\t\\t\\t\\t\\t\\t\\t\\t\\t\\t\\t\\t<li class=\"nw\">\\n\\t\\t\\t\\t\\t\\t\\t\\t\\t\\t<a href=\"https://lampung.tribunnews.com/pendidikan/universitas-lampung\" title=\"Universitas Lampung\">\\n\\t\\t\\t\\t\\t\\t\\t\\t\\t\\t\\tUniversitas Lampung\\t\\n\\t\\t\\t\\t\\t\\t\\t\\t\\t\\t</a>\\n\\t\\t\\t\\t\\t\\t\\t\\t\\t</li>\\n\\t\\t\\t\\t\\t\\t\\t\\t\\t\\t\\t\\t\\t\\t\\t\\t\\t\\t\\t\\t\\t\\t\\t\\t\\t\\t\\t\\t\\t\\t\\t\\t\\t\\t\\t\\t\\t\\t\\t\\t\\t\\t\\t<li class=\"nw\">\\n\\t\\t\\t\\t\\t\\t\\t\\t\\t\\t<a href=\"https://lampung.tribunnews.com/uin-lampung\" title=\"UIN Lampung\">\\n\\t\\t\\t\\t\\t\\t\\t\\t\\t\\t\\tUIN Lampung\\t\\n\\t\\t\\t\\t\\t\\t\\t\\t\\t\\t</a>\\n\\t\\t\\t\\t\\t\\t\\t\\t\\t</li>\\n\\t\\t\\t\\t\\t\\t\\t\\t\\t\\t\\t\\t\\t\\t\\t\\t\\t\\t\\t\\t\\t\\t\\t\\t\\t\\t\\t\\t\\t\\t\\t\\t\\t\\t\\t\\t\\t\\t\\t\\t\\t\\t\\t<li class=\"nw\">\\n\\t\\t\\t\\t\\t\\t\\t\\t\\t\\t<a href=\"https://lampung.tribunnews.com/public-service\" title=\"Public Service\">\\n\\t\\t\\t\\t\\t\\t\\t\\t\\t\\t\\tPublic Service\\t\\n\\t\\t\\t\\t\\t\\t\\t\\t\\t\\t</a>\\n\\t\\t\\t\\t\\t\\t\\t\\t\\t</li>\\n\\t\\t\\t\\t\\t\\t\\t\\t\\t\\t\\t\\t\\t\\t\\t\\t\\t\\t\\t\\t\\t\\t\\t<li class=\"nw\"><a href=\"https://lampung.tribunnews.com/public-service/pln-lampung\"  title=\"PLN Lampung\">PLN Lampung</a></li><li class=\"nw\"><a href=\"https://lampung.tribunnews.com/otomotif\"  title=\"Otomotif\">Otomotif</a></li><li class=\"nw\"><a href=\"https://lampung.tribunnews.com/bisnis\"  title=\"Bisnis\">Bisnis</a></li><li class=\"nw\"><a href=\"https://lampung.tribunnews.com/health\"  title=\"Health\">Health</a></li><li class=\"nw\"><a href=\"https://lampung.tribunnews.com/pemilu\"  title=\"Pemilu\">Pemilu</a></li><li class=\"nw\"><a href=\"https://lampung.tribunnews.com/epaper\"  title=\"Epaper\">Epaper</a></li><li class=\"nw\"><a href=\"https://lampung.tribunnews.com/video\"  title=\"Video\">Video</a></li><li class=\"nw\"><a href=\"https://lampung.tribunnews.com/lifestyle\"  title=\"Lifestyle\">Lifestyle</a></li><li class=\"nw\"><a href=\"https://lampung.tribunnews.com/citizen-journalism\"  title=\"Citizen Journalism\">Citizen Journalism</a></li><li class=\"nw\"><a href=\"https://lampung.tribunnews.com/techno\"  title=\"Techno\">Techno</a></li><li class=\"nw\"><a href=\"https://lampung.tribunnews.com/kesehatan\"  title=\"Kesehatan\">Kesehatan</a></li><li class=\"nw\"><a href=\"https://lampung.tribunnews.com/info-loker\"  title=\"Info Loker\">Info Loker</a></li><li class=\"nw\"><a href=\"https://tribunlampungwiki.tribunnews.com/\"  title=\"TribunLampungWiki.com\">TribunLampungWiki.com</a></li>\\t\\t\\t\\t<li class=\"nw\"><a href=\"https://lampung.tribunnews.com/index-news\" title=\"Indeks Berita\">Indeks Berita</a></li>\\n\\t\\t\\t</div>\\n\\t\\t\\t\\t\\t</ul>\\n\\t</div>\\n</div>\\n<script>\\n\\t$(function() {\\n\\t\\t$(\"#menu__slider\").bxSlider ({\\n\\t\\t\\tauto: true,\\n\\t\\t\\tpause: 5000,\\n\\t\\t\\tpager:false,\\n\\t\\t\\tcontrols:true,\\n\\t   \\t \\tslideWidth: 170,\\n\\t    \\tminSlides:6,\\n\\t    \\tmaxSlides:6,\\n\\t    \\tslideMargin: 0,\\n\\t  \\t\\tinfiniteLoop: false,\\n\\t  \\t\\thideControlOnEnd: false,\\n\\t\\t\\tnextText: \\'<i class=\"fa fa-caret-right\"></i>\\',\\n\\t\\t\\tprevText: \\'<i class=\"fa fa-caret-left\"></i>\\'\\n\\t\\t})\\n\\t});\\n</script>\\n\\n<div class=\"menu3\">\\n\\t<ul class=\"\" >\\n\\t\\t\\t\\t\\t\\t\\t\\t\\t<li><a href=\"https://lampung.tribunnews.com/lampung/bandar-lampung\" target=\"_blank\" title=\"Bandar Lampung\"><b>Bandar Lampung</b></a></li>\\n\\t\\t\\t\\t\\t\\t\\t\\t\\t\\t\\t\\t<li><a href=\"https://lampung.tribunnews.com/lampung/metro\" target=\"_blank\" title=\"Metro\"><b>Metro</b></a></li>\\n\\t\\t\\t\\t\\t\\t\\t\\t\\t\\t\\t\\t<li><a href=\"https://lampung.tribunnews.com/lampung/lampung-selatan\" target=\"_blank\" title=\"Lampung Selatan\"><b>Lampung Selatan</b></a></li>\\n\\t\\t\\t\\t\\t\\t\\t\\t\\t\\t\\t\\t<li><a href=\"https://lampung.tribunnews.com/lampung/tanggamus\" target=\"_blank\" title=\"Tanggamus\"><b>Tanggamus</b></a></li>\\n\\t\\t\\t\\t\\t\\t\\t\\t\\t\\t\\t\\t<li><a href=\"https://lampung.tribunnews.com/lampung/lampung-utara\" target=\"_blank\" title=\"Lampung Utara\"><b>Lampung Utara</b></a></li>\\n\\t\\t\\t\\t\\t\\t\\t\\t\\t\\t\\t\\t<li><a href=\"https://lampung.tribunnews.com/lampung/tulangbawang\" target=\"_blank\" title=\"Tulangbawang\"><b>Tulangbawang</b></a></li>\\n\\t\\t\\t\\t\\t\\t\\t\\t\\t\\t\\t\\t<li><a href=\"https://lampung.tribunnews.com/lampung/lampung-tengah\" target=\"_blank\" title=\"Lampung Tengah\"><b>Lampung Tengah</b></a></li>\\n\\t\\t\\t\\t\\t\\t\\t\\t\\t\\t\\t\\t<li><a href=\"https://lampung.tribunnews.com/lampung/pesawaran\" target=\"_blank\" title=\"Pesawaran\"><b>Pesawaran</b></a></li>\\n\\t\\t\\t\\t\\t\\t\\t\\t\\t\\t\\t\\t<li><a href=\"https://lampung.tribunnews.com/lampung/pringsewu\" target=\"_blank\" title=\"Pringsewu\"><b>Pringsewu</b></a></li>\\n\\t\\t\\t\\t\\t\\t\\t\\n\\t\\t\\t\\t<li><a href=\"#\" title=\"Kota Lain\" >Lainnya <i class=\"fa fa-caret-down\"></i></a>\\n\\t\\t\\t<ul>\\n\\t\\t\\t<li class=\"nw\"><a href=\"https://lampung.tribunnews.com/lampung/pesisir-barat\"  title=\"Pesisir Barat\">Pesisir Barat</a></li><li class=\"nw\"><a href=\"https://lampung.tribunnews.com/superball\"  title=\"Superball\">Superball</a></li><li class=\"nw\"><a href=\"https://lampung.tribunnews.com/sport\"  title=\"Sport\">Sport</a></li><li class=\"nw\"><a href=\"https://lampung.tribunnews.com/travel\"  title=\"Travel\">Travel</a></li><li class=\"nw\"><a href=\"https://lampung.tribunnews.com/pemprov-lampung\"  title=\"Pemprov Lampung\">Pemprov Lampung</a></li><li class=\"nw\"><a href=\"https://lampung.tribunnews.com/lampung/lampung-barat\"  title=\"Lampung Barat\">Lampung Barat</a></li><li class=\"nw\"><a href=\"https://lampung.tribunnews.com/lampung/way-kanan\"  title=\"Way Kanan\">Way Kanan</a></li><li class=\"nw\"><a href=\"https://lampung.tribunnews.com/lampung/lampung-timur\"  title=\"Lampung Timur\">Lampung Timur</a></li><li class=\"nw\"><a href=\"https://lampung.tribunnews.com/lampung/mesuji\"  title=\"Mesuji\">Mesuji</a></li><li class=\"nw\"><a href=\"https://lampung.tribunnews.com/lampung/tuba-barat\"  title=\"Tulangbawang Barat\">Tulangbawang Barat</a></li>\\t\\t\\t</ul>\\n\\t\\t</li>\\n\\t\\t\\t</ul>\\n</div>\\n\\n\\n\\t    <style>.menu-enjoy{border:none}.menu-enjoy .selected a{border-bottom:4px solid rgba(0,0,0,.25)!important}.menu-enjoy li a{text-shadow:0 1px 1px rgba(0,0,0,.2);display:block;text-align:center}.menu-enjoy ul{display:flex!important;justify-content:space-evenly;align-items:center}.menu-enjoy li{border-left:1px solid rgba(255,255,255,.1);position:relative!important;display:block!important;width:100%}.menu-enjoy li ul{min-width:unset!important;max-width:unset!important;position:absolute;border-top:1px solid rgba(0,0,0,.2);display:flex!important;justify-content:flex-start;flex-direction:column;width:-webkit-fill-available;border-radius:0 0 5px 5px}.menu-enjoy li li{background:0 0!important}</style>\\n<div class=\"main-menu menu-enjoy\" style=\"z-index:3\">\\n\\t<div>\\n\\t\\t<ul>\\n\\t\\t\\t\\t\\t\\t\\n\\t\\t\\t<li class=\"nw \" style=\"background:#ec2028\">\\n\\t\\t\\t\\t\\t\\t\\t\\t<a style=\"color:#fff;text-shadow:none\" href=\"https://lampung.tribunnews.com/travel\"  title=\"Travel\">Travel</a>\\n\\t\\t\\t\\t\\t\\t\\t</li>\\n\\t\\t\\t\\n\\t\\t\\t<li class=\"nw \" style=\"background:#0033a7\">\\n\\t\\t\\t\\t\\t\\t\\t\\t<a style=\"color:#fff;text-shadow:none\" href=\"https://lampung.tribunnews.com/travel/akomodasi\"  title=\"Akomodasi\">Akomodasi</a>\\n\\t\\t\\t\\t\\t\\t\\t</li>\\n\\t\\t\\t\\n\\t\\t\\t<li class=\"nw \" style=\"background:#6700f3\">\\n\\t\\t\\t\\t\\t\\t\\t\\t<a style=\"color:#fff;text-shadow:none\" href=\"https://lampung.tribunnews.com/travel/kuliner\"  title=\"Kuliner\">Kuliner</a>\\n\\t\\t\\t\\t\\t\\t\\t</li>\\n\\t\\t\\t\\n\\t\\t\\t<li class=\"nw \" style=\"background:#0b9600\">\\n\\t\\t\\t\\t\\t\\t\\t\\t<a style=\"color:#fff;text-shadow:none\" href=\"https://lampung.tribunnews.com/travel/destinasi\"  title=\"Destinasi\">Destinasi</a>\\n\\t\\t\\t\\t\\t\\t\\t</li>\\n\\t\\t\\t\\n\\t\\t\\t<li class=\"nw \" style=\"background:#ffcb04\">\\n\\t\\t\\t\\t\\t\\t\\t\\t<a style=\"color:#fff;text-shadow:none\" href=\"https://lampung.tribunnews.com/travel/shopping\"  title=\"Shopping\">Shopping</a>\\n\\t\\t\\t\\t\\t\\t\\t</li>\\n\\t\\t\\t\\n\\t\\t\\t<li class=\"nw \" style=\"background:#fa7000\">\\n\\t\\t\\t\\t\\t\\t\\t\\t<a style=\"color:#fff;text-shadow:none\" href=\"https://lampung.tribunnews.com/travel/ticketing\"  title=\"Ticketing\">Ticketing</a>\\n\\t\\t\\t\\t\\t\\t\\t</li>\\n\\t\\t\\t\\n\\t\\t\\t<li class=\"nw \" style=\"background:#00a7e5\">\\n\\t\\t\\t\\t\\t\\t\\t\\t<a style=\"color:#fff;text-shadow:none\" href=\"https://tribunlampungtravel.tribunnews.com/\" target=\"_blank\" title=\"TribunLampungTravel.com\">TribunLampungTravel.com</a>\\n\\t\\t\\t\\t\\t\\t\\t</li>\\n\\t\\t\\t\\n\\t\\t</ul>\\n\\t</div>\\n</div>\\n\\t\\t<div class=\"cl2\"></div>\\n\\t\\t<div class=\"mid\">\\n\\t<div class=\"fl w1\">\\n\\t\\t<div id=\"content\"><div class=\"tnewswebsearchresults bsh pa20\">\\n<style>.tnewswebsearchresults{min-height:1100px}.tnewswebsearchresults #afscontainer1,.tnewswebsearchresults .gsc-adBlock{display:none}.tnewswebsearchresults .gs-webResult.gs-result a.gs-title,.tnewswebsearchresults .gs-webResult.gs-result a.gs-title b{color:#000!important;font-size:18px!important;font-weight:700}.tnewswebsearchresults .gs-webResult.gs-result{position:relative;min-height:135px;max-height:135px;overflow:hidden}.tnewswebsearchresults .gs-webResult.gs-result .gsc-thumbnail-inside,.tnewswebsearchresults .gs-webResult.gs-result .gsc-url-top{margin:10px 0 0 145px}.tnewswebsearchresults .gs-webResult.gs-result .gsc-table-result .gsc-table-cell-snippet-close{margin:0 0 5px 145px}.tnewswebsearchresults .gs-webResult.gs-result .gsc-table-result .gsc-table-cell-thumbnail.gsc-thumbnail{position:relative}.tnewswebsearchresults .gs-webResult.gs-result .gsc-table-result .gs-image-box.gs-web-image-box.gs-web-image-box-landscape{display:block;width:125px;height:125px;overflow:hidden;border-radius:10px;position:absolute;top:-50px;left:0;box-shadow:0 0 5px rgb(0,0,0,.5)}.tnewswebsearchresults .gsc-cursor-box{margin:10px;text-align:center}.tnewswebsearchresults .gsc-results .gsc-cursor{display:flex;justify-content:center;gap:10px}.tnewswebsearchresults .gs-promotion-text-cell,.tnewswebsearchresults .gsc-table-cell-snippet-close{vertical-align:top;width:60%}.tnewswebsearchresults .gsc-results .gsc-cursor-box .gsc-cursor-page{background-color:transparent;color:#333;margin:0;padding:5px 7px;border:1px solid #595959;border-radius:5px;transition:.5s;cursor:pointer!important}.tnewswebsearchresults .gsc-results .gsc-cursor-box .gsc-cursor-current-page,.tnewswebsearchresults .gsc-results .gsc-cursor-box .gsc-cursor-page:hover{cursor:default;color:#fff!important;font-weight:700;text-decoration:none;background:#016fba!important;border-color:#016fba}.tnewswebsearchresults .gs-webResult.gs-result .gsc-table-result img.gs-image{width:100%;position:absolute;left:-30%;top:0;max-height:130px!important;min-width:fit-content!important;border:none}</style>\\n\\t<div class=\"search__page\">\\n\\t\\t<script async src=\"https://cse.google.com/cse.js?cx=016364a8b29784e5c\"></script>\\n\\t\\t<div class=\"gcse-search\"></div>\\n\\t</div>\\n</div></div>\\n\\t</div>\\n\\t<div style=\"clear:both\"></div>\\n</div>\\n<div class=\"mt20\"></div>\\n<div class=\"pa10 ac\">\\n&copy; 2025 TRIBUNnews.com Network\\n<span class=\"f10 grey pl5 pr5\">&#8226;</span>\\n<a href=\"https://www.tribunnews.com/about\" title=\"About Us\">About Us</a>\\n<span class=\"f10 grey pl5 pr5\">&#8226;</span>\\n<a href=\"https://www.tribunnews.com/privacy-policy\" title=\"Privacy Policy\">Privacy Policy</a>\\n<span class=\"f10 grey pl5 pr5\">&#8226;</span>\\n<a href=\"https://www.tribunnews.com/pedoman\" title=\"Pedoman Media Siber\">Pedoman Media Siber</a>\\n<span class=\"f10 grey pl5 pr5\">&#8226;</span>\\n<a href=\"https://lampung.tribunnews.com/help\" title=\"Help\">Help</a>\\n<span class=\"f10 grey pl5 pr5\">&#8226;</span>\\n<a title=\"terms\" href=\"https://www.tribunnews.com/terms\">Terms of Use</a>\\n<span class=\"f10 grey pl5 pr5\">&#8226;</span>\\n<a title=\"redaksi\" href=\"https://lampung.tribunnews.com/redaksi\">Redaksi</a>\\n<span class=\"f10 grey pl5 pr5\">&#8226;</span>\\n<a href=\"https://lampung.tribunnews.com/info-iklan\" title=\"info-iklan\" >Info iklan</a>\\n<span class=\"f10 grey pl5 pr5\">&#8226;</span>\\n<a href=\"https://lampung.tribunnews.com/contact-us\" title=\"Contact Us\">Contact Us</a>\\n</div>\\n</div>\\n<div class=\"ontop hide\"><i class=\"fa fa-arrow-circle-up\"></i></div>\\n<div class=\"pos_rel\" id=\"adsoutofpage\">\\n</div>\\n\\n\\n<!-- Begin comScore Tag -->\\n<script>\\nvar _comscore = _comscore || [];\\n_comscore.push({ c1: \"2\", c2: \"8077308\" });\\n(function() {\\n\\tvar s = document.createElement(\"script\"), el = document.getElementsByTagName(\"script\")[0]; s.async = true;\\n\\ts.src = (document.location.protocol == \"https:\" ? \"https://sb\" : \"https://b\") + \".scorecardresearch.com/beacon.js\";\\n\\tel.parentNode.insertBefore(s, el);\\n})();\\n</script>\\n<noscript>\\n<img src=\"https://b.scorecardresearch.com/p?c1=2&c2=8077308&cv=2.0&cj=1\" alt=\"ComScore\" />\\n</noscript>\\n<!-- End comScore Tag -->\\n\\n<script async src=\"https://sttribunnews.kompas.com/kgnotif/2024/09/25/tribun.js\"></script>\\n<script>\\n\\tif(document.cookie.indexOf(\\'ukid=\\') == -1){\\n\\t\\t\\t$.ajax({\\n\\t\\t\\t\\t\\turl: \\'https://apis.kompas.com/api/activity/user\\',\\n\\t\\t\\t\\t\\ttype: \\'get\\',\\n\\t\\t\\t\\t\\tdataType: \"json\",\\n\\t\\t\\t\\t\\tsuccess: function (res) {\\n\\n\\t\\t\\t\\t\\t\\t\\tlet ukid = res.ukid;\\n\\t\\t\\t\\t\\t\\t\\tlet date = new Date();\\n\\t\\t\\t\\t\\t\\t\\t\\t\\tdate.setDate(date.getDate() + 1);\\n\\t\\t\\t\\t\\t\\t\\tlet expired = date.toUTCString();\\n\\t\\t\\t\\t\\t\\t\\tlet domain = \\'.tribunnews.com\\';\\n\\n\\t\\t\\t\\t\\t\\t\\tdocument.cookie = \"ukid=\"+ ukid +\"; expires=\"+ expired +\"; domain=\"+ domain +\"; path=/\"; // set cookie\\n\\t\\t\\t\\t\\t}\\n\\t\\t\\t});\\n\\t}\\n</script>\\n<script>\\n$(document).ready(function() {\\n\\t$(\\'a\\').attr(\\'aria-label\\', \\'link\\');\\n});\\n</script>\\n<!-- start onetap signin google -->\\n<div id=\"sso_g_signin\"></div>\\n<script type=\"text/javascript\" src=\"https://asset-1.tribunnews.com/js/kgmedia/tribunnews/sso_g_signin_fedcm_nk.min-1.0.js\"></script>\\n<script type=\"text/javascript\" src=\"https://asset-1.tribunnews.com/js/kgmedia/tribunnews/sso_personalisasi_nk-2.1.min.js\"></script>\\n<script type=\"text/javascript\" src=\"https://asset-1.tribunnews.com/js/kgmedia/extender_tribun.min-1.0.js\"></script>\\n<!-- end onetap signin google -->\\n<script type=\"text/javascript\" src=\"https://asset-1.tribunnews.com/js/kgmedia/tribunnews/ssouser.min-1.1.js\"></script>\\n<!-- refresh -->\\n<script>\\n    !(function () {\\n        var time = new Date().getTime();\\n    \\n        $(document.body).bind(\\'mousemove keypress\\', function(e) {\\n            time = new Date().getTime();\\n        });\\n    \\n        function refresh() {\\n            if (new Date().getTime() - time >= 900000) {\\n                window.location.reload(true);\\n            } else {\\n                setTimeout(refresh, 10000);\\n            }\\n        }\\n        setTimeout(refresh, 10000);\\n    })();\\n</script>\\n<script>\\n  setTimeout(function () {\\n    if (window.googletag && googletag.apiReady) {\\n      googletag.cmd.push(function () {\\n        if (googletag.pubads && googletag.pubads().refresh) {\\n          googletag.pubads().refresh = function () {\\n            console.warn(\"Ad refresh blocked after 70s.\");\\n          };\\n          console.log(\"GPT refresh disabled after 70 seconds.\");\\n        }\\n      });\\n    }\\n  }, 70000);\\n</script>\\n</body>\\n</html>\\n'"
      ]
     },
     "execution_count": 29,
     "metadata": {},
     "output_type": "execute_result"
    }
   ],
   "source": [
    "# html = await fetch_page(url, {}, {})\n",
    "html = await fetch_page(url, 'dtsen', headers)\n",
    "html"
   ]
  },
  {
   "cell_type": "code",
   "execution_count": 25,
   "id": "2d0044b8",
   "metadata": {},
   "outputs": [
    {
     "data": {
      "text/plain": [
       "<HTMLParser chars=91726>"
      ]
     },
     "execution_count": 25,
     "metadata": {},
     "output_type": "execute_result"
    }
   ],
   "source": [
    "parser = HTMLParser(html)\n",
    "parser"
   ]
  },
  {
   "cell_type": "code",
   "execution_count": 22,
   "id": "3674a8ac",
   "metadata": {},
   "outputs": [
    {
     "data": {
      "text/plain": [
       "[]"
      ]
     },
     "execution_count": 22,
     "metadata": {},
     "output_type": "execute_result"
    }
   ],
   "source": [
    "search_results = parser.css('article')\n",
    "search_results"
   ]
  },
  {
   "cell_type": "code",
   "execution_count": 23,
   "id": "4095bc8c",
   "metadata": {},
   "outputs": [
    {
     "data": {
      "text/plain": [
       "[]"
      ]
     },
     "execution_count": 23,
     "metadata": {},
     "output_type": "execute_result"
    }
   ],
   "source": [
    "paragraphs = [p.text() for p in parser.css('div.detail__body-text > p')]\n",
    "paragraphs"
   ]
  },
  {
   "cell_type": "code",
   "execution_count": 7,
   "id": "fe82872c",
   "metadata": {},
   "outputs": [],
   "source": [
    "async def parse_item(result) -> Dict[str, str]:\n",
    "    \"\"\"Extract information from a single search result.\"\"\"\n",
    "    title = result.css_first('h3.media__title').text()\n",
    "    date = result.css_first('.media__date > span').attrs['title']\n",
    "    url = result.css_first('a').attrs['href']\n",
    "    desc_element = result.css_first('div.media__desc')\n",
    "    desc = desc_element.text() if desc_element else \"No description\"\n",
    "\n",
    "    # Fetch content for each item\n",
    "    content = await parse_content(url)\n",
    "\n",
    "    return {\n",
    "        'title': title,\n",
    "        'url': url,\n",
    "        'date': date,\n",
    "        'desc': desc,\n",
    "        'content': content\n",
    "    }\n"
   ]
  },
  {
   "cell_type": "code",
   "execution_count": 8,
   "id": "c9a04575",
   "metadata": {},
   "outputs": [],
   "source": [
    "async def parse(url: str, params: dict, headers: dict) -> List[Dict[str, str]]:\n",
    "    \"\"\"Parse search results from the page and extract details.\"\"\"\n",
    "    html = await fetch_page(url, params, headers)\n",
    "    if not html:\n",
    "        return []\n",
    "\n",
    "    parser = HTMLParser(html)\n",
    "    search_results = parser.css('article')\n",
    "\n",
    "    # Parse each result concurrently\n",
    "    return await asyncio.gather(*[parse_item(result) for result in search_results])\n"
   ]
  },
  {
   "cell_type": "code",
   "execution_count": 9,
   "id": "cab5990d",
   "metadata": {},
   "outputs": [],
   "source": [
    "async def fetch_json(url: str, headers: dict = None) -> Union[Dict, None]:\n",
    "    \"\"\"Fetch JSON data from the provided URL with error handling.\"\"\"\n",
    "    async with httpx.AsyncClient() as client:\n",
    "        try:\n",
    "            response = await client.get(url, headers=headers, timeout=10.0)\n",
    "            return response.json()\n",
    "        except httpx.TimeoutException:\n",
    "            st.error(f\"Timeout: unable to connect to {url}. Please try again.\")\n",
    "            return None\n",
    "        except httpx.HTTPStatusError as e:\n",
    "            st.error(f\"HTTP error: {str(e)}\")\n",
    "            return None\n"
   ]
  },
  {
   "cell_type": "code",
   "execution_count": 11,
   "id": "a8d2177e",
   "metadata": {},
   "outputs": [],
   "source": [
    "def insert_news_to_db(data: Dict[str, str]):\n",
    "    \"\"\"Insert scraped news item into MySQL database.\"\"\"\n",
    "    try:\n",
    "        # Koneksi ke database\n",
    "        conn = mysql.connector.connect(\n",
    "            host=\"localhost\",        # ganti sesuai server\n",
    "            user=\"root\",             # ganti username MySQL\n",
    "            password=\"\",             # ganti password MySQL\n",
    "            database=\"siger-lampung\" # database tujuan\n",
    "        )\n",
    "        cursor = conn.cursor()\n",
    "\n",
    "        # Query insert\n",
    "        query = \"\"\"\n",
    "        INSERT INTO news (nama, tanggal_berita, tanggal_update, link)\n",
    "        VALUES (%s, %s, %s, %s)\n",
    "        \"\"\"\n",
    "\n",
    "        # Konversi tanggal_berita dari string ke format DATE MySQL\n",
    "        try:\n",
    "            tanggal_berita = datetime.datetime.strptime(data[\"date\"], \"%d %B %Y\").date()\n",
    "        except ValueError:\n",
    "            # fallback kalau format tanggal beda\n",
    "            tanggal_berita = datetime.date.today()\n",
    "\n",
    "        tanggal_update = datetime.date.today()\n",
    "\n",
    "        values = (\n",
    "            data[\"title\"],           # nama\n",
    "            tanggal_berita,          # tanggal_berita\n",
    "            tanggal_update,          # tanggal_update\n",
    "            data[\"url\"]              # link\n",
    "        )\n",
    "\n",
    "        # Eksekusi query\n",
    "        cursor.execute(query, values)\n",
    "        conn.commit()\n",
    "\n",
    "        print(f\"Berhasil insert: {data['title']}\")\n",
    "    except mysql.connector.Error as err:\n",
    "        print(f\"Error: {err}\")\n",
    "    finally:\n",
    "        if conn.is_connected():\n",
    "            cursor.close()\n",
    "            conn.close()"
   ]
  },
  {
   "cell_type": "code",
   "execution_count": 31,
   "id": "505b1d89",
   "metadata": {},
   "outputs": [],
   "source": [
    "async def parse(url: str, params: dict, headers: dict) -> List[Dict[str, str]]:\n",
    "    \"\"\"Parse search results from the page and extract details.\"\"\"\n",
    "    html = await fetch_page(url, params, headers)\n",
    "    if not html:\n",
    "        return []\n",
    "\n",
    "    parser = HTMLParser(html)\n",
    "    search_results = parser.css('article')\n",
    "\n",
    "    # Parse each result concurrently\n",
    "    results = await asyncio.gather(*[parse_item(result) for result in search_results])\n",
    "\n",
    "    # Setelah semua selesai, masukkan ke DB\n",
    "    for item in results:\n",
    "        insert_news_to_db(item)\n",
    "\n",
    "    return results\n"
   ]
  },
  {
   "cell_type": "code",
   "execution_count": 27,
   "id": "cca4e239",
   "metadata": {},
   "outputs": [],
   "source": [
    "search_url = \"https://www.detik.com/search/searchall?\"\n",
    "headers = {\n",
    "        \"User-Agent\": \"Mozilla/5.0 (Windows NT 10.0; Win64; x64) AppleWebKit/537.36 (KHTML, like Gecko) Chrome/244.178.44.111 Safari/537.36\",\n",
    "    }\n",
    "params = {\"query\": \"dtsen\", \"page\": 1, }"
   ]
  },
  {
   "cell_type": "code",
   "execution_count": null,
   "id": "fbb52f9c",
   "metadata": {},
   "outputs": [],
   "source": [
    "async def main():\n",
    "    search_url = \"https://www.detik.com/search/searchall?\"\n",
    "    headers = {\n",
    "        \"User-Agent\": \"Mozilla/5.0 (Windows NT 10.0; Win64; x64) AppleWebKit/537.36 (KHTML, like Gecko) Chrome/244.178.44.111 Safari/537.36\",\n",
    "    }\n",
    "    params = {\"query\": \"dtsen\", \"page\": 1}\n",
    "\n",
    "    # Jalankan parsing\n",
    "    results = await parse(search_url, params, headers)\n",
    "\n",
    "    print(f\"{len(results)} berita berhasil diproses dan dimasukkan ke DB.\")\n"
   ]
  },
  {
   "cell_type": "code",
   "execution_count": 32,
   "id": "03315fe9",
   "metadata": {},
   "outputs": [
    {
     "name": "stdout",
     "output_type": "stream",
     "text": [
      "Berhasil insert: \n",
      "            Rakor Akselerasi Pembangunan NTT, Gus Ipul Tekankan Pedoman DTSEN\n",
      "         \n",
      "Berhasil insert: \n",
      "            Apa Bedanya DTKS dan DTSEN? Simak Juga Cara Daftarnya\n",
      "         \n",
      "Berhasil insert: \n",
      "            Cara Cek Status Pendaftaran DTKS, Kini Sudah Berganti Jadi DTSEN\n",
      "         \n",
      "Berhasil insert: \n",
      "            Video: Menag Pastikan Dana Zakat akan Tepat Sasaran Lewat DTSEN\n",
      "         \n",
      "Berhasil insert: \n",
      "            Kemendagri Dukung Akselerasi Program 3 Juta Rumah Lewat Integrasi DTSEN\n",
      "         \n",
      "Berhasil insert: \n",
      "            Wamensos Ajak Pemda Jadikan DTSEN Landasan Program Pengentasan Kemiskinan\n",
      "         \n",
      "Berhasil insert: \n",
      "            Bansos Tahap II Siap Disalurkan, Mengacu pada DTSEN\n",
      "         \n",
      "Berhasil insert: \n",
      "            DTSEN Rampung. Mensos Sebut Kolaborasi Banyak Kementerian\n",
      "         \n",
      "Berhasil insert: \n",
      "            Kemensos & BPS Mutakhirkan DTSEN untuk Penyaluran Bansos Triwulan II\n",
      "         \n",
      "Berhasil insert: \n",
      "            DTKS Resmi Diganti DTSEN, Penyaluran Bansos Dianggap Lebih Akurat\n",
      "         \n",
      "Berhasil insert: \n",
      "            Mensos Sebut Penyaluran Bansos Pakai DTSEN Kemungkinan Mulai Mei 2025\n",
      "         \n",
      "11 berita berhasil diproses dan dimasukkan ke DB.\n"
     ]
    }
   ],
   "source": [
    "search_url = \"https://www.detik.com/search/searchall?\"\n",
    "headers = {\n",
    "        \"User-Agent\": \"Mozilla/5.0 (Windows NT 10.0; Win64; x64) AppleWebKit/537.36 (KHTML, like Gecko) Chrome/244.178.44.111 Safari/537.36\",\n",
    "}\n",
    "params = {\"query\": \"dtsen\", \"page\": 1}\n",
    "\n",
    "# Jalankan parsing\n",
    "results = await parse(search_url, params, headers)\n",
    "\n",
    "print(f\"{len(results)} berita berhasil diproses dan dimasukkan ke DB.\")"
   ]
  },
  {
   "cell_type": "code",
   "execution_count": 14,
   "id": "19f5f24c",
   "metadata": {},
   "outputs": [],
   "source": [
    "items = await parse(search_url, params, headers)"
   ]
  },
  {
   "cell_type": "code",
   "execution_count": 20,
   "id": "521b61e5",
   "metadata": {},
   "outputs": [
    {
     "data": {
      "text/plain": [
       "{'title': '\\n            Rakor Akselerasi Pembangunan NTT, Gus Ipul Tekankan Pedoman DTSEN\\n         ',\n",
       " 'url': 'https://news.detik.com/berita/d-8047705/rakor-akselerasi-pembangunan-ntt-gus-ipul-tekankan-pedoman-dtsen',\n",
       " 'date': 'Rabu, 06 Agu 2025 14:10 WIB',\n",
       " 'desc': '\\n            Gus Ipul menekankan pentingnya penyusunan program yang berpedoman pada Data Tunggal Sosial Ekonomi Nasional (DTSEN).         ',\n",
       " 'content': 'Menteri Sosial Saifullah Yusuf (Gus Ipul) menekankan pentingnya penyusunan program yang berpedoman pada Data Tunggal Sosial Ekonomi Nasional (DTSEN) serta perubahan paradigma dari pemberian bantuan sosial ke pemberdayaan.\\nHal ini disampaikan Gus Ipul saat menghadiri secara virtual Rapat Koordinasi Percepatan Implementasi Program Pemerintah Pusat di Provinsi Nusa Tenggara Timur (NTT). Rapat yang digelar secara hybrid ini dihadiri oleh berbagai perwakilan Kementerian dan Lembaga serta seluruh jajaran Pemerintah Kabupaten/Kota di Provinsi NTT.\\n\"Kami ingin mengajak Bapak-Ibu sekalian untuk kolaborasi antara pusat, daerah, antara kementerian dan lembaga, tapi juga penting untuk mengajak BUMN, lembaga filantropi seperti Baznas dan lain sebagainya, untuk kita ajak bersama-sama menggunakan data yang sama dan berbagi peran dalam rangka memberdayakan keluarga-keluarga, yang kita anggap perlu untuk didampingi dan dibina sampai bisa graduasi atau bisa diwisuda sebagai keluarga yang mandiri dan sejahtera,\" ujar Gus Ipul di Kantor Kemensos, Jakarta, Rabu (6/8/2025).\\nSebagai langkah strategis dalam upaya menghadirkan bantuan sosial (bansos) yang tepat sasaran, Presiden Prabowo Subianto menerbitkan Instruksi Presiden (Inpres) Nomor 4 Tahun 2025 tentang DTSEN. Data ini merupakan peleburan dari Data Tunggal Kesejahteraan Sosial (DTKS), Registrasi Sosial Ekonomi (Regsosek) dan Penyasaran Percepatan Penghapusan Kemiskinan Ekstrem (P3KE).\\n\"Data tersebut adalah data yang harus jadi perdoman bagi semua Kementerian dan Lembaga termasuk juga pemerintah daerah. Saya kira ini adalah pertama kali Indonesia memiliki data tunggal yang harus terus kita lakukan pemutakhiran karena data ini adalah data dinamis,\" ujarnya.\\n\\nGus Ipul mengajak Pemerintah Kabupaten/Kota di Provinsi NTT untuk selalu membantu pemutakhiran data, mengingat DTSEN bersifat dinamis karena setiap hari ada masyarakat yang meninggal dunia, lahir, dan berpindah tempat. Pemutakhiran data penting dilakukan agar data semakin akurat dan bansos tepat sasaran.\\n\"Ini penting untuk kita pahami bersama bahwa Bapak-Ibu sekalian jangan kita sendiri-sendiri, mungkin dulu masih sendiri-sendiri karena datanya juga beda-beda, dulu Kementerian Sosial punya sendiri, Bappenas punya sendiri, Pemerintah Provinsi mungkin NTT juga punya sendiri, Kabupaten/Kota juga punya sendiri, tapi hari ini data kita sudah harus dilebur jadi satu menjadi Data Tunggal Sosial Ekonomi Nasional,\" urainya.\\nSelain menekankan acuan satu data, Gus Ipul juga mengajak pemerintah daerah untuk mendorong Keluarga Penerima Manfaat (KPM) penerima bansos untuk lebih berdaya dan mandiri dengan program-program pemberdayaan yang ada.\\nKementerian Sosial melalui Pendamping Program Keluarga Harapan (PKH) mempunyai target setiap tahun minimal satu pendamping bisa mengraduasi 10 KPM. Target ini diharapkan mampu menurunkan angka kemiskinan secara siginifikan dan KPM menjadi keluarga yang lebih berdaya.\\n\"Kita ingin mengajak mereka yang selama ini menerima Bansos, kecuali yang lansia dan penyandang disabilitas, untuk memiliki semangat yang sama dengan kita, mereka mau untuk bisa menjadi keluarga yang lebih sejahtera. Maka kita harus sadarkan, kita harus ajak, kita harus membangun kesadaran bahwa Bansos itu sementara, berdaya itu selamanya,\" katanya.\\n\\nGus Ipul menjelaskan pemberdayaan menjadi arah Pembangunan Presiden Prabowo. Hal itu ditunjukkan salah satunya dengan membentuk Kementerian Koordinator Bidang Pemberdayaan Masyarakat, sehingga pemberdayaan harus diperkuat termasuk di daerah.\\n\"Kalau selama ini adalah social protection heavy, maka kita harus geser juga ke kanan untuk diseimbangkan dengan memperkuat empowering heavy-nya,\" ucapnya.\\nSementara itu, Gubernur NTT Emanuel Melkiades Laka Lena menjelaskan rapat koordinasi ini dalam rangka memastikan seluruh program pemerintah pusat di NTT bisa berjalan dengan baik.\\n\"Acara ini lahir dari beberapa kali ada kunjungan dari Pak Menko atau yang diutus oleh Pak Menko dari Jakarta, baik Menko Polkam, kemarin hadir langsung Menko Pangan dan beberapa wakil menteri yang ada di sini, yang meminta agar berbagai Program Pusat yang ada di NTT ini bisa dikerjakan dalam tahun ini,\" urainya.\\nRakor ini bertujuan mengindentifikasi strategi percepatan dan hambatan implementasi program regional, meningkatkan kolaborasi pusat dan daerah serta antara kabupaten/kota, merumuskan rencana tingkat tindak lanjut serta pembentukan kelompok kerja atau satuan tugas, dan mewujudkan strategi sinegritas antara program pemerintah pusat dan program pemerintah daerah.\\n\\nSimak juga Video: Mensos Periksa Dana Bansos Rp 2,1 T Nganggur di 10 Juta Rekening\\n'}"
      ]
     },
     "execution_count": 20,
     "metadata": {},
     "output_type": "execute_result"
    }
   ],
   "source": [
    "items[0]"
   ]
  },
  {
   "cell_type": "code",
   "execution_count": null,
   "id": "e090db73",
   "metadata": {},
   "outputs": [],
   "source": [
    "async def main():\n",
    "    \"\"\"Main Streamlit application function.\"\"\"\n",
    "    search_url = \"https://www.detik.com/search/searchall?\"\n",
    "\n",
    "    headers = {\n",
    "        \"User-Agent\": \"Mozilla/5.0 (Windows NT 10.0; Win64; x64) AppleWebKit/537.36 (KHTML, like Gecko) Chrome/244.178.44.111 Safari/537.36\",\n",
    "    }\n",
    "\n",
    "    # Streamlit container to group the input elements\n",
    "    with st.container():\n",
    "        st.title(\"Scraping Berita DTSEN\")\n",
    "\n",
    "        keyword = st.text_input(\"Search keyword\")\n",
    "\n",
    "        # Total pages and export options\n",
    "        pages = int(st.text_input(\"Total Pages\", value=\"1\"))\n",
    "        export_format = st.selectbox(\"Export to\", [\"CSV\", \"XLSX\", \"JSON\"])\n",
    "\n",
    "        # Disable Scrape button when keyword is empty\n",
    "        scrape_button = st.button(\"Scrape\", disabled=not keyword)\n",
    "\n",
    "    if scrape_button and keyword:\n",
    "        with st.spinner(f\"Scraping results for '{keyword}'...\"):\n",
    "            now = datetime.datetime.now()\n",
    "            formatted_time = now.strftime(\"%Y%m%d_%H%M%S\")\n",
    "\n",
    "            params = {\n",
    "                \"query\": keyword,\n",
    "                \"page\": 1,  # Placeholder, will be adjusted in loop\n",
    "            }\n",
    "\n",
    "            # Collect data for all pages asynchronously\n",
    "            all_items = []\n",
    "            for page in range(1, pages + 1):\n",
    "                params['page'] = page\n",
    "                items = await parse(search_url, params, headers)\n",
    "                all_items.extend(items)\n",
    "\n",
    "            if all_items:\n",
    "                data = pd.DataFrame(all_items)\n",
    "                data.index += 1\n",
    "                st.dataframe(data)\n",
    "\n",
    "                file_name = f\"{formatted_time}_{keyword}_{pages}.{export_format.lower()}\"\n",
    "                \n",
    "                if export_format == \"CSV\":\n",
    "                    csv_data = data.to_csv(index=False)\n",
    "                    st.download_button(\"Download CSV\", data=csv_data, file_name=file_name, mime=\"text/csv\")\n",
    "                elif export_format == \"XLSX\":\n",
    "                    xlsx_data = data.to_excel(index=False, engine='openpyxl')\n",
    "                    st.download_button(\"Download XLSX\", data=xlsx_data, file_name=file_name, mime=\"application/vnd.openxmlformats-officedocument.spreadsheetml.sheet\")\n",
    "                else:  # JSON\n",
    "                    json_data = data.to_json(orient='records')\n",
    "                    st.download_button(\"Download JSON\", data=json_data, file_name=file_name, mime=\"application/json\")\n",
    "                \n",
    "                st.success(\"Scraping completed!\")\n",
    "            else:\n",
    "                st.error(\"No data scraped.\")\n"
   ]
  },
  {
   "cell_type": "code",
   "execution_count": 22,
   "id": "85e31ebf",
   "metadata": {},
   "outputs": [
    {
     "ename": "RuntimeError",
     "evalue": "asyncio.run() cannot be called from a running event loop",
     "output_type": "error",
     "traceback": [
      "\u001b[1;31m---------------------------------------------------------------------------\u001b[0m",
      "\u001b[1;31mRuntimeError\u001b[0m                              Traceback (most recent call last)",
      "Cell \u001b[1;32mIn[22], line 2\u001b[0m\n\u001b[0;32m      1\u001b[0m \u001b[38;5;28;01mif\u001b[39;00m \u001b[38;5;18m__name__\u001b[39m \u001b[38;5;241m==\u001b[39m \u001b[38;5;124m'\u001b[39m\u001b[38;5;124m__main__\u001b[39m\u001b[38;5;124m'\u001b[39m:\n\u001b[1;32m----> 2\u001b[0m     \u001b[43masyncio\u001b[49m\u001b[38;5;241;43m.\u001b[39;49m\u001b[43mrun\u001b[49m\u001b[43m(\u001b[49m\u001b[43mmain\u001b[49m\u001b[43m(\u001b[49m\u001b[43m)\u001b[49m\u001b[43m)\u001b[49m\n",
      "File \u001b[1;32mC:\\Program Files\\WindowsApps\\PythonSoftwareFoundation.Python.3.10_3.10.3056.0_x64__qbz5n2kfra8p0\\lib\\asyncio\\runners.py:33\u001b[0m, in \u001b[0;36mrun\u001b[1;34m(main, debug)\u001b[0m\n\u001b[0;32m      9\u001b[0m \u001b[38;5;250m\u001b[39m\u001b[38;5;124;03m\"\"\"Execute the coroutine and return the result.\u001b[39;00m\n\u001b[0;32m     10\u001b[0m \n\u001b[0;32m     11\u001b[0m \u001b[38;5;124;03mThis function runs the passed coroutine, taking care of\u001b[39;00m\n\u001b[1;32m   (...)\u001b[0m\n\u001b[0;32m     30\u001b[0m \u001b[38;5;124;03m    asyncio.run(main())\u001b[39;00m\n\u001b[0;32m     31\u001b[0m \u001b[38;5;124;03m\"\"\"\u001b[39;00m\n\u001b[0;32m     32\u001b[0m \u001b[38;5;28;01mif\u001b[39;00m events\u001b[38;5;241m.\u001b[39m_get_running_loop() \u001b[38;5;129;01mis\u001b[39;00m \u001b[38;5;129;01mnot\u001b[39;00m \u001b[38;5;28;01mNone\u001b[39;00m:\n\u001b[1;32m---> 33\u001b[0m     \u001b[38;5;28;01mraise\u001b[39;00m \u001b[38;5;167;01mRuntimeError\u001b[39;00m(\n\u001b[0;32m     34\u001b[0m         \u001b[38;5;124m\"\u001b[39m\u001b[38;5;124masyncio.run() cannot be called from a running event loop\u001b[39m\u001b[38;5;124m\"\u001b[39m)\n\u001b[0;32m     36\u001b[0m \u001b[38;5;28;01mif\u001b[39;00m \u001b[38;5;129;01mnot\u001b[39;00m coroutines\u001b[38;5;241m.\u001b[39miscoroutine(main):\n\u001b[0;32m     37\u001b[0m     \u001b[38;5;28;01mraise\u001b[39;00m \u001b[38;5;167;01mValueError\u001b[39;00m(\u001b[38;5;124m\"\u001b[39m\u001b[38;5;124ma coroutine was expected, got \u001b[39m\u001b[38;5;132;01m{!r}\u001b[39;00m\u001b[38;5;124m\"\u001b[39m\u001b[38;5;241m.\u001b[39mformat(main))\n",
      "\u001b[1;31mRuntimeError\u001b[0m: asyncio.run() cannot be called from a running event loop"
     ]
    }
   ],
   "source": [
    "if __name__ == '__main__':\n",
    "    asyncio.run(main())"
   ]
  },
  {
   "cell_type": "code",
   "execution_count": 31,
   "id": "138670c0",
   "metadata": {},
   "outputs": [
    {
     "name": "stdout",
     "output_type": "stream",
     "text": [
      "Collecting selenium\n",
      "  Downloading selenium-4.34.2-py3-none-any.whl.metadata (7.5 kB)\n",
      "Requirement already satisfied: urllib3~=2.5.0 in c:\\users\\m.s.i\\appdata\\local\\packages\\pythonsoftwarefoundation.python.3.10_qbz5n2kfra8p0\\localcache\\local-packages\\python310\\site-packages (from urllib3[socks]~=2.5.0->selenium) (2.5.0)\n",
      "Collecting trio~=0.30.0 (from selenium)\n",
      "  Downloading trio-0.30.0-py3-none-any.whl.metadata (8.5 kB)\n",
      "Collecting trio-websocket~=0.12.2 (from selenium)\n",
      "  Downloading trio_websocket-0.12.2-py3-none-any.whl.metadata (5.1 kB)\n",
      "Requirement already satisfied: certifi>=2025.6.15 in c:\\users\\m.s.i\\appdata\\local\\packages\\pythonsoftwarefoundation.python.3.10_qbz5n2kfra8p0\\localcache\\local-packages\\python310\\site-packages (from selenium) (2025.8.3)\n",
      "Requirement already satisfied: typing_extensions~=4.14.0 in c:\\users\\m.s.i\\appdata\\local\\packages\\pythonsoftwarefoundation.python.3.10_qbz5n2kfra8p0\\localcache\\local-packages\\python310\\site-packages (from selenium) (4.14.1)\n",
      "Collecting websocket-client~=1.8.0 (from selenium)\n",
      "  Downloading websocket_client-1.8.0-py3-none-any.whl.metadata (8.0 kB)\n",
      "Requirement already satisfied: attrs>=23.2.0 in c:\\users\\m.s.i\\appdata\\local\\packages\\pythonsoftwarefoundation.python.3.10_qbz5n2kfra8p0\\localcache\\local-packages\\python310\\site-packages (from trio~=0.30.0->selenium) (25.3.0)\n",
      "Collecting sortedcontainers (from trio~=0.30.0->selenium)\n",
      "  Downloading sortedcontainers-2.4.0-py2.py3-none-any.whl.metadata (10 kB)\n",
      "Requirement already satisfied: idna in c:\\users\\m.s.i\\appdata\\local\\packages\\pythonsoftwarefoundation.python.3.10_qbz5n2kfra8p0\\localcache\\local-packages\\python310\\site-packages (from trio~=0.30.0->selenium) (3.10)\n",
      "Collecting outcome (from trio~=0.30.0->selenium)\n",
      "  Downloading outcome-1.3.0.post0-py2.py3-none-any.whl.metadata (2.6 kB)\n",
      "Requirement already satisfied: sniffio>=1.3.0 in c:\\users\\m.s.i\\appdata\\local\\packages\\pythonsoftwarefoundation.python.3.10_qbz5n2kfra8p0\\localcache\\local-packages\\python310\\site-packages (from trio~=0.30.0->selenium) (1.3.1)\n",
      "Collecting cffi>=1.14 (from trio~=0.30.0->selenium)\n",
      "  Downloading cffi-1.17.1-cp310-cp310-win_amd64.whl.metadata (1.6 kB)\n",
      "Requirement already satisfied: exceptiongroup in c:\\users\\m.s.i\\appdata\\local\\packages\\pythonsoftwarefoundation.python.3.10_qbz5n2kfra8p0\\localcache\\local-packages\\python310\\site-packages (from trio~=0.30.0->selenium) (1.3.0)\n",
      "Collecting wsproto>=0.14 (from trio-websocket~=0.12.2->selenium)\n",
      "  Downloading wsproto-1.2.0-py3-none-any.whl.metadata (5.6 kB)\n",
      "Collecting pysocks!=1.5.7,<2.0,>=1.5.6 (from urllib3[socks]~=2.5.0->selenium)\n",
      "  Downloading PySocks-1.7.1-py3-none-any.whl.metadata (13 kB)\n",
      "Collecting pycparser (from cffi>=1.14->trio~=0.30.0->selenium)\n",
      "  Using cached pycparser-2.22-py3-none-any.whl.metadata (943 bytes)\n",
      "Requirement already satisfied: h11<1,>=0.9.0 in c:\\users\\m.s.i\\appdata\\local\\packages\\pythonsoftwarefoundation.python.3.10_qbz5n2kfra8p0\\localcache\\local-packages\\python310\\site-packages (from wsproto>=0.14->trio-websocket~=0.12.2->selenium) (0.16.0)\n",
      "Downloading selenium-4.34.2-py3-none-any.whl (9.4 MB)\n",
      "   ---------------------------------------- 0.0/9.4 MB ? eta -:--:--\n",
      "   -------- ------------------------------- 2.1/9.4 MB 14.7 MB/s eta 0:00:01\n",
      "   ---------------- ----------------------- 3.9/9.4 MB 11.2 MB/s eta 0:00:01\n",
      "   ------------------------------- -------- 7.3/9.4 MB 13.3 MB/s eta 0:00:01\n",
      "   ---------------------------------------- 9.4/9.4 MB 13.0 MB/s  0:00:00\n",
      "Downloading trio-0.30.0-py3-none-any.whl (499 kB)\n",
      "Downloading trio_websocket-0.12.2-py3-none-any.whl (21 kB)\n",
      "Downloading PySocks-1.7.1-py3-none-any.whl (16 kB)\n",
      "Downloading websocket_client-1.8.0-py3-none-any.whl (58 kB)\n",
      "Downloading cffi-1.17.1-cp310-cp310-win_amd64.whl (181 kB)\n",
      "Downloading outcome-1.3.0.post0-py2.py3-none-any.whl (10 kB)\n",
      "Downloading wsproto-1.2.0-py3-none-any.whl (24 kB)\n",
      "Using cached pycparser-2.22-py3-none-any.whl (117 kB)\n",
      "Downloading sortedcontainers-2.4.0-py2.py3-none-any.whl (29 kB)\n",
      "Installing collected packages: sortedcontainers, wsproto, websocket-client, pysocks, pycparser, outcome, cffi, trio, trio-websocket, selenium\n",
      "\n",
      "   ---- -----------------------------------  1/10 [wsproto]\n",
      "   -------- -------------------------------  2/10 [websocket-client]\n",
      "   -------- -------------------------------  2/10 [websocket-client]\n",
      "   ------------ ---------------------------  3/10 [pysocks]\n",
      "   ---------------- -----------------------  4/10 [pycparser]\n",
      "   ---------------- -----------------------  4/10 [pycparser]\n",
      "   ------------------------ ---------------  6/10 [cffi]\n",
      "   ------------------------ ---------------  6/10 [cffi]\n",
      "   ---------------------------- -----------  7/10 [trio]\n",
      "   ---------------------------- -----------  7/10 [trio]\n",
      "   ---------------------------- -----------  7/10 [trio]\n",
      "   ---------------------------- -----------  7/10 [trio]\n",
      "   ---------------------------- -----------  7/10 [trio]\n",
      "   ---------------------------- -----------  7/10 [trio]\n",
      "   ---------------------------- -----------  7/10 [trio]\n",
      "   ---------------------------- -----------  7/10 [trio]\n",
      "   ---------------------------- -----------  7/10 [trio]\n",
      "   ---------------------------- -----------  7/10 [trio]\n",
      "   ---------------------------- -----------  7/10 [trio]\n",
      "   ---------------------------- -----------  7/10 [trio]\n",
      "   ---------------------------- -----------  7/10 [trio]\n",
      "   ---------------------------- -----------  7/10 [trio]\n",
      "   ------------------------------------ ---  9/10 [selenium]\n",
      "   ------------------------------------ ---  9/10 [selenium]\n",
      "   ------------------------------------ ---  9/10 [selenium]\n",
      "   ------------------------------------ ---  9/10 [selenium]\n",
      "   ------------------------------------ ---  9/10 [selenium]\n",
      "   ------------------------------------ ---  9/10 [selenium]\n",
      "   ------------------------------------ ---  9/10 [selenium]\n",
      "   ------------------------------------ ---  9/10 [selenium]\n",
      "   ------------------------------------ ---  9/10 [selenium]\n",
      "   ------------------------------------ ---  9/10 [selenium]\n",
      "   ------------------------------------ ---  9/10 [selenium]\n",
      "   ------------------------------------ ---  9/10 [selenium]\n",
      "   ------------------------------------ ---  9/10 [selenium]\n",
      "   ------------------------------------ ---  9/10 [selenium]\n",
      "   ------------------------------------ ---  9/10 [selenium]\n",
      "   ------------------------------------ ---  9/10 [selenium]\n",
      "   ------------------------------------ ---  9/10 [selenium]\n",
      "   ------------------------------------ ---  9/10 [selenium]\n",
      "   ------------------------------------ ---  9/10 [selenium]\n",
      "   ------------------------------------ ---  9/10 [selenium]\n",
      "   ------------------------------------ ---  9/10 [selenium]\n",
      "   ------------------------------------ ---  9/10 [selenium]\n",
      "   ------------------------------------ ---  9/10 [selenium]\n",
      "   ------------------------------------ ---  9/10 [selenium]\n",
      "   ------------------------------------ ---  9/10 [selenium]\n",
      "   ------------------------------------ ---  9/10 [selenium]\n",
      "   ------------------------------------ ---  9/10 [selenium]\n",
      "   ------------------------------------ ---  9/10 [selenium]\n",
      "   ------------------------------------ ---  9/10 [selenium]\n",
      "   ---------------------------------------- 10/10 [selenium]\n",
      "\n",
      "Successfully installed cffi-1.17.1 outcome-1.3.0.post0 pycparser-2.22 pysocks-1.7.1 selenium-4.34.2 sortedcontainers-2.4.0 trio-0.30.0 trio-websocket-0.12.2 websocket-client-1.8.0 wsproto-1.2.0\n",
      "Note: you may need to restart the kernel to use updated packages.\n"
     ]
    }
   ],
   "source": [
    "pip install selenium"
   ]
  },
  {
   "cell_type": "code",
   "execution_count": 33,
   "id": "426b9561",
   "metadata": {},
   "outputs": [],
   "source": [
    "import re\n",
    "import string\n",
    "import selenium\n",
    "from selenium import webdriver\n",
    "from selenium.webdriver.common.by import By\n",
    "from selenium.webdriver.support.ui import WebDriverWait\n",
    "from selenium.webdriver.support import expected_conditions as EC\n",
    "import pandas as pd\n",
    "from random import randint\n",
    "from time import sleep\n",
    "import pandas as pd"
   ]
  },
  {
   "cell_type": "code",
   "execution_count": 35,
   "id": "73914aee",
   "metadata": {},
   "outputs": [
    {
     "name": "stdout",
     "output_type": "stream",
     "text": [
      "Collecting xmltodict\n",
      "  Downloading xmltodict-0.14.2-py2.py3-none-any.whl.metadata (8.0 kB)\n",
      "Downloading xmltodict-0.14.2-py2.py3-none-any.whl (10.0 kB)\n",
      "Installing collected packages: xmltodict\n",
      "Successfully installed xmltodict-0.14.2\n",
      "Note: you may need to restart the kernel to use updated packages.\n"
     ]
    }
   ],
   "source": [
    "pip install xmltodict"
   ]
  },
  {
   "cell_type": "code",
   "execution_count": 36,
   "id": "213be99e",
   "metadata": {},
   "outputs": [],
   "source": [
    "import urllib3\n",
    "import pandas as pd\n",
    "import xmltodict"
   ]
  },
  {
   "cell_type": "code",
   "execution_count": 38,
   "id": "cfcdd305",
   "metadata": {},
   "outputs": [],
   "source": [
    "http = urllib3.PoolManager()"
   ]
  },
  {
   "cell_type": "code",
   "execution_count": 40,
   "id": "158129b3",
   "metadata": {},
   "outputs": [],
   "source": [
    "url = \"https://lampung.tribunnews.com/search?q=dtsen&cx=partner-pub-016364a8b29784e5c&cof=FORID%3A10&ie=UTF-8&siteurl=www.tribunnews.com#gsc.tab=0&gsc.q=dtsen&gsc.page=1\" \n",
    "    \n",
    "resp = http.request('GET', url)\n"
   ]
  },
  {
   "cell_type": "code",
   "execution_count": 43,
   "id": "1591310c",
   "metadata": {},
   "outputs": [
    {
     "data": {
      "text/plain": [
       "b'\\n<!DOCTYPE html>\\n<html lang=en>\\n  <meta charset=\"UTF-8\">\\n  <meta name=\"viewport\" content=\"width=device-width\">\\n  <title>TribunNews.com - 403</title>\\n  <link rel=\"shortcut icon\" href=\"https://asset-1.tstatic.net/img/icon/tribun-icon_32.png\" />\\n  <link rel=\"apple-touch-icon-precomposed\" href=\"https://asset-1.tstatic.net/img/icon/tribun-icon_128.png\"/>\\n  <link rel=\"stylesheet\" href=\"https://maxcdn.bootstrapcdn.com/font-awesome/4.5.0/css/font-awesome.min.css\">\\n  <style>\\n@import url(\"https://fonts.googleapis.com/css?family=Oswald:400,700\");* {box-sizing: border-box;margin: 0;padding: 0;}html {height: 100%;}body {background: #fff;font-family: \"Oswald\", sans-serif;}a {color: #016fba;text-decoration: none;}.container {position: absolute;top: 50%;left: 50%;transform: translate(-50%, -50%);display: flex;flex-direction: column;align-items: center;}@media (max-width: 650px) {.container {width: 85%;}}.container .header {color: #fb3958;font-size: 4em;font-weight: 700;text-align: center;text-shadow: 2px 2px 5px #027dd1;}@media (max-width: 650px) {.container .header {font-size: 2.7em;}}.compcontainer {padding: 1rem 0 0;}.compcontainerlogo img {width: 100%;filter: drop-shadow(0 5px 5px rgba(0, 0, 0, .3));}.compcontainerlogo, .compcontainersvg {text-align: center;}.compcontainer svg {max-width: 100%;max-height: 100%;}.instructions {text-align: center;width: 80%;height: auto;padding: 1rem;margin: 0 auto;}@media (max-width: 650px) {.instructions {width: 100%;}}.instructions h2 {font-size: 1.25em;line-height: 1.3;color: #fb3958;}@media (max-width: 650px) {.instructions h2 {font-size: 1.05em;}}.instructions p {font-size: 1.15em;line-height: 1.5;color: #122125;}@media (max-width: 650px) {.instructions p {font-size: 1em;}}.instructions .step {display: flex;flex-direction: row;width: 100%;margin: 0.5rem 0;}.instructions .step .icon {width: 1.25rem;align-self: center;}@media (max-width: 650px) {.instructions .step .icon {width: 1rem;height: 1rem;}}.instructions .step p {display: inline-block;width: 80%;line-height: 1.5;padding-left: 0.5rem;}.step form {width: 100%;}.step input {width: 100%;padding: .8rem;border: 1px solid #333;border-radius: 5px;}.search{height: 40px;border-radius: 40px;padding: 10px;border: 1px solid #106fba;margin-top: 20px;background-color: #fff;}.search form:hover > .search-txt{width: 250px;padding: 0 10px;color: #222;}.search-btn{color: #fb3958;background: transparent;float: right;display: flex;justify-content: center;align-items: center;outline: none;border: none;font-size: 18px;cursor: pointer;}.search-txt{border: none;background: none;outline: none;float: left;padding: 0;font-size: 14px;transition: ease-in 0.4s;line-height: inherit;width: 200px;}\\n</style>\\n</head>\\n<body>\\n<div class=\"container\">\\n\\t<div class=\"compcontainer\">\\n\\t\\t<div class=\"compcontainerlogo\">\\n\\t\\t\\t<a href=\"https://www.tribunnews.com\">\\n\\t\\t\\t\\t<img src=\"https://asset-1.tstatic.net/img/logo/tribun/svg/tribunnews.svg\" alt=\"Logo Tribunnews\" width=\"240\" height=\"\" border=\"0\" />\\n\\t\\t\\t</a>\\n\\t\\t</div>\\n\\t\\t<div class=\"compcontainersvg\">\\n\\t\\t\\t<svg alt=\"Mencari-cari kesalahan\" width=\"151px\" height=\"140px\" viewbox=\"0 0 151 140\" version=\"1.1\" xmlns=\"http://www.w3.org/2000/svg\" xmlns:xlink=\"http://www.w3.org/1999/xlink\"><title>Lagi liatin aja dulu</title><g id=\"Well shoot...\" stroke=\"none\" stroke-width=\"1\" fill=\"none\" fill-rule=\"evenodd\"><g transform=\"translate(-31.000000, -40.000000)\"><g transform=\"translate(31.000000, 40.000000)\"><rect id=\"exclaim-1\" fill=\"#584B86\" x=\"22\" y=\"0\" width=\"2\" height=\"14\" rx=\"1\"/><rect id=\"exclaim-2\" fill=\"#584B86\" transform=\"translate(7.000000, 23.000000) rotate(90.000000) translate(-7.000000, -23.000000) \" x=\"6\" y=\"16\" width=\"2\" height=\"14\" rx=\"1\"/><rect id=\"exclaim-3\" fill=\"#584B86\" transform=\"translate(12.000000, 12.000000) rotate(-45.000000) translate(-12.000000, -12.000000) \" x=\"11\" y=\"5\" width=\"2\" height=\"14\" rx=\"1\"/><ellipse id=\"shadow\" fill=\"#000000\" opacity=\"0.08\" cx=\"79\" cy=\"129.5\" rx=\"72\" ry=\"10.5\"/><rect id=\"body\" fill=\"#FFFFFF\" x=\"22\" y=\"22\" width=\"114\" height=\"106\" rx=\"9\"/><polygon id=\"toolbar\" fill=\"#CDCADD\" points=\"23 47 79 47 135 47 135 32 135 29 132 25 128 23 29.9948981 23 26 25 24 27 23 30\"/><circle id=\"toolbar-button-1\" stroke=\"#584B86\" stroke-width=\"2\" fill=\"#FFFFFF\" cx=\"33.5\" cy=\"34.5\" r=\"2.5\"/><circle id=\"toolbar-button-2\" stroke=\"#584B86\" stroke-width=\"2\" fill=\"#FFFFFF\" cx=\"43.5\" cy=\"34.5\" r=\"2.5\"/><circle id=\"toolbar-button-3\" stroke=\"#584B86\" stroke-width=\"2\" fill=\"#FFFFFF\" cx=\"53.5\" cy=\"34.5\" r=\"2.5\"/><rect id=\"toolbar-border-bottom\" fill=\"#584B86\" x=\"22\" y=\"45\" width=\"114\" height=\"2\"/><rect id=\"toolbar-shadow\" fill=\"#000000\" opacity=\"0.08\" x=\"24\" y=\"47\" width=\"110\" height=\"2\"/><rect id=\"window-border\" stroke=\"#584B86\" stroke-width=\"2\" x=\"23\" y=\"23\" width=\"112\" height=\"104\" rx=\"9\"/><g id=\"eyes\"><ellipse id=\"eye-left\" fill=\"#584B86\" cx=\"56.5\" cy=\"72.5\" rx=\"3.5\" ry=\"3.5\"><animate attributename=\"ry\" repeatcount=\"indefinite\" fill=\"freeze\" values=\"3.5;3.5;3.5;3.5;3.5;3.5;3.5;3.5;3.5;3.5;3.5;3.5;3.5;3.5;3.5;3.5;3.5;3.5;3.5;3.5;3.5;3.5;0.5;2\" from=\"3.5\" to=\"0.5\" dur=\"3s\" id=\"leftEyeAnim\" d=\"leftEyeAnim\"/></ellipse><ellipse id=\"eye-right\" fill=\"#584B86\" cx=\"101.5\" cy=\"72.5\" rx=\"3.5\" ry=\"3.5\"><animate attributename=\"ry\" repeatcount=\"indefinite\" fill=\"remove\" values=\"3.5;3.5;3.5;3.5;3.5;3.5;3.5;3.5;3.5;3.5;3.5;3.5;3.5;3.5;3.5;3.5;3.5;3.5;3.5;3.5;3.5;3.5;0.5;2\" from=\"3.5\" to=\"0.5\" dur=\"3s\"/>\\t</ellipse><animatemotion dur=\"6s\" fill=\"freeze\" calcmode=\"linear\" repeatcount=\"indefinite\" keypoints=\"0; 0; 0; 0; 0; 0; 0.25; 0.25; 0.25; 0.75; 0.75; 0.75; 0.75; 1; 1\" keytimes=\" 0; 0.1; 0.2; 0.3; 0.4; 0.5; 0.6; 0.65; 0.7; 0.75; 0.8; 0.825; 0.85; 0.9; 1\" path=\" M 0 0 C 5 2, 5 2, 12 0 C 0 3, 0 3, -10 0 H 0 \"/><rect id=\"mouth\" fill=\"#584B86\" x=\"65\" y=\"94\" width=\"28\" height=\"2\" rx=\"1\"/></g></g></g></g></svg>\\n\\t\\t</div>\\n\\t</div>\\n\\t<h1 class=\"header\">403</h1>\\n\\t<div class=\"instructions\">\\n\\t\\t<p>You don\\'t have permission for this request.</p>\\t\\t\\n\\t</div>\\n\\t<div class=\"search\">\\n\\t\\t<form action=\"https://www.tribunnews.com/search\" id=\"cse-search-box\">\\n\\t\\t    <input class=\"search-txt\" type=\"text\" name=\"q\" placeholder=\"Cari Berita\">\\n\\t\\t    <input type=\"hidden\" name=\"cx\" value=\"partner-pub-7486139053367666:4965051114\" />\\n\\t\\t    <input type=\"hidden\" name=\"cof\" value=\"FORID:10\" />\\n\\t\\t    <input type=\"hidden\" name=\"ie\" value=\"UTF-8\" />\\n\\t\\t\\t<input type=\"hidden\" name=\"siteurl\" value=\"www.tribunnews.com\" />\\n\\t\\t    <button type=\"submit\" class=\"search-btn\">\\n\\t\\t       <i class=\"fa fa-search\"></i>\\n\\t\\t    </button>\\n\\t\\t</form>\\n\\t</div>\\n</body>\\n</html>'"
      ]
     },
     "execution_count": 43,
     "metadata": {},
     "output_type": "execute_result"
    }
   ],
   "source": [
    "resp.data"
   ]
  },
  {
   "cell_type": "code",
   "execution_count": 45,
   "id": "c55cc42d",
   "metadata": {},
   "outputs": [],
   "source": [
    "parser = HTMLParser(resp.data)"
   ]
  },
  {
   "cell_type": "code",
   "execution_count": null,
   "id": "3998c42a",
   "metadata": {},
   "outputs": [
    {
     "data": {
      "text/plain": [
       "<HTMLParser chars=6600>"
      ]
     },
     "execution_count": 46,
     "metadata": {},
     "output_type": "execute_result"
    }
   ],
   "source": [
    "parser.data"
   ]
  },
  {
   "cell_type": "code",
   "execution_count": 47,
   "id": "d07b6b1a",
   "metadata": {},
   "outputs": [],
   "source": [
    "paragraphs = [p.text() for p in parser.css('div.detail__body-text > p')]"
   ]
  },
  {
   "cell_type": "code",
   "execution_count": 51,
   "id": "095d8e93",
   "metadata": {},
   "outputs": [
    {
     "data": {
      "text/plain": [
       "[]"
      ]
     },
     "execution_count": 51,
     "metadata": {},
     "output_type": "execute_result"
    }
   ],
   "source": [
    "parser.css('div.detail__body-text > p')"
   ]
  },
  {
   "cell_type": "code",
   "execution_count": 42,
   "id": "f404a0de",
   "metadata": {},
   "outputs": [
    {
     "ename": "ExpatError",
     "evalue": "not well-formed (invalid token): line 3, column 11",
     "output_type": "error",
     "traceback": [
      "\u001b[1;31m---------------------------------------------------------------------------\u001b[0m",
      "\u001b[1;31mExpatError\u001b[0m                                Traceback (most recent call last)",
      "Cell \u001b[1;32mIn[42], line 1\u001b[0m\n\u001b[1;32m----> 1\u001b[0m data \u001b[38;5;241m=\u001b[39m \u001b[43mxmltodict\u001b[49m\u001b[38;5;241;43m.\u001b[39;49m\u001b[43mparse\u001b[49m\u001b[43m(\u001b[49m\u001b[43mresp\u001b[49m\u001b[38;5;241;43m.\u001b[39;49m\u001b[43mdata\u001b[49m\u001b[43m)\u001b[49m\n",
      "File \u001b[1;32m~\\AppData\\Local\\Packages\\PythonSoftwareFoundation.Python.3.10_qbz5n2kfra8p0\\LocalCache\\local-packages\\Python310\\site-packages\\xmltodict.py:359\u001b[0m, in \u001b[0;36mparse\u001b[1;34m(xml_input, encoding, expat, process_namespaces, namespace_separator, disable_entities, process_comments, **kwargs)\u001b[0m\n\u001b[0;32m    357\u001b[0m     parser\u001b[38;5;241m.\u001b[39mParse(\u001b[38;5;124mb\u001b[39m\u001b[38;5;124m'\u001b[39m\u001b[38;5;124m'\u001b[39m, \u001b[38;5;28;01mTrue\u001b[39;00m)\n\u001b[0;32m    358\u001b[0m \u001b[38;5;28;01melse\u001b[39;00m:\n\u001b[1;32m--> 359\u001b[0m     \u001b[43mparser\u001b[49m\u001b[38;5;241;43m.\u001b[39;49m\u001b[43mParse\u001b[49m\u001b[43m(\u001b[49m\u001b[43mxml_input\u001b[49m\u001b[43m,\u001b[49m\u001b[43m \u001b[49m\u001b[38;5;28;43;01mTrue\u001b[39;49;00m\u001b[43m)\u001b[49m\n\u001b[0;32m    360\u001b[0m \u001b[38;5;28;01mreturn\u001b[39;00m handler\u001b[38;5;241m.\u001b[39mitem\n",
      "\u001b[1;31mExpatError\u001b[0m: not well-formed (invalid token): line 3, column 11"
     ]
    }
   ],
   "source": [
    "data = xmltodict.parse(resp.data)"
   ]
  },
  {
   "cell_type": "code",
   "execution_count": 52,
   "id": "977b9cf5",
   "metadata": {},
   "outputs": [
    {
     "name": "stdout",
     "output_type": "stream",
     "text": [
      "Collecting beautifulsoup4\n",
      "  Downloading beautifulsoup4-4.13.4-py3-none-any.whl.metadata (3.8 kB)\n",
      "Collecting soupsieve>1.2 (from beautifulsoup4)\n",
      "  Downloading soupsieve-2.7-py3-none-any.whl.metadata (4.6 kB)\n",
      "Requirement already satisfied: typing-extensions>=4.0.0 in c:\\users\\m.s.i\\appdata\\local\\packages\\pythonsoftwarefoundation.python.3.10_qbz5n2kfra8p0\\localcache\\local-packages\\python310\\site-packages (from beautifulsoup4) (4.14.1)\n",
      "Downloading beautifulsoup4-4.13.4-py3-none-any.whl (187 kB)\n",
      "Downloading soupsieve-2.7-py3-none-any.whl (36 kB)\n",
      "Installing collected packages: soupsieve, beautifulsoup4\n",
      "\n",
      "   -------------------- ------------------- 1/2 [beautifulsoup4]\n",
      "   -------------------- ------------------- 1/2 [beautifulsoup4]\n",
      "   -------------------- ------------------- 1/2 [beautifulsoup4]\n",
      "   -------------------- ------------------- 1/2 [beautifulsoup4]\n",
      "   ---------------------------------------- 2/2 [beautifulsoup4]\n",
      "\n",
      "Successfully installed beautifulsoup4-4.13.4 soupsieve-2.7\n",
      "Note: you may need to restart the kernel to use updated packages.\n"
     ]
    }
   ],
   "source": [
    "pip install beautifulsoup4"
   ]
  },
  {
   "cell_type": "code",
   "execution_count": 53,
   "id": "9ce925d1",
   "metadata": {},
   "outputs": [],
   "source": [
    "import requests\n",
    "from bs4 import BeautifulSoup"
   ]
  },
  {
   "cell_type": "code",
   "execution_count": null,
   "id": "fa663a07",
   "metadata": {},
   "outputs": [
    {
     "ename": "NameError",
     "evalue": "name 'rows' is not defined",
     "output_type": "error",
     "traceback": [
      "\u001b[1;31m---------------------------------------------------------------------------\u001b[0m",
      "\u001b[1;31mNameError\u001b[0m                                 Traceback (most recent call last)",
      "Cell \u001b[1;32mIn[55], line 4\u001b[0m\n\u001b[0;32m      2\u001b[0m res \u001b[38;5;241m=\u001b[39m requests\u001b[38;5;241m.\u001b[39mget(url)\n\u001b[0;32m      3\u001b[0m html \u001b[38;5;241m=\u001b[39m BeautifulSoup(res\u001b[38;5;241m.\u001b[39mcontent, \u001b[38;5;124m\"\u001b[39m\u001b[38;5;124mhtml.parser\u001b[39m\u001b[38;5;124m\"\u001b[39m)\n\u001b[1;32m----> 4\u001b[0m divs \u001b[38;5;241m=\u001b[39m \u001b[43mrows\u001b[49m\u001b[38;5;241m.\u001b[39mfindAll(\u001b[38;5;124m\"\u001b[39m\u001b[38;5;124mdiv\u001b[39m\u001b[38;5;124m\"\u001b[39m, class_ \u001b[38;5;241m=\u001b[39m \u001b[38;5;124m\"\u001b[39m\u001b[38;5;124mbsh ovh \u001b[39m\u001b[38;5;124m\"\u001b[39m)\n",
      "\u001b[1;31mNameError\u001b[0m: name 'rows' is not defined"
     ]
    }
   ],
   "source": [
    "url = \"https://lampung.tribunnews.com/search?q=dtsen&cx=partner-pub-016364a8b29784e5c&cof=FORID%3A10&ie=UTF-8&siteurl=www.tribunnews.com#gsc.tab=0&gsc.q=dtsen&gsc.page=1\"\n",
    "res = requests.get(url)\n",
    "html = BeautifulSoup(res.content, \"html.parser\")\n",
    "# divs = rows.findAll(\"div\", class_ = \"bsh ovh \")"
   ]
  },
  {
   "cell_type": "code",
   "execution_count": 56,
   "id": "6ed53c22",
   "metadata": {},
   "outputs": [
    {
     "data": {
      "text/plain": [
       "\n",
       "<!DOCTYPE html>\n",
       "\n",
       "<html lang=\"en\">\n",
       "<meta charset=\"utf-8\"/>\n",
       "<meta content=\"width=device-width\" name=\"viewport\"/>\n",
       "<title>TribunNews.com - 403</title>\n",
       "<link href=\"https://asset-1.tstatic.net/img/icon/tribun-icon_32.png\" rel=\"shortcut icon\"/>\n",
       "<link href=\"https://asset-1.tstatic.net/img/icon/tribun-icon_128.png\" rel=\"apple-touch-icon-precomposed\"/>\n",
       "<link href=\"https://maxcdn.bootstrapcdn.com/font-awesome/4.5.0/css/font-awesome.min.css\" rel=\"stylesheet\"/>\n",
       "<style>\n",
       "@import url(\"https://fonts.googleapis.com/css?family=Oswald:400,700\");* {box-sizing: border-box;margin: 0;padding: 0;}html {height: 100%;}body {background: #fff;font-family: \"Oswald\", sans-serif;}a {color: #016fba;text-decoration: none;}.container {position: absolute;top: 50%;left: 50%;transform: translate(-50%, -50%);display: flex;flex-direction: column;align-items: center;}@media (max-width: 650px) {.container {width: 85%;}}.container .header {color: #fb3958;font-size: 4em;font-weight: 700;text-align: center;text-shadow: 2px 2px 5px #027dd1;}@media (max-width: 650px) {.container .header {font-size: 2.7em;}}.compcontainer {padding: 1rem 0 0;}.compcontainerlogo img {width: 100%;filter: drop-shadow(0 5px 5px rgba(0, 0, 0, .3));}.compcontainerlogo, .compcontainersvg {text-align: center;}.compcontainer svg {max-width: 100%;max-height: 100%;}.instructions {text-align: center;width: 80%;height: auto;padding: 1rem;margin: 0 auto;}@media (max-width: 650px) {.instructions {width: 100%;}}.instructions h2 {font-size: 1.25em;line-height: 1.3;color: #fb3958;}@media (max-width: 650px) {.instructions h2 {font-size: 1.05em;}}.instructions p {font-size: 1.15em;line-height: 1.5;color: #122125;}@media (max-width: 650px) {.instructions p {font-size: 1em;}}.instructions .step {display: flex;flex-direction: row;width: 100%;margin: 0.5rem 0;}.instructions .step .icon {width: 1.25rem;align-self: center;}@media (max-width: 650px) {.instructions .step .icon {width: 1rem;height: 1rem;}}.instructions .step p {display: inline-block;width: 80%;line-height: 1.5;padding-left: 0.5rem;}.step form {width: 100%;}.step input {width: 100%;padding: .8rem;border: 1px solid #333;border-radius: 5px;}.search{height: 40px;border-radius: 40px;padding: 10px;border: 1px solid #106fba;margin-top: 20px;background-color: #fff;}.search form:hover > .search-txt{width: 250px;padding: 0 10px;color: #222;}.search-btn{color: #fb3958;background: transparent;float: right;display: flex;justify-content: center;align-items: center;outline: none;border: none;font-size: 18px;cursor: pointer;}.search-txt{border: none;background: none;outline: none;float: left;padding: 0;font-size: 14px;transition: ease-in 0.4s;line-height: inherit;width: 200px;}\n",
       "</style>\n",
       "\n",
       "<body>\n",
       "<div class=\"container\">\n",
       "<div class=\"compcontainer\">\n",
       "<div class=\"compcontainerlogo\">\n",
       "<a href=\"https://www.tribunnews.com\">\n",
       "<img alt=\"Logo Tribunnews\" border=\"0\" height=\"\" src=\"https://asset-1.tstatic.net/img/logo/tribun/svg/tribunnews.svg\" width=\"240\"/>\n",
       "</a>\n",
       "</div>\n",
       "<div class=\"compcontainersvg\">\n",
       "<svg alt=\"Mencari-cari kesalahan\" height=\"140px\" version=\"1.1\" viewbox=\"0 0 151 140\" width=\"151px\" xmlns=\"http://www.w3.org/2000/svg\" xmlns:xlink=\"http://www.w3.org/1999/xlink\"><title>Lagi liatin aja dulu</title><g fill=\"none\" fill-rule=\"evenodd\" id=\"Well shoot...\" stroke=\"none\" stroke-width=\"1\"><g transform=\"translate(-31.000000, -40.000000)\"><g transform=\"translate(31.000000, 40.000000)\"><rect fill=\"#584B86\" height=\"14\" id=\"exclaim-1\" rx=\"1\" width=\"2\" x=\"22\" y=\"0\"></rect><rect fill=\"#584B86\" height=\"14\" id=\"exclaim-2\" rx=\"1\" transform=\"translate(7.000000, 23.000000) rotate(90.000000) translate(-7.000000, -23.000000) \" width=\"2\" x=\"6\" y=\"16\"></rect><rect fill=\"#584B86\" height=\"14\" id=\"exclaim-3\" rx=\"1\" transform=\"translate(12.000000, 12.000000) rotate(-45.000000) translate(-12.000000, -12.000000) \" width=\"2\" x=\"11\" y=\"5\"></rect><ellipse cx=\"79\" cy=\"129.5\" fill=\"#000000\" id=\"shadow\" opacity=\"0.08\" rx=\"72\" ry=\"10.5\"></ellipse><rect fill=\"#FFFFFF\" height=\"106\" id=\"body\" rx=\"9\" width=\"114\" x=\"22\" y=\"22\"></rect><polygon fill=\"#CDCADD\" id=\"toolbar\" points=\"23 47 79 47 135 47 135 32 135 29 132 25 128 23 29.9948981 23 26 25 24 27 23 30\"></polygon><circle cx=\"33.5\" cy=\"34.5\" fill=\"#FFFFFF\" id=\"toolbar-button-1\" r=\"2.5\" stroke=\"#584B86\" stroke-width=\"2\"></circle><circle cx=\"43.5\" cy=\"34.5\" fill=\"#FFFFFF\" id=\"toolbar-button-2\" r=\"2.5\" stroke=\"#584B86\" stroke-width=\"2\"></circle><circle cx=\"53.5\" cy=\"34.5\" fill=\"#FFFFFF\" id=\"toolbar-button-3\" r=\"2.5\" stroke=\"#584B86\" stroke-width=\"2\"></circle><rect fill=\"#584B86\" height=\"2\" id=\"toolbar-border-bottom\" width=\"114\" x=\"22\" y=\"45\"></rect><rect fill=\"#000000\" height=\"2\" id=\"toolbar-shadow\" opacity=\"0.08\" width=\"110\" x=\"24\" y=\"47\"></rect><rect height=\"104\" id=\"window-border\" rx=\"9\" stroke=\"#584B86\" stroke-width=\"2\" width=\"112\" x=\"23\" y=\"23\"></rect><g id=\"eyes\"><ellipse cx=\"56.5\" cy=\"72.5\" fill=\"#584B86\" id=\"eye-left\" rx=\"3.5\" ry=\"3.5\"><animate attributename=\"ry\" d=\"leftEyeAnim\" dur=\"3s\" fill=\"freeze\" from=\"3.5\" id=\"leftEyeAnim\" repeatcount=\"indefinite\" to=\"0.5\" values=\"3.5;3.5;3.5;3.5;3.5;3.5;3.5;3.5;3.5;3.5;3.5;3.5;3.5;3.5;3.5;3.5;3.5;3.5;3.5;3.5;3.5;3.5;0.5;2\"></animate></ellipse><ellipse cx=\"101.5\" cy=\"72.5\" fill=\"#584B86\" id=\"eye-right\" rx=\"3.5\" ry=\"3.5\"><animate attributename=\"ry\" dur=\"3s\" fill=\"remove\" from=\"3.5\" repeatcount=\"indefinite\" to=\"0.5\" values=\"3.5;3.5;3.5;3.5;3.5;3.5;3.5;3.5;3.5;3.5;3.5;3.5;3.5;3.5;3.5;3.5;3.5;3.5;3.5;3.5;3.5;3.5;0.5;2\"></animate> </ellipse><animatemotion calcmode=\"linear\" dur=\"6s\" fill=\"freeze\" keypoints=\"0; 0; 0; 0; 0; 0; 0.25; 0.25; 0.25; 0.75; 0.75; 0.75; 0.75; 1; 1\" keytimes=\" 0; 0.1; 0.2; 0.3; 0.4; 0.5; 0.6; 0.65; 0.7; 0.75; 0.8; 0.825; 0.85; 0.9; 1\" path=\" M 0 0 C 5 2, 5 2, 12 0 C 0 3, 0 3, -10 0 H 0 \" repeatcount=\"indefinite\"></animatemotion><rect fill=\"#584B86\" height=\"2\" id=\"mouth\" rx=\"1\" width=\"28\" x=\"65\" y=\"94\"></rect></g></g></g></g></svg>\n",
       "</div>\n",
       "</div>\n",
       "<h1 class=\"header\">403</h1>\n",
       "<div class=\"instructions\">\n",
       "<p>You don't have permission for this request.</p>\n",
       "</div>\n",
       "<div class=\"search\">\n",
       "<form action=\"https://www.tribunnews.com/search\" id=\"cse-search-box\">\n",
       "<input class=\"search-txt\" name=\"q\" placeholder=\"Cari Berita\" type=\"text\"/>\n",
       "<input name=\"cx\" type=\"hidden\" value=\"partner-pub-7486139053367666:4965051114\">\n",
       "<input name=\"cof\" type=\"hidden\" value=\"FORID:10\"/>\n",
       "<input name=\"ie\" type=\"hidden\" value=\"UTF-8\"/>\n",
       "<input name=\"siteurl\" type=\"hidden\" value=\"www.tribunnews.com\"/>\n",
       "<button class=\"search-btn\" type=\"submit\">\n",
       "<i class=\"fa fa-search\"></i>\n",
       "</button>\n",
       "</input></form>\n",
       "</div>\n",
       "</div></body>\n",
       "</html>"
      ]
     },
     "execution_count": 56,
     "metadata": {},
     "output_type": "execute_result"
    }
   ],
   "source": [
    "html"
   ]
  }
 ],
 "metadata": {
  "kernelspec": {
   "display_name": "Python 3",
   "language": "python",
   "name": "python3"
  },
  "language_info": {
   "codemirror_mode": {
    "name": "ipython",
    "version": 3
   },
   "file_extension": ".py",
   "mimetype": "text/x-python",
   "name": "python",
   "nbconvert_exporter": "python",
   "pygments_lexer": "ipython3",
   "version": "3.10.11"
  }
 },
 "nbformat": 4,
 "nbformat_minor": 5
}
